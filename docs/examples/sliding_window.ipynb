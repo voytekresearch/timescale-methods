{
 "cells": [
  {
   "cell_type": "code",
   "execution_count": 1,
   "id": "39e720d2-bcfc-441f-945d-3a5d0c144617",
   "metadata": {},
   "outputs": [],
   "source": [
    "import os\n",
    "import re\n",
    "from tqdm.notebook import tqdm\n",
    "import time\n",
    "\n",
    "import matplotlib.pyplot as plt\n",
    "import numpy as np\n",
    "import pandas as pd\n",
    "\n",
    "from mne.io import read_raw_edf\n",
    "from neurodsp.sim import sim_oscillation, sim_powerlaw, sim_knee\n",
    "from neurodsp.spectral import compute_spectrum\n",
    "from neurodsp.utils.norm import normalize_sig\n",
    "\n",
    "from timescales.sim import sim_lorentzian\n",
    "from timescales.fit import PSD"
   ]
  },
  {
   "cell_type": "markdown",
   "id": "fee807c1-1a56-446d-980f-1bcecdbdabbd",
   "metadata": {},
   "source": [
    "# Overview\n",
    "\n",
    "This notebook trains a linear model to predict aperiodic parameters using low power. Every 20th spectra is used to train a linear model to predict aperiodic parameters given log power. The linear model is 1430x faster than specparam, but slightly less accurate (mean r-squared 0.906 vs specparams's 0.914). This means that for 95% of spectra in the dataset, a single matrix vector product is required to predict each spectral parameter. This method can be used to accelerate sliding window spectral parameterization or used to provide accurate parameter guesses prior to optimization."
   ]
  },
  {
   "cell_type": "markdown",
   "id": "3e1c5a1c-fe28-4532-a00b-90df0042254b",
   "metadata": {},
   "source": [
    "## Load Data\n",
    "\n",
    "Skip to next section for analysis and results.\n",
    "\n",
    "This data is human intracranial sleep/wake."
   ]
  },
  {
   "cell_type": "code",
   "execution_count": 2,
   "id": "01315231-1c54-48c1-9d3b-6ae6d6fa4046",
   "metadata": {},
   "outputs": [],
   "source": [
    "# Load region and channel info\n",
    "rpath = '/Users/ryanhammonds/projects/data/sleep2/Information/RegionInformation.csv'\n",
    "regions = pd.read_csv(rpath)\n",
    "\n",
    "cpath = '/Users/ryanhammonds/projects/data/sleep2/Information/ChannelInformation.csv'\n",
    "ch_info = pd.read_csv(cpath)\n",
    "\n",
    "# Remove single quotes from channel names\n",
    "ch_info['Channel name'] = [i[1:-1] for i in ch_info['Channel name']]\n",
    "\n",
    "# Get row inds and channel names\n",
    "rinds = [(i, j) for i, j in ch_info['Region'].items()]\n",
    "inds = [i[0] for i in rinds]\n",
    "rinds = [i[1] for i in rinds]\n",
    "\n",
    "select = [i[1:-1] for i in ch_info.iloc[inds]['Channel name']]\n",
    "select.sort()\n",
    "\n",
    "# List of file names\n",
    "files = os.listdir('/Users/ryanhammonds/projects/data/sleep2/data')\n",
    "files_noext  = [i[:-5] for i in files]\n",
    "\n",
    "# Sort\n",
    "inds = np.argsort(files_noext)\n",
    "files_noext = np.array(files_noext)[inds]\n",
    "files = np.array(files)[inds]\n",
    "\n",
    "# Filter for Dixi intracerebral electrodes (largest sample size)\n",
    "files_filt = []\n",
    "regions_inds = []\n",
    "\n",
    "for i, f in enumerate(files_noext):\n",
    "    \n",
    "    if f[1] == 'D':\n",
    "        ind = (ch_info['Channel name'] == f).values\n",
    "        regions_inds.append(ch_info[ind]['Region'].values[0])\n",
    "        files_filt.append(files[i])\n",
    "        \n",
    "regions_inds = np.array(regions_inds)\n",
    "\n",
    "# Convert list of file strings to one concat string\n",
    "file_str = ''\n",
    "for f in files:\n",
    "    file_str += f\n",
    "    \n",
    "ch_files = {\n",
    "    'wake':{'files':[], 'coords':[]},\n",
    "    'nrem2':{'files':[], 'coords':[]},\n",
    "    'nrem3':{'files':[], 'coords':[]},\n",
    "    'rem':{'files':[], 'coords':[]}\n",
    "}\n",
    "\n",
    "trial_lookup = {'W': 'wake', 'N': 'nrem2', 'D': 'nrem3', 'R': 'rem'}\n",
    "\n",
    "regions = []\n",
    "\n",
    "inds = []\n",
    "\n",
    "for i, ch in enumerate(ch_info['Channel name'].values):\n",
    "    m = re.search(ch + '.\\.edf', file_str)\n",
    "    \n",
    "    if m is not None:\n",
    "        \n",
    "        fstr = m.group()\n",
    "        trial = fstr[-5]\n",
    "        \n",
    "        if trial == 'R':\n",
    "            # skip rem sleep\n",
    "            continue\n",
    "            \n",
    "        key = trial_lookup[trial]\n",
    "            \n",
    "        ch_files[key]['files'].append(fstr)\n",
    "\n",
    "        ch_files[key]['coords'].append(\n",
    "            (ch_info.iloc[i].x, ch_info.iloc[i].y, ch_info.iloc[i].z)\n",
    "        )\n",
    "        \n",
    "        regions.append(ch_info.iloc[i].Region)\n",
    "        \n",
    "        inds.append(i)"
   ]
  },
  {
   "cell_type": "code",
   "execution_count": 3,
   "id": "48be2115-b4a9-404f-a240-ff96b53c5d14",
   "metadata": {},
   "outputs": [
    {
     "data": {
      "application/vnd.jupyter.widget-view+json": {
       "model_id": "d753095fd8ad4ffdb2676a851909664b",
       "version_major": 2,
       "version_minor": 0
      },
      "text/plain": [
       "  0%|          | 0/312 [00:00<?, ?it/s]"
      ]
     },
     "metadata": {},
     "output_type": "display_data"
    }
   ],
   "source": [
    "base_path = '/Users/ryanhammonds/projects/data/sleep2/data/'\n",
    "\n",
    "fs = 200\n",
    "\n",
    "wake_files = ch_files['wake']['files']\n",
    "nrem_files = [*ch_files['nrem2']['files'], *ch_files['nrem3']['files']]\n",
    "\n",
    "n_wake_files = len(wake_files)\n",
    "n_nrem_files = len(nrem_files)\n",
    "\n",
    "wake_taus = np.zeros(n_wake_files)\n",
    "wake_rsq = np.zeros(n_wake_files)\n",
    "\n",
    "nrem_taus = np.zeros(n_nrem_files)\n",
    "nrem_rsq = np.zeros(n_nrem_files)\n",
    "\n",
    "sigs_wake = []\n",
    "for i, f in tqdm(enumerate(wake_files), total=len(wake_files)):\n",
    "    \n",
    "    edf = read_raw_edf(base_path + f, verbose=False)\n",
    "    \n",
    "    sig = edf.get_data()[0]\n",
    "    sig = normalize_sig(sig, 0, 1)\n",
    "    sigs_wake.append(sig)"
   ]
  },
  {
   "cell_type": "markdown",
   "id": "889df4b9-0be8-40bc-904e-9d0cd2ca5ce8",
   "metadata": {},
   "source": [
    "## Modeling\n",
    "\n",
    "Train a linear model to predict spectral parameters. Every 20th spectra is used to train a linear model to predict aperiodic parameters."
   ]
  },
  {
   "cell_type": "code",
   "execution_count": 4,
   "id": "e52e3081-59bb-4dde-930c-17b810766105",
   "metadata": {},
   "outputs": [],
   "source": [
    "from statsmodels.regression.linear_model import burg\n",
    "from sklearn.linear_model import LinearRegression\n",
    "from sklearn.svm import SVR\n",
    "from sklearn.preprocessing import StandardScaler\n",
    "\n",
    "def fit(X, y_train, inds_train, inds_test):\n",
    "    \n",
    "    X_train = X[inds_train]\n",
    "    X_test = X[inds_test]\n",
    "    \n",
    "    X_train = StandardScaler().fit_transform(X_train)\n",
    "    X_test = StandardScaler().fit_transform(X_test)\n",
    "    \n",
    "    lr = LinearRegression(n_jobs=-1)\n",
    "    lr.fit(X_train, y_train)\n",
    "    \n",
    "    return lr"
   ]
  },
  {
   "cell_type": "code",
   "execution_count": 5,
   "id": "99422c8f-e7da-4b37-bc86-992e7fca69f6",
   "metadata": {},
   "outputs": [],
   "source": [
    "# 4 second epochs\n",
    "sigs = np.array(sigs_wake).reshape(-1, 800) \n",
    "\n",
    "# Drop windows with low variance (e.g. constant values at edges)\n",
    "sigs = sigs[np.var(sigs, axis=1) > .01]\n",
    "\n",
    "# PSD\n",
    "freqs, powers = compute_spectrum(np.array(sigs), fs)"
   ]
  },
  {
   "cell_type": "code",
   "execution_count": 6,
   "id": "c9c8ee45-d185-4149-8d9a-1cd7d9964eba",
   "metadata": {},
   "outputs": [],
   "source": [
    "X = np.log10(powers)\n",
    "\n",
    "inds = np.arange(len(X))\n",
    "inds_train = inds[::20]\n",
    "inds_test = np.array([i for i in inds if i not in inds_train])"
   ]
  },
  {
   "cell_type": "code",
   "execution_count": 7,
   "id": "aa63d9d6-487a-446f-a435-aedff48c56bc",
   "metadata": {},
   "outputs": [
    {
     "data": {
      "application/vnd.jupyter.widget-view+json": {
       "model_id": "4a8a0ed9557f496eba2e09603ecf38a4",
       "version_major": 2,
       "version_minor": 0
      },
      "text/plain": [
       "Fitting PSD:   0%|                                                                                            …"
      ]
     },
     "metadata": {},
     "output_type": "display_data"
    }
   ],
   "source": [
    "# Get target params for training\n",
    "psd = PSD()\n",
    "psd.fit(freqs, powers[inds_train], progress=\"tqdm.notebook\")"
   ]
  },
  {
   "cell_type": "code",
   "execution_count": 8,
   "id": "75e5c42f-557a-4ac4-80b9-1ad135aba816",
   "metadata": {},
   "outputs": [],
   "source": [
    "# Fit linear models to predict aperiodic parameters: offset, knee, exp, constant\n",
    "lr0 = fit(X, psd.params[:, 0], inds_train, inds_test)\n",
    "lr1 = fit(X, psd.params[:, 1], inds_train, inds_test)\n",
    "lr2 = fit(X, psd.params[:, 2], inds_train, inds_test)\n",
    "lr3 = fit(X, psd.params[:, 3], inds_train, inds_test)"
   ]
  },
  {
   "cell_type": "code",
   "execution_count": 9,
   "id": "71e01a12-846c-4aec-8883-6f3ff1ccc6fb",
   "metadata": {},
   "outputs": [],
   "source": [
    "# Get aperiodic parameters via linear models\n",
    "X = np.log10(powers)\n",
    "\n",
    "X_test = X[inds_test]\n",
    "X_test = StandardScaler().fit_transform(X_test)\n",
    "\n",
    "def predict_params(X, lr0, lr1, lr2, lr3):\n",
    "    phat = np.vstack((\n",
    "        lr0.predict(X),\n",
    "        lr1.predict(X),\n",
    "        lr2.predict(X),\n",
    "        lr3.predict(X)\n",
    "    )).T\n",
    "    return phat\n",
    "\n",
    "phat = predict_params(X_test, lr0, lr1, lr2, lr3)\n",
    "\n",
    "# Enforce positive bounds for knee and constant params\n",
    "phat[:, 1][phat[:, 1] < 0] = 1e-8\n",
    "phat[:, 3][phat[:, 3] < 0] = 1e-8"
   ]
  },
  {
   "cell_type": "code",
   "execution_count": 10,
   "id": "5169ff9a-1c96-49fa-83ba-60f2c9b10904",
   "metadata": {},
   "outputs": [],
   "source": [
    "# Get PSDs of linearly predicted params\n",
    "powers_test_pred = np.array([sim_lorentzian(freqs, *p[[1, 2, 0, 3]]) for p in phat])\n",
    "\n",
    "# Get specparam's params (e.g. \"true\" values)\n",
    "powers_test = powers[inds_test]\n",
    "psd_train = PSD()\n",
    "psd_train.fit(freqs, powers_test, method='fooof', fooof_init={'max_n_peaks':0}, n_jobs=-1)"
   ]
  },
  {
   "cell_type": "code",
   "execution_count": 11,
   "id": "e64475cd-f479-4df9-8092-85f2800afc0b",
   "metadata": {},
   "outputs": [
    {
     "data": {
      "image/png": "[encoded data removed]",
      "text/plain": [
       "<Figure size 640x480 with 1 Axes>"
      ]
     },
     "metadata": {},
     "output_type": "display_data"
    }
   ],
   "source": [
    "rsq_lin = np.array([np.corrcoef(i, j)[0][1]**2\n",
    "                    for i, j in zip(np.log10(powers_test_pred[:, 1:]), np.log10(powers_test[:, 1:]))])\n",
    "plt.hist(rsq_lin, bins=100, alpha=.5, density=True, label='Power R^2 for Linear Model Predictions')\n",
    "\n",
    "rsq_sp = np.array([np.corrcoef(i, j)[0][1]**2 \n",
    "                   for i, j in zip(np.log10(psd_train.powers_fit), np.log10(powers_test[:, 1:]))])\n",
    "plt.hist(rsq_sp, bins=100, alpha=.5, density=True, label='Power R^2 for SpecParam Fit');\n",
    "\n",
    "plt.title('R-Squared')\n",
    "plt.xlim(0.5, 1.)\n",
    "plt.legend();"
   ]
  },
  {
   "cell_type": "code",
   "execution_count": 12,
   "id": "bdd8fd97-8f2f-4619-95d4-9beed0e76f3b",
   "metadata": {},
   "outputs": [
    {
     "name": "stdout",
     "output_type": "stream",
     "text": [
      "SpecParam Runtime:  21076.208114624023  ms\n",
      "SpecParam R^2:  0.9142825584514275  ms\n"
     ]
    }
   ],
   "source": [
    "s = time.time()\n",
    "psd_train = PSD()\n",
    "psd_train.fit(freqs, powers_test, method='fooof', fooof_init={'max_n_peaks':0})\n",
    "e = time.time()\n",
    "sp_run = (e-s)*1000\n",
    "print('SpecParam Runtime: ', sp_run, ' ms')\n",
    "print('SpecParam R^2: ', rsq_sp.mean(), ' ms')"
   ]
  },
  {
   "cell_type": "code",
   "execution_count": 15,
   "id": "93ebe4f5-a5f0-482c-9b08-7b74eaee50fa",
   "metadata": {},
   "outputs": [
    {
     "name": "stdout",
     "output_type": "stream",
     "text": [
      "LinReg Runtime:  14.734983444213867  ms\n",
      "LinReg R^2:  0.9063069545269192  ms\n"
     ]
    }
   ],
   "source": [
    "s = time.time()\n",
    "predict_params(X_test, lr0, lr1, lr2, lr3)\n",
    "e = time.time()\n",
    "lr_run = (e-s)*1000\n",
    "print('LinReg Runtime: ', lr_run, ' ms')\n",
    "print('LinReg R^2: ', rsq_lin.mean(), ' ms')"
   ]
  },
  {
   "cell_type": "code",
   "execution_count": 16,
   "id": "57735f31-50fc-44dc-adea-d4bc3ec92566",
   "metadata": {},
   "outputs": [
    {
     "name": "stdout",
     "output_type": "stream",
     "text": [
      "Linear Regression is 1430.3516657767423 times faster\n"
     ]
    }
   ],
   "source": [
    "print(f'Linear Regression is {sp_run/lr_run} times faster')"
   ]
  }
 ],
 "metadata": {
  "kernelspec": {
   "display_name": "Python 3 (ipykernel)",
   "language": "python",
   "name": "python3"
  },
  "language_info": {
   "codemirror_mode": {
    "name": "ipython",
    "version": 3
   },
   "file_extension": ".py",
   "mimetype": "text/x-python",
   "name": "python",
   "nbconvert_exporter": "python",
   "pygments_lexer": "ipython3",
   "version": "3.11.5"
  }
 },
 "nbformat": 4,
 "nbformat_minor": 5
}
