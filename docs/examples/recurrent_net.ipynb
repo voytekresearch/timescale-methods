{
 "cells": [
  {
   "cell_type": "code",
   "execution_count": 1,
   "id": "426c010d",
   "metadata": {},
   "outputs": [],
   "source": [
    "from multiprocessing import Pool\n",
    "from functools import partial\n",
    "from tqdm.notebook import tqdm\n",
    "\n",
    "import matplotlib.pyplot as plt\n",
    "import numpy as np\n",
    "import torch\n",
    "from torch import nn\n",
    "\n",
    "from neurodsp.sim import sim_synaptic_kernel\n",
    "\n",
    "from timescales import sim\n",
    "from timescales.fit import PSD\n",
    "from timescales.conversions import convert_knee"
   ]
  },
  {
   "cell_type": "markdown",
   "id": "40eb289e",
   "metadata": {},
   "source": [
    "# Welch's PSD vs AR-PSD vs RNN\n",
    "\n",
    "This notebook compares timescales estimates as knee frequency, between fitting a PSD using Welch's and AR PSD, and a recurrent neural net (RNN) configured similar to AR models. The RNN has a persistent hidden state that is learned by sliding a window across the signal and followed by a few linear layers with ReLU activations beteen. The objective of the RNN is minimizing loss of predicted knee frequency."
   ]
  },
  {
   "cell_type": "code",
   "execution_count": 2,
   "id": "72d910f3",
   "metadata": {},
   "outputs": [],
   "source": [
    "class RNN(torch.nn.Module):\n",
    "    \"\"\"Recurrent neural net.\"\"\"\n",
    "    \n",
    "    def __init__(self, input_dim, hidden_dim, layer_dim, output_dim):\n",
    "        \n",
    "        super(RNN, self).__init__()\n",
    "        \n",
    "        # Hidden dimensions\n",
    "        self.hidden_dim = hidden_dim\n",
    "        self.layer_dim = layer_dim\n",
    "        self.output_dim = output_dim\n",
    "        \n",
    "        # RNN\n",
    "        self.rnn0 = torch.nn.RNN(input_dim, hidden_dim, layer_dim, batch_first=True)\n",
    "        \n",
    "        # Linear layers with non-linear activations\n",
    "        self.fc0 = torch.nn.Linear(hidden_dim, hidden_dim*2)\n",
    "        self.relu0 = torch.nn.ReLU()\n",
    "        self.fc1 = torch.nn.Linear(hidden_dim*2, hidden_dim//2)\n",
    "        self.relu1 = torch.nn.ReLU()\n",
    "        self.fc2 = torch.nn.Linear(hidden_dim//2, output_dim)\n",
    "\n",
    "        \n",
    "    def forward(self, X):\n",
    "        \n",
    "        out, hn = self.rnn0(X)\n",
    "        out = self.fc0(out[:, -1]) \n",
    "        out = self.relu0(out)\n",
    "        out = self.fc1(out)\n",
    "        out = self.relu1(out)\n",
    "        out = self.fc2(out)\n",
    "        \n",
    "        return out\n",
    "    \n",
    "    \n",
    "class RNNTrain:\n",
    "    \"\"\"Class to train and test a RNN.\"\"\"\n",
    "    def __init__(self, input_dim, hidden_dim, layer_dim, output_dim):\n",
    "        \n",
    "        self.input_dim = input_dim\n",
    "        self.hidden_dim = hidden_dim\n",
    "        self.layer_dim = layer_dim\n",
    "        self.output_dim = output_dim\n",
    "        self.knee_freq = None\n",
    "        \n",
    "        \n",
    "    def train(self, X, y, lr=.001, n_epochs=1000, batch_size=32):\n",
    "        \"\"\"Train the model.\"\"\"\n",
    "        \n",
    "        model = RNN(self.input_dim, self.hidden_dim,\n",
    "                    self.layer_dim, self.output_dim)\n",
    "        \n",
    "        # Optimizer & loss\n",
    "        optimizer = torch.optim.Adam(model.parameters(), lr=lr)\n",
    "        loss_func = torch.nn.L1Loss()\n",
    "        \n",
    "        n_batches = int(np.floor(X.size(0)/batch_size))\n",
    "        \n",
    "        for i in tqdm(range(n_epochs)):\n",
    "\n",
    "            inds = np.arange(len(X_train)).astype(int)\n",
    "            np.random.shuffle(inds)\n",
    "\n",
    "            X = X[inds]\n",
    "            y = y[inds]\n",
    "            \n",
    "            for j in range(n_batches):\n",
    "\n",
    "                # Reset gradient\n",
    "                optimizer.zero_grad()\n",
    "                \n",
    "                # Slice batch\n",
    "                X_batch = X[j*batch_size:(j+1)*batch_size]\n",
    "                y_batch = y[j*batch_size:(j+1)*batch_size]\n",
    "                y_batch = y_batch.reshape(batch_size, -1)\n",
    "\n",
    "                # Forward\n",
    "                out = model(X_batch)\n",
    "\n",
    "                # Loss\n",
    "                loss = loss_func(out.squeeze(), y_batch.squeeze())\n",
    "\n",
    "                # Backprop\n",
    "                loss.backward()\n",
    "\n",
    "                # Step params\n",
    "                optimizer.step()\n",
    "\n",
    "            if i % 50 == 0:\n",
    "                print('Epoch: {}, Loss: {}'.format(i, loss.item()))\n",
    "        \n",
    "        torch.save(model.state_dict(), 'rnn_model')\n",
    "        \n",
    "        \n",
    "    def fit(self, X):\n",
    "        \"\"\"Fit AR input.\"\"\"\n",
    "        \n",
    "        model = RNN(self.input_dim, self.hidden_dim,\n",
    "                    self.layer_dim, self.output_dim)\n",
    "        \n",
    "        model.load_state_dict(torch.load('rnn_model'))\n",
    "        \n",
    "\n",
    "        if X.ndim == 2:\n",
    "            X = X.reshape(1, *X.shape)\n",
    "  \n",
    "        if isinstance(X, np.ndarray):\n",
    "            X = torch.tensor(X.astype(np.float32))\n",
    "\n",
    "        self.knee_freq = model(X).detach().numpy()[0][0]"
   ]
  },
  {
   "cell_type": "code",
   "execution_count": 3,
   "id": "3df58e0b",
   "metadata": {},
   "outputs": [],
   "source": [
    "# Functions\n",
    "def sample(ys):\n",
    "    \"\"\"Sample spikes.\"\"\"\n",
    "    return ys > np.random.rand(len(ys))\n",
    " \n",
    "def bin_spikes(ys, fs, bin_size):\n",
    "    \"\"\"Bin spikes.\"\"\"\n",
    "    ys, _ = sim.bin_spikes(ys, fs, bin_size, 0, 1)\n",
    "    return ys\n",
    "\n",
    "def to_ar(X, n_seconds, fs, bin_size, order):\n",
    "    \"\"\"Convert array to an AR problem.\"\"\"\n",
    "    \n",
    "    n_windows = int(n_seconds * fs//bin_size) - order\n",
    "    X_reshape = np.zeros((n_windows, order), dtype=np.float32)\n",
    "    \n",
    "    for j in range(order, len(X)):\n",
    "        X_reshape[j-order] = X[j-order:j]\n",
    "    \n",
    "    X_reshape = X_reshape.swapaxes(0, 1)\n",
    "    X_reshape = X_reshape.reshape(1, *X_reshape.shape)\n",
    "    \n",
    "    return X_reshape\n",
    "\n",
    "def sim_spikes(i, n_seconds=None, fs=None, bin_size=None,\n",
    "               n_iters=None, order=None, knees=None):\n",
    "    \"\"\"Simulate spikes in parallel.\"\"\"\n",
    "    \n",
    "    knee = knees[i]\n",
    "    tau = convert_knee(knee)\n",
    "    kernel = sim_synaptic_kernel(5 * tau, fs, 0, tau)\n",
    "\n",
    "    n_windows = int(n_seconds * fs//bin_size) - order\n",
    "    X_train_reshape = np.zeros((n_windows, order))\n",
    "\n",
    "    # Get spike probability\n",
    "    np.random.seed(10000+i) \n",
    "    X_train = sim.sim_spikes_prob(n_seconds, fs, kernel)\n",
    "    \n",
    "    # Sample spikes\n",
    "    X_train = sample(X_train)\n",
    "    \n",
    "    # Bin spikes\n",
    "    X_train = bin_spikes(X_train, fs, bin_size)\n",
    "\n",
    "    # Convert array to an AR problem\n",
    "    for j in range(order, len(X_train)):\n",
    "        X_train_reshape[j-order] = X_train[j-order:j]\n",
    "        \n",
    "    return X_train_reshape"
   ]
  },
  {
   "cell_type": "markdown",
   "id": "4fa094d1",
   "metadata": {},
   "source": [
    "## Simulation\n",
    "\n",
    "Knees are simulated as a random normal distribution around 20 Hz, with a standard deviation of 5 Hz, in 2 second signal. The goal is for each estimation method to recover the simulated knee. The training and testing seeds are disjointed (no seeds in common)."
   ]
  },
  {
   "cell_type": "code",
   "execution_count": 4,
   "id": "d279ddd3",
   "metadata": {},
   "outputs": [
    {
     "data": {
      "image/png": "[encoded data removed]",
      "text/plain": [
       "<Figure size 640x480 with 1 Axes>"
      ]
     },
     "metadata": {},
     "output_type": "display_data"
    }
   ],
   "source": [
    "# Settings\n",
    "n_seconds = 2\n",
    "fs = 10000\n",
    "bin_size = 20\n",
    "order = 5\n",
    "\n",
    "# Knees\n",
    "np.random.seed(0)\n",
    "plt.title('Distribution of Simulated Knees')\n",
    "knees = np.random.normal(20, 5, size=1000)\n",
    "plt.hist(knees);"
   ]
  },
  {
   "cell_type": "markdown",
   "id": "3de6e82b",
   "metadata": {},
   "source": [
    "## Train\n",
    "\n",
    "Below, the RNN is trained on 1000 independent instances. This is slow due to a high sampling rate required for binning spiking simulations."
   ]
  },
  {
   "cell_type": "code",
   "execution_count": 5,
   "id": "fd35aa3a",
   "metadata": {},
   "outputs": [
    {
     "data": {
      "application/json": {
       "ascii": false,
       "bar_format": null,
       "colour": null,
       "elapsed": 0.030885696411132812,
       "initial": 0,
       "n": 0,
       "ncols": null,
       "nrows": 70,
       "postfix": null,
       "prefix": "",
       "rate": null,
       "total": 1000,
       "unit": "it",
       "unit_divisor": 1000,
       "unit_scale": false
      },
      "application/vnd.jupyter.widget-view+json": {
       "model_id": "9583c78f8033410999d6430437686f3d",
       "version_major": 2,
       "version_minor": 0
      },
      "text/plain": [
       "  0%|          | 0/1000 [00:00<?, ?it/s]"
      ]
     },
     "metadata": {},
     "output_type": "display_data"
    }
   ],
   "source": [
    "# Simulate in parallel (skip if already ran)\n",
    "n_iters = 1000\n",
    "inds = np.arange(n_iters)\n",
    "\n",
    "pfunc = partial(sim_spikes, n_seconds=n_seconds, fs=fs,\n",
    "                bin_size=bin_size, n_iters=n_iters, order=order, knees=knees)\n",
    "\n",
    "with Pool(processes=6) as pool:\n",
    "    mapping = pool.imap(pfunc, inds)\n",
    "    results = list(tqdm(mapping, total=len(inds)))\n",
    "    \n",
    "# Convert to f32 tensors\n",
    "X = np.array([i for i in results])\n",
    "X = torch.from_numpy(X.astype(np.float32))\n",
    "X = X.swapaxes(1, 2)\n",
    "\n",
    "# Get target tensor\n",
    "y = torch.from_numpy(knees.astype(np.float32).reshape(-1, 1))\n",
    "\n",
    "# Save for faster reloading\n",
    "np.save('X.npy', X.detach().numpy())\n",
    "np.save('y.npy', y.detach().numpy())"
   ]
  },
  {
   "cell_type": "code",
   "execution_count": 6,
   "id": "571ff18d",
   "metadata": {},
   "outputs": [],
   "source": [
    "# Reload\n",
    "X = torch.from_numpy(np.load('X.npy'))\n",
    "y = torch.from_numpy(np.load('y.npy'))\n",
    "\n",
    "X_train = X[:800]\n",
    "y_train = y[:800]\n",
    "\n",
    "X_test = X[800:]\n",
    "y_test = y[800:]"
   ]
  },
  {
   "cell_type": "code",
   "execution_count": 7,
   "id": "0789f3cc",
   "metadata": {
    "scrolled": false
   },
   "outputs": [
    {
     "data": {
      "application/json": {
       "ascii": false,
       "bar_format": null,
       "colour": null,
       "elapsed": 0.020812034606933594,
       "initial": 0,
       "n": 0,
       "ncols": null,
       "nrows": 70,
       "postfix": null,
       "prefix": "",
       "rate": null,
       "total": 1000,
       "unit": "it",
       "unit_divisor": 1000,
       "unit_scale": false
      },
      "application/vnd.jupyter.widget-view+json": {
       "model_id": "46cd389d44bb4a4eb0cbbce5e39cc4ec",
       "version_major": 2,
       "version_minor": 0
      },
      "text/plain": [
       "  0%|          | 0/1000 [00:00<?, ?it/s]"
      ]
     },
     "metadata": {},
     "output_type": "display_data"
    },
    {
     "name": "stdout",
     "output_type": "stream",
     "text": [
      "Epoch: 0, Loss: 5.351895809173584\n",
      "Epoch: 50, Loss: 1.383803367614746\n",
      "Epoch: 100, Loss: 1.045954942703247\n",
      "Epoch: 150, Loss: 0.9461120367050171\n",
      "Epoch: 200, Loss: 0.7507925033569336\n",
      "Epoch: 250, Loss: 0.7461069822311401\n",
      "Epoch: 300, Loss: 0.5372047424316406\n",
      "Epoch: 350, Loss: 0.47606194019317627\n",
      "Epoch: 400, Loss: 0.41487979888916016\n",
      "Epoch: 450, Loss: 0.512054443359375\n",
      "Epoch: 500, Loss: 0.3881128430366516\n",
      "Epoch: 550, Loss: 0.5845201015472412\n",
      "Epoch: 600, Loss: 0.3788730204105377\n",
      "Epoch: 650, Loss: 0.35279807448387146\n",
      "Epoch: 700, Loss: 0.5303070545196533\n",
      "Epoch: 750, Loss: 0.2989896535873413\n",
      "Epoch: 800, Loss: 0.5146409273147583\n",
      "Epoch: 850, Loss: 0.34177279472351074\n",
      "Epoch: 900, Loss: 0.4609178304672241\n",
      "Epoch: 950, Loss: 0.4130074679851532\n"
     ]
    }
   ],
   "source": [
    "# Train RNN\n",
    "input_dim = X_train.size(-1)\n",
    "hidden_dim = 64\n",
    "\n",
    "rnn = RNNTrain(input_dim, hidden_dim, 1, 1)\n",
    "rnn.train(X_train, y_train, lr=.01, n_epochs=1000, batch_size=32)"
   ]
  },
  {
   "cell_type": "markdown",
   "id": "7cfe0a1c",
   "metadata": {},
   "source": [
    "## Test\n",
    "\n",
    "Simulate new test data and fit: 1) Welch's PSD, 2) AR-PSD and 3) RNN."
   ]
  },
  {
   "cell_type": "code",
   "execution_count": 8,
   "id": "22d0175f",
   "metadata": {
    "scrolled": true
   },
   "outputs": [
    {
     "data": {
      "application/json": {
       "ascii": false,
       "bar_format": null,
       "colour": null,
       "elapsed": 0.012207269668579102,
       "initial": 0,
       "n": 0,
       "ncols": null,
       "nrows": 70,
       "postfix": null,
       "prefix": "",
       "rate": null,
       "total": 200,
       "unit": "it",
       "unit_divisor": 1000,
       "unit_scale": false
      },
      "application/vnd.jupyter.widget-view+json": {
       "model_id": "08b44ff1cb424ab59986026da351e64a",
       "version_major": 2,
       "version_minor": 0
      },
      "text/plain": [
       "  0%|          | 0/200 [00:00<?, ?it/s]"
      ]
     },
     "metadata": {},
     "output_type": "display_data"
    }
   ],
   "source": [
    "n_iters = len(X_test)\n",
    "knees_est = np.zeros((4, n_iters))\n",
    "\n",
    "for i in tqdm(range(n_iters), total=n_iters):\n",
    "    \n",
    "    x = X_test[i]\n",
    "    x = torch.hstack((x[0], x[-1][-order:]))\n",
    "    x = x.reshape(1, *x.shape)\n",
    "    \n",
    "    # Welch's\n",
    "    psd_welch = PSD()\n",
    "    psd_welch.compute_spectrum(x, fs//bin_size, nperseg=250)\n",
    "    psd_welch.fit()\n",
    "\n",
    "    # AR\n",
    "    psd_ar = PSD()\n",
    "    psd_ar.compute_spectrum(x, fs//bin_size, ar_order=order)\n",
    "    psd_ar.fit()\n",
    "    \n",
    "    # RNN\n",
    "    rnn.fit(X[i])\n",
    "    \n",
    "    # Results\n",
    "    knees_est[0, i] = psd_welch.knee_freq\n",
    "    knees_est[1, i] = psd_ar.knee_freq\n",
    "    knees_est[2, i] = rnn.knee_freq\n",
    "    knees_est[3, i] = knees[800:][i]"
   ]
  },
  {
   "cell_type": "markdown",
   "id": "ab8089f1",
   "metadata": {},
   "source": [
    "## Results\n"
   ]
  },
  {
   "cell_type": "code",
   "execution_count": 12,
   "id": "7999fe03",
   "metadata": {},
   "outputs": [
    {
     "data": {
      "image/png": "[encoded data removed]",
      "text/plain": [
       "<Figure size 640x480 with 1 Axes>"
      ]
     },
     "metadata": {},
     "output_type": "display_data"
    }
   ],
   "source": [
    "# Plot results\n",
    "pos = [1, 1.6, 2.2, 2.8]\n",
    "plt.axhline(20, ls='--', color='k', label='Mean Knee')\n",
    "plt.violinplot(knees_est[0], positions=[pos[0]])\n",
    "plt.violinplot(knees_est[1], positions=[pos[1]])\n",
    "plt.violinplot(knees_est[2], positions=[pos[2]])\n",
    "plt.violinplot(knees_est[3], positions=[pos[3]])\n",
    "\n",
    "plt.title('Knee Frequencies')\n",
    "plt.xticks(ticks=pos, labels=['Welch', 'AR', 'RNN', 'True'])\n",
    "plt.legend();"
   ]
  }
 ],
 "metadata": {
  "kernelspec": {
   "display_name": "Python 3 (ipykernel)",
   "language": "python",
   "name": "python3"
  },
  "language_info": {
   "codemirror_mode": {
    "name": "ipython",
    "version": 3
   },
   "file_extension": ".py",
   "mimetype": "text/x-python",
   "name": "python",
   "nbconvert_exporter": "python",
   "pygments_lexer": "ipython3",
   "version": "3.10.8"
  }
 },
 "nbformat": 4,
 "nbformat_minor": 5
}
