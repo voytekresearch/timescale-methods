{
 "cells": [
  {
   "cell_type": "markdown",
   "id": "a0cd6e80-865c-4558-8b8a-70a59aab9d3e",
   "metadata": {},
   "source": [
    "### Autoregressive Models\n",
    "\n",
    "Let $\\mathbf{X}$ be a matrix of lagged time series values and $\\mathbf{y}$ be a vector of p+1 values:\n",
    "$$\n",
    "    \\mathbf{X}_{m\\times p} =\n",
    "        \\left[ {\\begin{array}{ccccc}\n",
    "        x_{0} & x_{1} & x_{2} & \\cdots & x_{p}\\\\\n",
    "        x_{1} & x_{2} & x_{3} & \\cdots & x_{p+1}\\\\\n",
    "        x_{2} & x_{3} & x_{4} & \\cdots & x_{p+2}\\\\\n",
    "        \\vdots & \\vdots & \\vdots & \\ddots & \\vdots\\\\\n",
    "        x_{n-p-1} & x_{n-p} & x_{n-p+1} & \\cdots & x_{n-1}\\\\\n",
    "        \\end{array} } \\right] \\\\\n",
    "    \\mathbf{y} = \n",
    "        \\left[ {\\begin{array}{c}\n",
    "        x_{p+1} \\\\\n",
    "        x_{p+2} \\\\\n",
    "        x_{p+3} \\\\ \n",
    "        \\cdots \\\\\n",
    "        x_{n} \\\\ \n",
    "        \\end{array} } \\right] \\\\\\\\\n",
    "$$\n",
    "\n",
    "Autoregression (AR) solves for a vector of weights, $\\mathbf{b}$, that best predicts $\\mathbf{y}$.\n",
    "\n",
    "$$\n",
    "\\mathbf{X} \\mathbf{b} = \\mathbf{y}\n",
    "$$\n",
    "\n",
    "#### SVD\n",
    "Singular value decomposition (SVD) may be used to solve the pseudo inverse of $\\mathbf{X}$:\n",
    "\n",
    "$$\n",
    "\\begin{align}\n",
    "\\mathbf{b} &= \\mathbf{X}^{-1}\\mathbf{y} \\\\\n",
    "\\mathbf{b} &= \\mathbf{V}\\mathbf{\\Sigma}^{-1}\\mathbf{U}^{\\top}\\mathbf{y}\n",
    "\\end{align}\n",
    "$$\n",
    "\n",
    "\n",
    "Although SVD can solve most problems, the decomposition is solved in $O(n^2p+p^3)$ time. Large orders, $p$, drastically increses the compute time relative to other methods. Faster, but less accurate, solutions, in the case of stochastic signals, are provided by Yule-Walker or Burg's methods.\n",
    "\n",
    "#### Yule-Walker Method\n",
    "The Yule-Waker solution is unstable as the condition number of the covariance matrix ($\\mathbf{X}^{\\top}\\mathbf{X}$) increases or is near singular (e.g. not invertible). This is the case for oscillations when estimated with a large number of lags. Oscillations alone result in identical columns of $\\mathbf{X}$ and biased AR coefficients. Oscillations can also causes issues for SVD.\n",
    "\n",
    "#### Burg's Method\n",
    "Burg's solution is an iterative method that defines a forward, $\\mathbf{f}$, and backward ,$\\mathbf{b}$, shifted signal, $\\mathbf{y}$. The algorithm iterates from zero to the AR order, $p$, indexed below as $j$. The forward vector shifts the signal ahead $j$ samples and the backward vector removes samples beyond $n+j$, where $n$ is the total number of samples in the signal. During each iteration, from zero to $p$, indexed with $j$, the forward and backward vectors are defined as:\n",
    "\n",
    "$$\n",
    "\\begin{align}\n",
    "\\mathbf{f} &= \\mathbf{y}_{i}, i \\in i > j\\\\\n",
    "\\mathbf{b} &= \\mathbf{y}_{i}, i \\in i < n-j\n",
    "\\end{align}\n",
    "$$\n",
    "\n",
    "The reflection coefficient is computed as\n",
    "$$\n",
    "\\mathbf{k}_j = \\frac{-2 \\mathbf{b}^{\\top}\\mathbf{f}}{\\mathbf{f}^{\\top}\\mathbf{f} + \\mathbf{b}^{\\top}\\mathbf{b}}\n",
    "$$\n",
    "AR coefficients for the current iteration are equal to\n",
    "$$\n",
    "\\mathbf{a}_j = -\\mathbf{k}_j\n",
    "$$\n",
    "Past AR coefficients, $\\mathbf{a}_k$ are updated as\n",
    "$$\n",
    "\\mathbf{a}_k  = \\mathbf{a}_k - J(\\mathbf{a}_j) \\quad\\forall\\quad 0 < k < j\n",
    "$$\n",
    "where $J$ is an exchange matrix the reverses the order of past coeffcients $\\mathbf{a}_k$.\n",
    "\n",
    "Lastly, the forward and backward vectors are updated before moving to the next jth iteration:\n",
    "$$\n",
    "\\begin{align}\n",
    "\\mathbf{f} &+ \\mathbf{k}_{j}\\mathbf{b} \\\\\n",
    "\\mathbf{b} &+ \\mathbf{k}_{j}\\mathbf{f}\n",
    "\\end{align}\n",
    "$$\n",
    "\n",
    "\n",
    "\n",
    "#### Current\n",
    "\n",
    "This notebook compares the performance and runtime of SVD, Yule-Walker, and Burg's methods."
   ]
  },
  {
   "cell_type": "code",
   "execution_count": 1,
   "id": "96071061-c9cd-43fd-998e-8c16fa7256a4",
   "metadata": {},
   "outputs": [],
   "source": [
    "import matplotlib.pyplot as plt\n",
    "import numpy as np\n",
    "from scipy.linalg import svd\n",
    "from statsmodels.regression.linear_model import yule_walker\n",
    "from timescales.sim import sim_branching\n",
    "from timescales.autoreg import burg\n",
    "from timescales.conversions import ar_to_psd"
   ]
  },
  {
   "cell_type": "code",
   "execution_count": 2,
   "id": "40b12f63-4e65-4619-b383-a9ef94e7fb8c",
   "metadata": {},
   "outputs": [],
   "source": [
    "# Simulate\n",
    "n_seconds = 2\n",
    "fs = 1000\n",
    "tau = 0.01\n",
    "sig = sim_branching(n_seconds, fs, tau, 1000,\n",
    "                    mean=0, variance=1)\n",
    "# AR order\n",
    "p = 20\n",
    "y = sig[p:]\n",
    "\n",
    "# Fast lagging of signal\n",
    "X = np.lib.stride_tricks.as_strided(sig,\n",
    "    shape=(len(sig)-p+1, p),\n",
    "    strides=((sig.itemsize, sig.itemsize))\n",
    ")[:-1]"
   ]
  },
  {
   "cell_type": "markdown",
   "id": "852e971b-3b5b-4dca-b371-e9413c32d683",
   "metadata": {},
   "source": [
    "#### Performance\n",
    "\n",
    "SVD and Yule-Walker methods are ~100 and ~2 times slower than Burg's method, respectively. All methods are approximately equivalent in terms of MSE, however MSE SVD < MSE Burg < MSE Yule-Walker) for stochastic timescales simulations."
   ]
  },
  {
   "cell_type": "code",
   "execution_count": 3,
   "id": "7b6a6b6f-4ce6-4027-8c6e-6c95b3a3f93e",
   "metadata": {},
   "outputs": [
    {
     "name": "stdout",
     "output_type": "stream",
     "text": [
      "295 ms ± 0 ns per loop (mean ± std. dev. of 1 run, 100 loops each)\n"
     ]
    }
   ],
   "source": [
    "%%timeit -n 100 -r 1\n",
    "# SVD\n",
    "U, S, Vt = svd(X, full_matrices=False,\n",
    "               overwrite_a=False, check_finite=False)\n",
    "ar_coeffs = Vt.T @ np.diag(1/S) @ U.T @ y"
   ]
  },
  {
   "cell_type": "code",
   "execution_count": 4,
   "id": "2d53e04b-171c-4e59-a3bf-2de8899edf73",
   "metadata": {},
   "outputs": [
    {
     "name": "stdout",
     "output_type": "stream",
     "text": [
      "480 µs ± 0 ns per loop (mean ± std. dev. of 1 run, 500 loops each)\n"
     ]
    }
   ],
   "source": [
    "%%timeit -n 500 -r 1\n",
    "# Yule-Walker\n",
    "ar_coeffs, _ = yule_walker(y, order=p, demean=False)"
   ]
  },
  {
   "cell_type": "code",
   "execution_count": 5,
   "id": "0810570c-a08f-4a42-a8c2-5cfc835f6457",
   "metadata": {},
   "outputs": [
    {
     "name": "stdout",
     "output_type": "stream",
     "text": [
      "290 µs ± 0 ns per loop (mean ± std. dev. of 1 run, 500 loops each)\n"
     ]
    }
   ],
   "source": [
    "%%timeit -n 500 -r 1 \n",
    "ar_coeffs = burg(y, p, demean=False)"
   ]
  },
  {
   "cell_type": "code",
   "execution_count": 6,
   "id": "58400f03-8b4a-411a-817d-ff7f4889a345",
   "metadata": {},
   "outputs": [
    {
     "name": "stdout",
     "output_type": "stream",
     "text": [
      "MSE SVD :  0.15398259881048634\n",
      "MSE YW  :  0.15398890493224976\n",
      "MSE Burg:  0.15398818982471496\n"
     ]
    }
   ],
   "source": [
    "# SVD\n",
    "U, S, Vt = svd(X, full_matrices=False,\n",
    "               overwrite_a=False, check_finite=False)\n",
    "ar_coeffs_svd = Vt.T @ np.diag(1/S) @ U.T @ y\n",
    "\n",
    "# YW\n",
    "ar_coeffs_yw, _ = yule_walker(y, order=p, demean=False)\n",
    "\n",
    "# Burg\n",
    "ar_coeffs_burg = burg(y, p, demean=False)\n",
    "\n",
    "print(\"MSE SVD : \", (((X@ar_coeffs_svd)-y)**2).mean())\n",
    "print(\"MSE YW  : \", (((X@ar_coeffs_yw[::-1])-y)**2).mean())\n",
    "print(\"MSE Burg: \", (((X@ar_coeffs_burg[::-1])-y)**2).mean())"
   ]
  },
  {
   "cell_type": "markdown",
   "id": "0354be79-ba85-4570-84c2-002094d33254",
   "metadata": {},
   "source": [
    "#### Oscillations\n",
    "In the case of oscillations, Burg's method is the least bias estimator."
   ]
  },
  {
   "cell_type": "code",
   "execution_count": 9,
   "id": "9fc55b79-1877-44b2-bb25-59cc25a8ff66",
   "metadata": {},
   "outputs": [],
   "source": [
    "# Simulate oscillation\n",
    "n_seconds = 5\n",
    "fs = 1000\n",
    "y = np.sin(2 * np.pi * 5 * np.arange(0, n_seconds, 1/fs))\n",
    "y += np.sin(2 * np.pi * 13 * np.arange(0, n_seconds, 1/fs))\n",
    "\n",
    "# Normalize\n",
    "y = y - y.mean()\n",
    "y = y / y.std()\n",
    "\n",
    "# Lag signal\n",
    "p = 5\n",
    "\n",
    "X = np.lib.stride_tricks.as_strided(y,\n",
    "    shape=(len(y)-p+1, p),\n",
    "    strides=((y.itemsize, y.itemsize))\n",
    ")[:-1]\n",
    "\n",
    "y = y[p:]"
   ]
  },
  {
   "cell_type": "code",
   "execution_count": 10,
   "id": "e8b55292-c110-491e-9972-0ec1e8e0cb66",
   "metadata": {},
   "outputs": [
    {
     "name": "stdout",
     "output_type": "stream",
     "text": [
      "Condition Number:  -3520695029694488.0\n"
     ]
    }
   ],
   "source": [
    "# Poor conditioning -> issues for yule-walker\n",
    "eigvals = np.linalg.eigvals(X.T @ X)\n",
    "print(\"Condition Number: \", eigvals[0]/eigvals[-1])"
   ]
  },
  {
   "cell_type": "code",
   "execution_count": 11,
   "id": "60800750-21dd-4799-97c1-7b7e3a617dc9",
   "metadata": {},
   "outputs": [
    {
     "name": "stdout",
     "output_type": "stream",
     "text": [
      "MSE SVD :  1.8796005744909768e-07\n",
      "MSE YW  :  6.768135540392931e-05\n",
      "MSE Burg:  3.7804740944065134e-16\n"
     ]
    }
   ],
   "source": [
    "# SVD\n",
    "U, S, Vt = svd(X, full_matrices=False,\n",
    "               overwrite_a=False, check_finite=False)\n",
    "ar_coeffs_svd = Vt.T @ np.diag(1/S) @ U.T @ y\n",
    "\n",
    "# YW\n",
    "ar_coeffs_yw, _ = yule_walker(y, order=p, demean=False)\n",
    "\n",
    "# Burg\n",
    "ar_coeffs_burg = burg(y, p, demean=False)\n",
    "\n",
    "print(\"MSE SVD : \", (((X@ar_coeffs_svd)-y)**2).mean())\n",
    "print(\"MSE YW  : \", (((X@ar_coeffs_yw[::-1])-y)**2).mean())\n",
    "print(\"MSE Burg: \", (((X@ar_coeffs_burg[::-1])-y)**2).mean())"
   ]
  },
  {
   "cell_type": "code",
   "execution_count": 12,
   "id": "1171136f-7154-407b-9355-fa69f013b022",
   "metadata": {},
   "outputs": [
    {
     "data": {
      "image/png": "[encoded data removed]",
      "text/plain": [
       "<Figure size 640x480 with 1 Axes>"
      ]
     },
     "metadata": {},
     "output_type": "display_data"
    }
   ],
   "source": [
    "freqs, powers = ar_to_psd(ar_coeffs_svd[::-1], fs, 4096)\n",
    "powers = powers / powers.max()\n",
    "plt.loglog(freqs[1:], powers[1:], label='SVD')\n",
    "\n",
    "freqs, powers = ar_to_psd(ar_coeffs_yw, fs, 4096)\n",
    "powers = powers / powers.max()\n",
    "plt.loglog(freqs[1:], powers[1:], ls='--', label='Yule-Walker')\n",
    "\n",
    "freqs, powers = ar_to_psd(ar_coeffs_burg, fs, 4096)\n",
    "powers = powers / powers.max()\n",
    "plt.loglog(freqs[1:], powers[1:], label='Burg')\n",
    "\n",
    "plt.axvline(5, ls='--', color='k', alpha=.2, label='Simulated Freq')\n",
    "plt.axvline(13, ls='--', color='k', alpha=.2)\n",
    "\n",
    "plt.ylabel(\"Power\")\n",
    "plt.xlabel(\"Frequency\")\n",
    "plt.legend();"
   ]
  }
 ],
 "metadata": {
  "kernelspec": {
   "display_name": "Python 3 (ipykernel)",
   "language": "python",
   "name": "python3"
  },
  "language_info": {
   "codemirror_mode": {
    "name": "ipython",
    "version": 3
   },
   "file_extension": ".py",
   "mimetype": "text/x-python",
   "name": "python",
   "nbconvert_exporter": "python",
   "pygments_lexer": "ipython3",
   "version": "3.11.5"
  }
 },
 "nbformat": 4,
 "nbformat_minor": 5
}
