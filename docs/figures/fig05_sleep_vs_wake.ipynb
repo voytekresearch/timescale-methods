{
 "cells": [
  {
   "cell_type": "code",
   "execution_count": 1,
   "id": "c5fb04c7",
   "metadata": {},
   "outputs": [],
   "source": [
    "import os.path as op\n",
    "\n",
    "import matplotlib.pyplot as plt\n",
    "import seaborn as sns\n",
    "\n",
    "import numpy as np\n",
    "\n",
    "from scipy.io import loadmat\n",
    "from scipy.stats import ttest_ind, ttest_rel, pearsonr\n",
    "\n",
    "from neurodsp.utils.norm import normalize_sig\n",
    "\n",
    "from timescales.fit import PSD\n",
    "from timescales.autoreg import compute_ar_spectrum\n",
    "from timescales.plts import set_default_rc\n",
    "from timescales.utils import create_windows\n",
    "\n",
    "set_default_rc()"
   ]
  },
  {
   "cell_type": "markdown",
   "id": "b739ba9e",
   "metadata": {},
   "source": [
    "# Figure 4. Sleep vs. Wake\n",
    "The timescales, as knee frequencies, are compared between 4 types of spike trains and the local field potential:\n",
    "\n",
    "- Wake : Excitatory Units\n",
    "- NREM : Excitatory Units\n",
    "- Wake : Inhibitory Units\n",
    "- NREM : Inhibitory Units\n",
    "\n",
    "\n",
    "- LFP Wake\n",
    "- LFP NREM"
   ]
  },
  {
   "cell_type": "code",
   "execution_count": 2,
   "id": "c37e2b68",
   "metadata": {
    "tags": [
     "hide-cell"
    ]
   },
   "outputs": [],
   "source": [
    "def compute_spectra_trials(spikes_e, spikes_i, start_end, f_range,\n",
    "                           bin_size, ar_order, kwargs_ar=None):\n",
    "    \"\"\"Compute Welch's and AR PSD for exciatatory and inhibitory spikes.\"\"\"\n",
    "    \n",
    "    # Ensure unpackable\n",
    "    if kwargs_ar is None:\n",
    "        kwargs_ar = {}\n",
    "            \n",
    "    # Compute AR-PSD and Welch's-PSD for each window\n",
    "    for ind, (s, e) in enumerate(start_end):\n",
    "\n",
    "        # Normalize\n",
    "        spikes_bin_e = normalize_sig(\n",
    "            spikes_e[s:e].reshape(-1, bin_size).sum(axis=1), 0, 1)\n",
    "        \n",
    "        spikes_bin_i = normalize_sig(\n",
    "            spikes_i[s:e].reshape(-1, bin_size).sum(axis=1), 0, 1)\n",
    "        \n",
    "        # Compute excitatory spectra\n",
    "        freqs_ar, powers_ar_e = compute_ar_spectrum(spikes_bin_e, fs/bin_size, ar_order,\n",
    "                                                    f_range=f_range, **kwargs_ar)\n",
    "        \n",
    "        # Compute inhibitory spectra\n",
    "        _, powers_ar_i = compute_ar_spectrum(spikes_bin_i, fs/bin_size, ar_order,\n",
    "                                             f_range=f_range, **kwargs_ar)\n",
    "        \n",
    "        # Initalize arrays\n",
    "        if ind == 0:\n",
    "            \n",
    "            freqs = {'ar': freqs_ar}\n",
    "            \n",
    "            powers = {\n",
    "                'ar': {'excitatory': np.zeros((len(start_end), len(powers_ar_e))),\n",
    "                       'inhibitory': np.zeros((len(start_end), len(powers_ar_i)))}\n",
    "            }\n",
    "            \n",
    "        powers['ar']['excitatory'][ind] = powers_ar_e\n",
    "        powers['ar']['inhibitory'][ind] = powers_ar_i\n",
    "        \n",
    "    return freqs, powers"
   ]
  },
  {
   "cell_type": "code",
   "execution_count": 3,
   "id": "465db332",
   "metadata": {
    "tags": [
     "hide-cell"
    ]
   },
   "outputs": [],
   "source": [
    "# Load data\n",
    "base_name = '20140526_277um'\n",
    "dir_path = f'/home/rph/Projects/timescale-methods/fcx1/{base_name}'\n",
    "\n",
    "subtype_dict = loadmat(f'{dir_path}/{base_name}_SSubtypes.mat')\n",
    "subtype_e = subtype_dict['Se_CellFormat'][0]\n",
    "subtype_i = subtype_dict['Si_CellFormat'][0]\n",
    "\n",
    "fs = 20000\n",
    "\n",
    "n_seconds = np.ceil(max([*[np.max(i) for i in subtype_i], \n",
    "                         *[np.max(i) for i in subtype_e]]))\n",
    "\n",
    "times = np.arange(0, n_seconds, 1/fs)\n",
    "\n",
    "# Extract behavioral data\n",
    "beh_file = f'{dir_path}/{base_name}_WSRestrictedIntervals.mat'\n",
    "beh = loadmat(beh_file)\n",
    "\n",
    "nrem = beh['SWSPacketTimePairFormat'].astype(int) * fs\n",
    "wake = beh['WakeTimePairFormat'].astype(int) *  fs\n",
    "\n",
    "# Window by trial type\n",
    "win_len = int(5*fs)\n",
    "win_spacing = int(5*fs)\n",
    "\n",
    "wake_starts, wake_mids, wake_ends = create_windows(wake, win_len, win_spacing)\n",
    "nrem_starts, nrem_mids, nrem_ends = create_windows(nrem, win_len, win_spacing)\n",
    "\n",
    "start_end_wake = np.vstack((wake_starts, wake_ends)).T\n",
    "start_end_nrem = np.vstack((nrem_starts, nrem_ends)).T"
   ]
  },
  {
   "cell_type": "markdown",
   "id": "8abfae8a",
   "metadata": {},
   "source": [
    "### AR-PSD\n",
    "\n",
    "The AR spectra are influences by the bin size and the AR order parameters. These parameters will influence the resulting timescales measurements. These spectra follow a Lorentzian form."
   ]
  },
  {
   "cell_type": "code",
   "execution_count": 4,
   "id": "51f703c6",
   "metadata": {
    "scrolled": false
   },
   "outputs": [],
   "source": [
    "# Sum spikes across E/I sub-units\n",
    "spikes = np.zeros((2, int(n_seconds * fs)))\n",
    "                    \n",
    "for sind, subtype in enumerate([subtype_e, subtype_i]):\n",
    "    for s in subtype:\n",
    "        spikes[sind, (s[:, 0] * fs).astype(int)] = 1\n",
    "\n",
    "spikes_e = spikes[0]\n",
    "spikes_i = spikes[1]\n",
    "\n",
    "# Compute Spectra\n",
    "f_range = (0, 100)\n",
    "bin_size = 200\n",
    "ar_order = 5\n",
    "\n",
    "freqs_wake, powers_wake = compute_spectra_trials(\n",
    "    spikes_e, spikes_i, start_end_wake, f_range, bin_size, ar_order\n",
    ")\n",
    "\n",
    "freqs_nrem, powers_nrem = compute_spectra_trials(\n",
    "    spikes_e, spikes_i, start_end_nrem, f_range, bin_size, ar_order\n",
    ")"
   ]
  },
  {
   "cell_type": "markdown",
   "id": "d91d30ad",
   "metadata": {},
   "source": [
    "### Fit Spectra: Spikes"
   ]
  },
  {
   "cell_type": "code",
   "execution_count": 5,
   "id": "73aaf97a",
   "metadata": {},
   "outputs": [
    {
     "data": {
      "application/vnd.jupyter.widget-view+json": {
       "model_id": "39ea89c1509a466fb1dbb48a5ec5aec4",
       "version_major": 2,
       "version_minor": 0
      },
      "text/plain": [
       "Running FOOOFGroup:   0%|          | 0/536 [00:00<?, ?it/s]"
      ]
     },
     "metadata": {},
     "output_type": "display_data"
    },
    {
     "data": {
      "application/vnd.jupyter.widget-view+json": {
       "model_id": "cb85d2f86ef74c169413aa006976415b",
       "version_major": 2,
       "version_minor": 0
      },
      "text/plain": [
       "Running FOOOFGroup:   0%|          | 0/536 [00:00<?, ?it/s]"
      ]
     },
     "metadata": {},
     "output_type": "display_data"
    },
    {
     "data": {
      "application/vnd.jupyter.widget-view+json": {
       "model_id": "8680550e8ad44aa39d347ee607d36a9b",
       "version_major": 2,
       "version_minor": 0
      },
      "text/plain": [
       "Running FOOOFGroup:   0%|          | 0/427 [00:00<?, ?it/s]"
      ]
     },
     "metadata": {},
     "output_type": "display_data"
    },
    {
     "data": {
      "application/vnd.jupyter.widget-view+json": {
       "model_id": "e62cabf40daf461bb2fc36262f5a27b2",
       "version_major": 2,
       "version_minor": 0
      },
      "text/plain": [
       "Running FOOOFGroup:   0%|          | 0/427 [00:00<?, ?it/s]"
      ]
     },
     "metadata": {},
     "output_type": "display_data"
    }
   ],
   "source": [
    "fooof_init = {\n",
    "    'aperiodic_mode': 'knee_constant',\n",
    "    'max_n_peaks': 4,\n",
    "    'peak_threshold': 2.5\n",
    "}\n",
    "\n",
    "bounds = [\n",
    "    [-10, 1e-3, 1e-3, 1e-20],\n",
    "    [ 10, 20,     10,  1e-2]\n",
    "]\n",
    "\n",
    "guess = [-2, 1, 1, 1e-2]\n",
    "\n",
    "psd_ex_nrem = PSD(freqs_nrem['ar'], powers_nrem['ar']['excitatory'])\n",
    "psd_ex_nrem.fit(method='fooof', fooof_init=fooof_init, bounds=bounds, guess=guess,\n",
    "                n_jobs=-1, progress='tqdm.notebook')\n",
    "\n",
    "psd_in_nrem = PSD(freqs_nrem['ar'], powers_nrem['ar']['inhibitory'])\n",
    "psd_in_nrem.fit(method='fooof', fooof_init=fooof_init, bounds=bounds, guess=guess,\n",
    "                n_jobs=-1, progress='tqdm.notebook')\n",
    "\n",
    "psd_ex_wake = PSD(freqs_wake['ar'], powers_wake['ar']['excitatory'])\n",
    "psd_ex_wake.fit(method='fooof', fooof_init=fooof_init, bounds=bounds, guess=guess,\n",
    "                n_jobs=-1, progress='tqdm.notebook')\n",
    "\n",
    "psd_in_wake = PSD(freqs_wake['ar'], powers_wake['ar']['inhibitory'])\n",
    "psd_in_wake.fit(method='fooof', fooof_init=fooof_init, bounds=bounds, guess=guess,\n",
    "                n_jobs=-1, progress='tqdm.notebook')"
   ]
  },
  {
   "cell_type": "markdown",
   "id": "317d4105",
   "metadata": {},
   "source": [
    "### Spike Stats\n",
    "\n",
    "The NREM trials have a significantly higher r-squared values, compared to the wake trails. Comparing the timescales between the two may be confounded by this."
   ]
  },
  {
   "cell_type": "code",
   "execution_count": 6,
   "id": "9365f3d8",
   "metadata": {
    "scrolled": false,
    "tags": [
     "hide-input"
    ]
   },
   "outputs": [
    {
     "name": "stdout",
     "output_type": "stream",
     "text": [
      "Spike R-Squared Statistics\n",
      "\n",
      "Excitatory Wake:  mean = 0.8237961930445714 std = 0.2165613580105497\n",
      "Excitatory NREM:  mean = 0.9551133739885479 std = 0.0603757437890658\n",
      "Inhibitory Wake:  mean = 0.7760963792622833 std = 0.23944804910263517\n",
      "Inhibitory NREM:  mean = 0.9661529198146298 std = 0.04790972635594994\n",
      "\n",
      "Excitatory: Wake vs NREM\n",
      "Ttest_indResult(statistic=-13.386164016678734, pvalue=1.35224023375709e-37)\n",
      "\n",
      "Inhibitory: Wake vs NREM\n",
      "Ttest_indResult(statistic=-17.912471149298536, pvalue=3.90499537291248e-62)\n",
      "\n",
      "Wake: Excitatory vs Inhibitory\n",
      "Ttest_indResult(statistic=3.0494139674328213, pvalue=0.0023638115434466036)\n",
      "\n",
      "NREM: Excitatory vs Inhibitory\n",
      "Ttest_indResult(statistic=-3.312942925626916, pvalue=0.0009541012302210045)\n"
     ]
    }
   ],
   "source": [
    "# R-squared stats\n",
    "print('Spike R-Squared Statistics\\n')\n",
    "print('Excitatory Wake: ', 'mean =', psd_ex_wake.rsq_full.mean(),\n",
    "      'std =', psd_ex_wake.rsq_full.std())\n",
    "print('Excitatory NREM: ', 'mean =', psd_ex_nrem.rsq_full.mean(),\n",
    "      'std =', psd_ex_nrem.rsq_full.std())\n",
    "print('Inhibitory Wake: ', 'mean =', psd_in_wake.rsq_full.mean(),\n",
    "      'std =', psd_in_wake.rsq_full.std())\n",
    "print('Inhibitory NREM: ', 'mean =', psd_in_nrem.rsq_full.mean(), \n",
    "      'std =', psd_in_nrem.rsq_full.std())\n",
    "print()\n",
    "print('Excitatory: Wake vs NREM')\n",
    "print(ttest_ind(psd_ex_wake.rsq_full, psd_ex_nrem.rsq_full))\n",
    "print()\n",
    "print('Inhibitory: Wake vs NREM')\n",
    "print(ttest_ind(psd_in_wake.rsq_full, psd_in_nrem.rsq_full))\n",
    "print()\n",
    "print('Wake: Excitatory vs Inhibitory')\n",
    "print(ttest_ind(psd_ex_wake.rsq_full, psd_in_wake.rsq_full))\n",
    "print()\n",
    "print('NREM: Excitatory vs Inhibitory')\n",
    "print(ttest_ind(psd_ex_nrem.rsq_full, psd_in_nrem.rsq_full))"
   ]
  },
  {
   "cell_type": "code",
   "execution_count": 7,
   "id": "64a27284",
   "metadata": {
    "tags": [
     "hide-input"
    ]
   },
   "outputs": [
    {
     "name": "stdout",
     "output_type": "stream",
     "text": [
      "Spike Knee Frequency Statistics\n",
      "\n",
      "Excitatory Wake:  mean = 6.510950551944465 std = 4.246369610003782\n",
      "Excitatory NREM:  mean = 4.648572040370361 std = 2.09479811903976\n",
      "Inhibitory Wake:  mean = 4.9346724778701345 std = 2.5163170714229937\n",
      "Inhibitory NREM:  mean = 4.060590712098375 std = 1.993919717180862\n",
      "\n",
      "Excitatory: Wake vs NREM\n",
      "Ttest_indResult(statistic=8.877601649374666, pvalue=3.2896066288641537e-18)\n",
      "\n",
      "Inhibitory: Wake vs NREM\n",
      "Ttest_indResult(statistic=6.00776424501637, pvalue=2.6662281322938156e-09)\n",
      "\n",
      "Wake: Excitatory vs Inhibitory\n",
      "Ttest_indResult(statistic=6.591249288074879, pvalue=7.637748207776019e-11)\n",
      "\n",
      "NREM: Excitatory vs Inhibitory\n",
      "Ttest_indResult(statistic=4.702579432003745, pvalue=2.904517412488611e-06)\n"
     ]
    }
   ],
   "source": [
    "# Knee freq stats\n",
    "print('Spike Knee Frequency Statistics\\n')\n",
    "\n",
    "print('Excitatory Wake: ', 'mean =', psd_ex_wake.knee_freq.mean(),\n",
    "      'std =', psd_ex_wake.knee_freq.std())\n",
    "print('Excitatory NREM: ', 'mean =', psd_ex_nrem.knee_freq.mean(),\n",
    "      'std =', psd_ex_nrem.knee_freq.std())\n",
    "print('Inhibitory Wake: ', 'mean =', psd_in_wake.knee_freq.mean(),\n",
    "      'std =', psd_in_wake.knee_freq.std())\n",
    "print('Inhibitory NREM: ', 'mean =', psd_in_nrem.knee_freq.mean(), \n",
    "      'std =', psd_in_nrem.knee_freq.std())\n",
    "print()\n",
    "print('Excitatory: Wake vs NREM')\n",
    "print(ttest_ind(psd_ex_wake.knee_freq, psd_ex_nrem.knee_freq))\n",
    "print()\n",
    "print('Inhibitory: Wake vs NREM')\n",
    "print(ttest_ind(psd_in_wake.knee_freq, psd_in_nrem.knee_freq))\n",
    "print()\n",
    "print('Wake: Excitatory vs Inhibitory')\n",
    "print(ttest_ind(psd_ex_wake.knee_freq, psd_in_wake.knee_freq))\n",
    "print()\n",
    "print('NREM: Excitatory vs Inhibitory')\n",
    "print(ttest_ind(psd_ex_nrem.knee_freq, psd_in_nrem.knee_freq))"
   ]
  },
  {
   "cell_type": "markdown",
   "id": "c03ec47d",
   "metadata": {},
   "source": [
    "### Spikes vs LFPs\n",
    "\n",
    "Spike versus LFP timescale comparison."
   ]
  },
  {
   "cell_type": "code",
   "execution_count": 8,
   "id": "d693688d",
   "metadata": {
    "tags": [
     "hide-cell"
    ]
   },
   "outputs": [],
   "source": [
    "# Load LFP\n",
    "data_id = '20140526_277um'\n",
    "data_dir = f'/home/rph/Projects/timescale-methods/fcx1/data_mats/{data_id}'\n",
    "fs = 1250\n",
    "\n",
    "# Infer shape using one channel\n",
    "lfp_file = op.join(data_dir, 'data01.mat')\n",
    "sig_len = len(loadmat(lfp_file)['data'][0])\n",
    "\n",
    "# Get PFC channels\n",
    "channels = list(range(17, 49))\n",
    "sig_lfp = np.zeros(sig_len)\n",
    "\n",
    "for cind, ch in enumerate(channels):\n",
    "    lfp_file = op.join(data_dir, f'data{ch}.mat')\n",
    "    sig_lfp += loadmat(lfp_file)['data'][0]\n",
    "\n",
    "sig_lfp = sig_lfp / len(channels)\n",
    "sig_lfp =  normalize_sig(sig_lfp, 0, 1)\n",
    "\n",
    "times = np.arange(0, len(sig_lfp)/fs, 1/fs)\n",
    "\n",
    "# Windows\n",
    "nrem = beh['SWSPacketTimePairFormat'].astype(int) * fs\n",
    "wake = beh['WakeTimePairFormat'].astype(int) * fs\n",
    "\n",
    "# Window by trial type\n",
    "win_len = int(5*fs)\n",
    "win_spacing = int(5*fs)\n",
    "\n",
    "wake_starts, wake_mids, wake_ends = create_windows(wake, win_len, win_spacing)\n",
    "nrem_starts, nrem_mids, nrem_ends = create_windows(nrem, win_len, win_spacing)\n",
    "\n",
    "start_end_wake = np.vstack((wake_starts, wake_ends)).T\n",
    "start_end_nrem = np.vstack((nrem_starts, nrem_ends)).T\n",
    "\n",
    "# Create 2d arrays\n",
    "sig_lfp_wake = np.array([sig_lfp[s:e] for s, e in\n",
    "                         zip(wake_starts, wake_ends)])\n",
    "\n",
    "sig_lfp_nrem = np.array([sig_lfp[s:e] for s, e in\n",
    "                         zip(nrem_starts, nrem_ends)])"
   ]
  },
  {
   "cell_type": "markdown",
   "id": "dc34db8a",
   "metadata": {},
   "source": [
    "### Fit Spectra: LFP"
   ]
  },
  {
   "cell_type": "code",
   "execution_count": 9,
   "id": "0deaf829",
   "metadata": {},
   "outputs": [
    {
     "data": {
      "application/vnd.jupyter.widget-view+json": {
       "model_id": "3b560768ef224062a269e2c172ac3c66",
       "version_major": 2,
       "version_minor": 0
      },
      "text/plain": [
       "Running FOOOFGroup:   0%|          | 0/427 [00:00<?, ?it/s]"
      ]
     },
     "metadata": {},
     "output_type": "display_data"
    },
    {
     "data": {
      "application/vnd.jupyter.widget-view+json": {
       "model_id": "a487bff5e4c84d8c991b373e4d94f4f8",
       "version_major": 2,
       "version_minor": 0
      },
      "text/plain": [
       "Running FOOOFGroup:   0%|          | 0/536 [00:00<?, ?it/s]"
      ]
     },
     "metadata": {},
     "output_type": "display_data"
    }
   ],
   "source": [
    "fooof_init = {\n",
    "    'aperiodic_mode': 'knee_constant',\n",
    "    'max_n_peaks': 4,\n",
    "    'peak_threshold': 2.5\n",
    "}\n",
    "\n",
    "bounds = [\n",
    "    [-10, 1e-3, 1e-3, 1e-20],\n",
    "    [ 10, 20,     10,  1e-2]\n",
    "]\n",
    "\n",
    "guess = [-2, 1, 1, 1e-2]\n",
    "\n",
    "psd_lfp_wake = PSD()\n",
    "psd_lfp_wake.compute_spectrum(sig_lfp_wake, fs, f_range=(0, 100), ar_order=10)\n",
    "psd_lfp_wake.fit(method='fooof', fooof_init=fooof_init, bounds=bounds, guess=guess,\n",
    "                 n_jobs=-1, progress='tqdm.notebook')\n",
    "\n",
    "psd_lfp_nrem = PSD()\n",
    "psd_lfp_nrem.compute_spectrum(sig_lfp_nrem, fs, f_range=(0, 100), ar_order=10)\n",
    "psd_lfp_nrem.fit(method='fooof', fooof_init=fooof_init, bounds=bounds, guess=guess,\n",
    "                 n_jobs=-1, progress='tqdm.notebook')"
   ]
  },
  {
   "cell_type": "markdown",
   "id": "f8ad30d5",
   "metadata": {},
   "source": [
    "### Plot"
   ]
  },
  {
   "cell_type": "code",
   "execution_count": 10,
   "id": "33357399",
   "metadata": {
    "tags": [
     "hide-cell"
    ]
   },
   "outputs": [],
   "source": [
    "def plot_overlapping_densities(df, xlim, overlap_hspace=-.5):\n",
    "    \n",
    "    sns.set_theme(style=\"white\", rc={\"axes.facecolor\": (0, 0, 0, 0)})\n",
    "\n",
    "    # Initialize the FacetGrid object\n",
    "    pal = sns.cubehelix_palette(6, rot=-.25, light=.5)\n",
    "    \n",
    "    grid = sns.FacetGrid(df, row=\"labels\", hue=\"labels\", aspect=10,\n",
    "                         height=2, palette=pal, xlim=xlim)\n",
    "\n",
    "    # Draw the densities in a few steps\n",
    "    grid.map(sns.kdeplot, \"knees\", clip_on=True,\n",
    "             fill=True, alpha=1, linewidth=2)\n",
    "   \n",
    "    grid.map(sns.kdeplot, \"knees\", clip_on=True, color=\"w\", lw=2.5, bw_adjust=1)\n",
    "\n",
    "    grid.refline(y=0, linewidth=2, linestyle=\"-\", color=None, clip_on=False)\n",
    "\n",
    "    # Label the plot in axes coordinates\n",
    "    def label(x, color, label):\n",
    "        ax = plt.gca()\n",
    "        ax.text(0, .2, label, fontweight=\"bold\", color=color,\n",
    "                ha=\"left\", va=\"center\", transform=ax.transAxes, size=20)\n",
    "\n",
    "    grid.map(label, \"knees\")\n",
    "\n",
    "    # Set the subplots to overlap\n",
    "    grid.figure.subplots_adjust(hspace=overlap_hspace)\n",
    "\n",
    "    # Remove axes details that don't play well with overlap\n",
    "    grid.set_titles(\"\")\n",
    "    grid.set(yticks=[], ylabel=\"\")\n",
    "    grid.set(xticks=np.arange(0, xlim[1]+1))\n",
    "    grid.despine(bottom=False, left=True)\n",
    "    \n",
    "    grid.set_xticklabels(np.arange(0, xlim[1]+1), size=24)\n",
    "    grid.set_xlabels('Knee Frequency (Hertz)', size=28)\n",
    "    \n",
    "    return grid"
   ]
  },
  {
   "cell_type": "code",
   "execution_count": 11,
   "id": "1c6d9cc2",
   "metadata": {
    "tags": [
     "hide-cell"
    ]
   },
   "outputs": [],
   "source": [
    "import pandas as pd\n",
    "\n",
    "# Apply r-squared threshold\n",
    "rsq_thresh = .25\n",
    "\n",
    "nrem_inds = np.where(\n",
    "    (psd_ex_nrem.rsq > rsq_thresh) &\n",
    "    (psd_in_nrem.rsq > rsq_thresh) &\n",
    "    (psd_lfp_nrem.rsq > rsq_thresh)\n",
    ")[0]\n",
    "\n",
    "wake_inds = np.where(\n",
    "    (psd_ex_wake.rsq > rsq_thresh) &\n",
    "    (psd_in_wake.rsq > rsq_thresh) &\n",
    "    (psd_lfp_wake.rsq > rsq_thresh)\n",
    ")[0]\n",
    "\n",
    "# Merge knees\n",
    "knees = np.concatenate([\n",
    "    psd_lfp_nrem.knee_freq[nrem_inds],\n",
    "    psd_ex_nrem.knee_freq[nrem_inds],\n",
    "    psd_in_nrem.knee_freq[nrem_inds],\n",
    "    psd_lfp_wake.knee_freq[wake_inds],\n",
    "    psd_ex_wake.knee_freq[wake_inds],\n",
    "    psd_in_wake.knee_freq[wake_inds]\n",
    "])\n",
    "\n",
    "# Merge labels\n",
    "labels = [\n",
    "    *['LFP : NREM'] * len(nrem_inds),\n",
    "    *['Spikes : Excitatory : NREM'] * len(nrem_inds),\n",
    "    *['Spikes : Inhibitory : NREM'] * len(nrem_inds),\n",
    "    *['LFP : Wake'] * len(wake_inds),\n",
    "    *['Spikes : Excitatory : Wake'] * len(wake_inds),\n",
    "    *['Spikes : Inhibitory : Wake'] * len(wake_inds)\n",
    "]\n",
    "\n",
    "# To dataframe\n",
    "df = pd.DataFrame(dict(knees=knees, labels=labels))"
   ]
  },
  {
   "cell_type": "code",
   "execution_count": 13,
   "id": "ed248acb",
   "metadata": {
    "tags": [
     "nbsphinx-thumbnail"
    ]
   },
   "outputs": [
    {
     "data": {
      "image/png": "[encoded data removed]",
      "text/plain": [
       "<Figure size 1440x864 with 6 Axes>"
      ]
     },
     "metadata": {},
     "output_type": "display_data"
    }
   ],
   "source": [
    "# Plot\n",
    "plot_overlapping_densities(df, (-4, 12), overlap_hspace=-0.75)\n",
    "\n",
    "plt.savefig('fig05_sleep_vs_wake.png', dpi=300, facecolor='w');"
   ]
  },
  {
   "cell_type": "code",
   "execution_count": 14,
   "id": "940e99cc",
   "metadata": {},
   "outputs": [
    {
     "name": "stdout",
     "output_type": "stream",
     "text": [
      "Wake\n",
      "LFP               : mean=6.8001364891954, std=2.656403888980302\n",
      "Spikes, Excitatory: mean=6.15023882411311, std=3.816180868647709\n",
      "Spikes, Inhibitory: mean=4.5061781442512405, std=1.6995762892176098\n",
      "\n",
      "NREM\n",
      "LFP               : mean=3.1374131726642167, std=1.4539461558915583\n",
      "Spikes, Excitatory: mean=4.622147400058879, std=2.005520664967615\n",
      "Spikes, Inhibitory: mean=4.061209976351796, std=1.9957308268995413\n"
     ]
    }
   ],
   "source": [
    "print('Wake')\n",
    "print(f'LFP               : mean={psd_lfp_wake.knee_freq[wake_inds].mean()}, '\\\n",
    "      f'std={psd_lfp_wake.knee_freq[wake_inds].std()}')\n",
    "\n",
    "print(f'Spikes, Excitatory: mean={psd_ex_wake.knee_freq[wake_inds].mean()}, '\\\n",
    "      f'std={psd_ex_wake.knee_freq[wake_inds].std()}')\n",
    "\n",
    "print(f'Spikes, Inhibitory: mean={psd_in_wake.knee_freq[wake_inds].mean()}, '\\\n",
    "      f'std={psd_in_wake.knee_freq[wake_inds].std()}')\n",
    "\n",
    "print()\n",
    "\n",
    "print(f'NREM')\n",
    "\n",
    "print(f'LFP               : mean={psd_lfp_nrem.knee_freq[nrem_inds].mean()}, '\\\n",
    "      f'std={psd_lfp_nrem.knee_freq[nrem_inds].std()}')\n",
    "\n",
    "print(f'Spikes, Excitatory: mean={psd_ex_nrem.knee_freq[nrem_inds].mean()}, '\\\n",
    "      f'std={psd_ex_nrem.knee_freq[nrem_inds].std()}')\n",
    "\n",
    "print(f'Spikes, Inhibitory: mean={psd_in_nrem.knee_freq[nrem_inds].mean()}, '\\\n",
    "      f'std={psd_in_nrem.knee_freq[nrem_inds].std()}')"
   ]
  },
  {
   "cell_type": "code",
   "execution_count": 15,
   "id": "5f9c3447",
   "metadata": {
    "tags": [
     "hide-input"
    ]
   },
   "outputs": [
    {
     "name": "stdout",
     "output_type": "stream",
     "text": [
      "Wake vs NREM\n",
      "LFP       :  Ttest_indResult(statistic=26.21179265308087, pvalue=4.76513474449946e-112)\n",
      "Excitatory:  Ttest_indResult(statistic=7.709989328694835, pvalue=3.438514642092187e-14)\n",
      "Inhibitory:  Ttest_indResult(statistic=3.38372695420238, pvalue=0.000747082004084111)\n",
      "\n",
      "Wake\n",
      "LFP vs Excitatory: Ttest_relResult(statistic=2.576773510327446, pvalue=0.010400209973630595)\n",
      "LFP vs Inhibitory: Ttest_relResult(statistic=13.76100417988951, pvalue=1.837967809311979e-34)\n",
      "\n",
      "NREM\n",
      "LFP vs Excitatory: Ttest_relResult(statistic=-15.57977377129755, pvalue=2.1891548411738475e-45)\n",
      "LFP vs Inhibitory: Ttest_relResult(statistic=-12.6061404963828, pvalue=4.4365469496275713e-32)\n"
     ]
    }
   ],
   "source": [
    "print('Wake vs NREM')\n",
    "print('LFP       : ', ttest_ind(psd_lfp_wake.knee_freq[wake_inds],\n",
    "                                psd_lfp_nrem.knee_freq[nrem_inds]))\n",
    "\n",
    "print('Excitatory: ', ttest_ind(psd_ex_wake.knee_freq[wake_inds],\n",
    "                                psd_ex_nrem.knee_freq[nrem_inds]))\n",
    "\n",
    "print('Inhibitory: ', ttest_ind(psd_in_wake.knee_freq[wake_inds],\n",
    "                                psd_in_nrem.knee_freq[nrem_inds]))\n",
    " \n",
    "print()\n",
    "print('Wake')\n",
    "print('LFP vs Excitatory:', ttest_rel(psd_lfp_wake.knee_freq[wake_inds],\n",
    "                                      psd_ex_wake.knee_freq[wake_inds]))\n",
    "\n",
    "print('LFP vs Inhibitory:', ttest_rel(psd_lfp_wake.knee_freq[wake_inds],\n",
    "                                      psd_in_wake.knee_freq[wake_inds]))\n",
    "print()\n",
    "print(f'NREM')\n",
    "print('LFP vs Excitatory:', ttest_rel(psd_lfp_nrem.knee_freq[nrem_inds],\n",
    "                                      psd_ex_nrem.knee_freq[nrem_inds]))\n",
    "\n",
    "print('LFP vs Inhibitory:', ttest_rel(psd_lfp_nrem.knee_freq[nrem_inds],\n",
    "                                      psd_in_nrem.knee_freq[nrem_inds]))"
   ]
  },
  {
   "cell_type": "code",
   "execution_count": 16,
   "id": "c870dbf3",
   "metadata": {
    "tags": [
     "hide-input"
    ]
   },
   "outputs": [
    {
     "name": "stdout",
     "output_type": "stream",
     "text": [
      "Correlation\n",
      "Wake: LFP vs Excitatory: r=0.0153, p=0.7802\n",
      "Wake: LFP vs Inhibitory: r=0.0704, p=0.1979\n",
      "\n",
      "NREM: LFP vs Excitatory: r=0.2206, p=0.0000\n",
      "NREM: LFP vs Inhibitory: r=0.5564, p=0.0000\n"
     ]
    }
   ],
   "source": [
    "print('Correlation')\n",
    "\n",
    "print('Wake: LFP vs Excitatory: r={:.4f}, p={:.4f}'.format(\n",
    "    *pearsonr(psd_lfp_wake.knee_freq[wake_inds], psd_ex_wake.knee_freq[wake_inds]))\n",
    ")\n",
    "\n",
    "print('Wake: LFP vs Inhibitory: r={:.4f}, p={:.4f}'.format(\n",
    "    *pearsonr(psd_lfp_wake.knee_freq[wake_inds], psd_in_wake.knee_freq[wake_inds]))\n",
    ")\n",
    "\n",
    "print()\n",
    "\n",
    "print('NREM: LFP vs Excitatory: r={:.4f}, p={:.4f}'.format(\n",
    "    *pearsonr(psd_lfp_nrem.knee_freq[nrem_inds], psd_ex_nrem.knee_freq[nrem_inds]))\n",
    ")\n",
    "\n",
    "print('NREM: LFP vs Inhibitory: r={:.4f}, p={:.4f}'.format(\n",
    "    *pearsonr(psd_lfp_nrem.knee_freq[nrem_inds], psd_in_nrem.knee_freq[nrem_inds]))\n",
    ")"
   ]
  }
 ],
 "metadata": {
  "celltoolbar": "Tags",
  "kernelspec": {
   "display_name": "Python 3",
   "language": "python",
   "name": "python3"
  },
  "language_info": {
   "codemirror_mode": {
    "name": "ipython",
    "version": 3
   },
   "file_extension": ".py",
   "mimetype": "text/x-python",
   "name": "python",
   "nbconvert_exporter": "python",
   "pygments_lexer": "ipython3",
   "version": "3.8.10"
  }
 },
 "nbformat": 4,
 "nbformat_minor": 5
}
