{
 "cells": [
  {
   "cell_type": "code",
   "execution_count": 1,
   "id": "c5fb04c7",
   "metadata": {},
   "outputs": [],
   "source": [
    "import os.path as op\n",
    "\n",
    "import matplotlib.pyplot as plt\n",
    "from matplotlib import patches\n",
    "\n",
    "import seaborn as sns\n",
    "\n",
    "import numpy as np\n",
    "import pandas as pd\n",
    "\n",
    "from scipy.io import loadmat\n",
    "from scipy.stats import ttest_ind, ttest_rel, pearsonr\n",
    "\n",
    "from neurodsp.utils.norm import normalize_sig\n",
    "\n",
    "from timescales.fit import PSD\n",
    "from timescales.autoreg import compute_ar_spectrum\n",
    "from timescales.conversions import convert_knee\n",
    "from timescales.plts import set_default_rc\n",
    "from timescales.utils import create_windows\n",
    "\n",
    "set_default_rc()"
   ]
  },
  {
   "cell_type": "markdown",
   "id": "b739ba9e",
   "metadata": {},
   "source": [
    "# Figure 4. Sleep vs. Wake\n",
    "The timescales, as knee frequencies, are compared between 4 types of spike trains and the local field potential:\n",
    "\n",
    "- Wake : Excitatory Units\n",
    "- NREM : Excitatory Units\n",
    "- Wake : Inhibitory Units\n",
    "- NREM : Inhibitory Units\n",
    "\n",
    "\n",
    "- LFP Wake\n",
    "- LFP NREM"
   ]
  },
  {
   "cell_type": "code",
   "execution_count": 2,
   "id": "c37e2b68",
   "metadata": {
    "tags": [
     "hide-cell"
    ]
   },
   "outputs": [],
   "source": [
    "def compute_spectra_trials(spikes_e, spikes_i, start_end, f_range,\n",
    "                           bin_size, ar_order, kwargs_ar=None):\n",
    "    \"\"\"Compute Welch's and AR PSD for exciatatory and inhibitory spikes.\"\"\"\n",
    "    \n",
    "    # Ensure unpackable\n",
    "    if kwargs_ar is None:\n",
    "        kwargs_ar = {}\n",
    "            \n",
    "    # Compute AR-PSD and Welch's-PSD for each window\n",
    "    for ind, (s, e) in enumerate(start_end):\n",
    "\n",
    "        # Normalize\n",
    "        spikes_bin_e = normalize_sig(\n",
    "            spikes_e[s:e].reshape(-1, bin_size).sum(axis=1), 0, 1)\n",
    "        \n",
    "        spikes_bin_i = normalize_sig(\n",
    "            spikes_i[s:e].reshape(-1, bin_size).sum(axis=1), 0, 1)\n",
    "        \n",
    "        # Compute excitatory spectra\n",
    "        freqs_ar, powers_ar_e = compute_ar_spectrum(spikes_bin_e, fs/bin_size, ar_order,\n",
    "                                                    f_range=f_range, **kwargs_ar)\n",
    "        \n",
    "        # Compute inhibitory spectra\n",
    "        _, powers_ar_i = compute_ar_spectrum(spikes_bin_i, fs/bin_size, ar_order,\n",
    "                                             f_range=f_range, **kwargs_ar)\n",
    "        \n",
    "        # Initalize arrays\n",
    "        if ind == 0:\n",
    "            \n",
    "            freqs = {'ar': freqs_ar}\n",
    "            \n",
    "            powers = {\n",
    "                'ar': {'excitatory': np.zeros((len(start_end), len(powers_ar_e))),\n",
    "                       'inhibitory': np.zeros((len(start_end), len(powers_ar_i)))}\n",
    "            }\n",
    "            \n",
    "        powers['ar']['excitatory'][ind] = powers_ar_e\n",
    "        powers['ar']['inhibitory'][ind] = powers_ar_i\n",
    "        \n",
    "    return freqs, powers"
   ]
  },
  {
   "cell_type": "code",
   "execution_count": 3,
   "id": "465db332",
   "metadata": {
    "tags": [
     "hide-cell"
    ]
   },
   "outputs": [],
   "source": [
    "# Load data\n",
    "base_name = '20140526_277um'\n",
    "dir_path = f'/home/rph/Projects/timescale-methods/fcx1/data/{base_name}'\n",
    "\n",
    "subtype_dict = loadmat(f'{dir_path}/{base_name}_SSubtypes.mat')\n",
    "subtype_e = subtype_dict['Se_CellFormat'][0]\n",
    "subtype_i = subtype_dict['Si_CellFormat'][0]\n",
    "\n",
    "fs = 20000\n",
    "\n",
    "n_seconds = np.ceil(max([*[np.max(i) for i in subtype_i], \n",
    "                         *[np.max(i) for i in subtype_e]]))\n",
    "\n",
    "times = np.arange(0, n_seconds, 1/fs)\n",
    "\n",
    "# Extract behavioral data\n",
    "beh_file = f'{dir_path}/{base_name}_WSRestrictedIntervals.mat'\n",
    "beh = loadmat(beh_file)\n",
    "\n",
    "nrem = beh['SWSPacketTimePairFormat'].astype(int) * fs\n",
    "wake = beh['WakeTimePairFormat'].astype(int) *  fs\n",
    "\n",
    "# Window by trial type\n",
    "win_len = int(5*fs)\n",
    "win_spacing = int(5*fs)\n",
    "\n",
    "wake_starts, wake_mids, wake_ends = create_windows(wake, win_len, win_spacing)\n",
    "nrem_starts, nrem_mids, nrem_ends = create_windows(nrem, win_len, win_spacing)\n",
    "\n",
    "start_end_wake = np.vstack((wake_starts, wake_ends)).T\n",
    "start_end_nrem = np.vstack((nrem_starts, nrem_ends)).T"
   ]
  },
  {
   "cell_type": "markdown",
   "id": "8abfae8a",
   "metadata": {},
   "source": [
    "### AR-PSD\n",
    "\n",
    "The AR spectra are influences by the bin size and the AR order parameters. These parameters will influence the resulting timescales measurements. These spectra follow a Lorentzian form."
   ]
  },
  {
   "cell_type": "code",
   "execution_count": 4,
   "id": "51f703c6",
   "metadata": {
    "scrolled": false
   },
   "outputs": [],
   "source": [
    "# Sum spikes across E/I sub-units\n",
    "spikes = np.zeros((2, int(n_seconds * fs)))\n",
    "                    \n",
    "for sind, subtype in enumerate([subtype_e, subtype_i]):\n",
    "    for s in subtype:\n",
    "        spikes[sind, (s[:, 0] * fs).astype(int)] = 1\n",
    "\n",
    "spikes_e = spikes[0]\n",
    "spikes_i = spikes[1]\n",
    "\n",
    "# Compute Spectra\n",
    "f_range = (0, 100)\n",
    "bin_size = 200\n",
    "ar_order = 5\n",
    "\n",
    "freqs_wake, powers_wake = compute_spectra_trials(\n",
    "    spikes_e, spikes_i, start_end_wake, f_range, bin_size, ar_order\n",
    ")\n",
    "\n",
    "freqs_nrem, powers_nrem = compute_spectra_trials(\n",
    "    spikes_e, spikes_i, start_end_nrem, f_range, bin_size, ar_order\n",
    ")"
   ]
  },
  {
   "cell_type": "markdown",
   "id": "d91d30ad",
   "metadata": {},
   "source": [
    "### Fit Spectra: Spikes"
   ]
  },
  {
   "cell_type": "code",
   "execution_count": 5,
   "id": "73aaf97a",
   "metadata": {},
   "outputs": [
    {
     "data": {
      "application/vnd.jupyter.widget-view+json": {
       "model_id": "8ea2dd1715c543f3862490854752f2f0",
       "version_major": 2,
       "version_minor": 0
      },
      "text/plain": [
       "Running FOOOFGroup:   0%|          | 0/536 [00:00<?, ?it/s]"
      ]
     },
     "metadata": {},
     "output_type": "display_data"
    },
    {
     "data": {
      "application/vnd.jupyter.widget-view+json": {
       "model_id": "4fc10528e57f4841a1a2129b3570cd7d",
       "version_major": 2,
       "version_minor": 0
      },
      "text/plain": [
       "Running FOOOFGroup:   0%|          | 0/536 [00:00<?, ?it/s]"
      ]
     },
     "metadata": {},
     "output_type": "display_data"
    },
    {
     "data": {
      "application/vnd.jupyter.widget-view+json": {
       "model_id": "dfdeac87d6354e9ca261dfc9c97721b2",
       "version_major": 2,
       "version_minor": 0
      },
      "text/plain": [
       "Running FOOOFGroup:   0%|          | 0/427 [00:00<?, ?it/s]"
      ]
     },
     "metadata": {},
     "output_type": "display_data"
    },
    {
     "data": {
      "application/vnd.jupyter.widget-view+json": {
       "model_id": "4dad81fd250d43febc06302162622162",
       "version_major": 2,
       "version_minor": 0
      },
      "text/plain": [
       "Running FOOOFGroup:   0%|          | 0/427 [00:00<?, ?it/s]"
      ]
     },
     "metadata": {},
     "output_type": "display_data"
    }
   ],
   "source": [
    "fooof_init = {\n",
    "    'aperiodic_mode': 'knee_constant',\n",
    "    'max_n_peaks': 4,\n",
    "    'peak_threshold': 2.5\n",
    "}\n",
    "\n",
    "bounds = [\n",
    "    [-10, 1e-3, 1e-3, 1e-20],\n",
    "    [ 10, 20,     10,  1e-2]\n",
    "]\n",
    "\n",
    "guess = [-2, 1, 1, 1e-2]\n",
    "\n",
    "psd_ex_nrem = PSD(freqs_nrem['ar'], powers_nrem['ar']['excitatory'])\n",
    "psd_ex_nrem.fit(method='fooof', fooof_init=fooof_init, bounds=bounds, guess=guess,\n",
    "                n_jobs=-1, progress='tqdm.notebook')\n",
    "\n",
    "psd_in_nrem = PSD(freqs_nrem['ar'], powers_nrem['ar']['inhibitory'])\n",
    "psd_in_nrem.fit(method='fooof', fooof_init=fooof_init, bounds=bounds, guess=guess,\n",
    "                n_jobs=-1, progress='tqdm.notebook')\n",
    "\n",
    "psd_ex_wake = PSD(freqs_wake['ar'], powers_wake['ar']['excitatory'])\n",
    "psd_ex_wake.fit(method='fooof', fooof_init=fooof_init, bounds=bounds, guess=guess,\n",
    "                n_jobs=-1, progress='tqdm.notebook')\n",
    "\n",
    "psd_in_wake = PSD(freqs_wake['ar'], powers_wake['ar']['inhibitory'])\n",
    "psd_in_wake.fit(method='fooof', fooof_init=fooof_init, bounds=bounds, guess=guess,\n",
    "                n_jobs=-1, progress='tqdm.notebook')\n",
    "\n",
    "# Tau: sec to ms\n",
    "psd_ex_nrem.tau *= 1000\n",
    "psd_in_nrem.tau *= 1000\n",
    "psd_ex_wake.tau *= 1000\n",
    "psd_in_wake.tau *= 1000"
   ]
  },
  {
   "cell_type": "markdown",
   "id": "317d4105",
   "metadata": {},
   "source": [
    "### Spike Stats\n",
    "\n",
    "The NREM trials have a significantly higher r-squared values, compared to the wake trails. Comparing the timescales between the two may be confounded by this."
   ]
  },
  {
   "cell_type": "code",
   "execution_count": 6,
   "id": "9365f3d8",
   "metadata": {
    "scrolled": false,
    "tags": [
     "hide-input"
    ]
   },
   "outputs": [
    {
     "name": "stdout",
     "output_type": "stream",
     "text": [
      "Spike R-Squared Statistics\n",
      "\n",
      "Excitatory Wake:  mean = 0.8237961930445714 std = 0.2165613580105497\n",
      "Excitatory NREM:  mean = 0.9551133739885479 std = 0.0603757437890658\n",
      "Inhibitory Wake:  mean = 0.7760963792622833 std = 0.23944804910263517\n",
      "Inhibitory NREM:  mean = 0.9661529198146298 std = 0.04790972635594994\n",
      "\n",
      "Excitatory: Wake vs NREM\n",
      "Ttest_indResult(statistic=-13.386164016678734, pvalue=1.35224023375709e-37)\n",
      "\n",
      "Inhibitory: Wake vs NREM\n",
      "Ttest_indResult(statistic=-17.912471149298536, pvalue=3.90499537291248e-62)\n",
      "\n",
      "Wake: Excitatory vs Inhibitory\n",
      "Ttest_indResult(statistic=3.0494139674328213, pvalue=0.0023638115434466036)\n",
      "\n",
      "NREM: Excitatory vs Inhibitory\n",
      "Ttest_indResult(statistic=-3.312942925626916, pvalue=0.0009541012302210045)\n"
     ]
    }
   ],
   "source": [
    "# R-squared stats\n",
    "print('Spike R-Squared Statistics\\n')\n",
    "print('Excitatory Wake: ', 'mean =', psd_ex_wake.rsq_full.mean(),\n",
    "      'std =', psd_ex_wake.rsq_full.std())\n",
    "print('Excitatory NREM: ', 'mean =', psd_ex_nrem.rsq_full.mean(),\n",
    "      'std =', psd_ex_nrem.rsq_full.std())\n",
    "print('Inhibitory Wake: ', 'mean =', psd_in_wake.rsq_full.mean(),\n",
    "      'std =', psd_in_wake.rsq_full.std())\n",
    "print('Inhibitory NREM: ', 'mean =', psd_in_nrem.rsq_full.mean(), \n",
    "      'std =', psd_in_nrem.rsq_full.std())\n",
    "print()\n",
    "print('Excitatory: Wake vs NREM')\n",
    "print(ttest_ind(psd_ex_wake.rsq_full, psd_ex_nrem.rsq_full))\n",
    "print()\n",
    "print('Inhibitory: Wake vs NREM')\n",
    "print(ttest_ind(psd_in_wake.rsq_full, psd_in_nrem.rsq_full))\n",
    "print()\n",
    "print('Wake: Excitatory vs Inhibitory')\n",
    "print(ttest_ind(psd_ex_wake.rsq_full, psd_in_wake.rsq_full))\n",
    "print()\n",
    "print('NREM: Excitatory vs Inhibitory')\n",
    "print(ttest_ind(psd_ex_nrem.rsq_full, psd_in_nrem.rsq_full))"
   ]
  },
  {
   "cell_type": "code",
   "execution_count": 7,
   "id": "64a27284",
   "metadata": {
    "tags": [
     "hide-input"
    ]
   },
   "outputs": [
    {
     "name": "stdout",
     "output_type": "stream",
     "text": [
      "Spike Knee Frequency Statistics\n",
      "\n",
      "Excitatory Wake:  mean = 30.845811318215468 std = 11.385103633949853\n",
      "Excitatory NREM:  mean = 39.33146375117651 std = 15.568854648132838\n",
      "Inhibitory Wake:  mean = 36.9643575888902 std = 10.904187606988158\n",
      "Inhibitory NREM:  mean = 45.817489216553106 std = 19.54017004821921\n",
      "\n",
      "Excitatory: Wake vs NREM\n",
      "Ttest_indResult(statistic=-9.421698209687106, pvalue=3.2010632592463714e-20)\n",
      "\n",
      "Inhibitory: Wake vs NREM\n",
      "Ttest_indResult(statistic=-8.371624314924345, pvalue=1.9911469908934655e-16)\n",
      "\n",
      "Wake: Excitatory vs Inhibitory\n",
      "Ttest_indResult(statistic=-8.010704698915767, pvalue=3.737528917807112e-15)\n",
      "\n",
      "NREM: Excitatory vs Inhibitory\n",
      "Ttest_indResult(statistic=-6.00469642485908, pvalue=2.6226562182369053e-09)\n"
     ]
    }
   ],
   "source": [
    "# Knee freq stats\n",
    "print('Spike Knee Frequency Statistics\\n')\n",
    "\n",
    "print('Excitatory Wake: ', 'mean =', psd_ex_wake.tau.mean(),\n",
    "      'std =', psd_ex_wake.tau.std())\n",
    "print('Excitatory NREM: ', 'mean =', psd_ex_nrem.tau.mean(),\n",
    "      'std =', psd_ex_nrem.tau.std())\n",
    "print('Inhibitory Wake: ', 'mean =', psd_in_wake.tau.mean(),\n",
    "      'std =', psd_in_wake.tau.std())\n",
    "print('Inhibitory NREM: ', 'mean =', psd_in_nrem.tau.mean(), \n",
    "      'std =', psd_in_nrem.tau.std())\n",
    "print()\n",
    "print('Excitatory: Wake vs NREM')\n",
    "print(ttest_ind(psd_ex_wake.tau, psd_ex_nrem.tau))\n",
    "print()\n",
    "print('Inhibitory: Wake vs NREM')\n",
    "print(ttest_ind(psd_in_wake.tau, psd_in_nrem.tau))\n",
    "print()\n",
    "print('Wake: Excitatory vs Inhibitory')\n",
    "print(ttest_ind(psd_ex_wake.tau, psd_in_wake.tau))\n",
    "print()\n",
    "print('NREM: Excitatory vs Inhibitory')\n",
    "print(ttest_ind(psd_ex_nrem.tau, psd_in_nrem.tau))"
   ]
  },
  {
   "cell_type": "markdown",
   "id": "c03ec47d",
   "metadata": {},
   "source": [
    "### Spikes vs LFPs\n",
    "\n",
    "Spike versus LFP timescale comparison."
   ]
  },
  {
   "cell_type": "code",
   "execution_count": 8,
   "id": "d693688d",
   "metadata": {
    "tags": [
     "hide-cell"
    ]
   },
   "outputs": [],
   "source": [
    "# Load LFP\n",
    "data_id = '20140526_277um'\n",
    "data_dir = f'/home/rph/Projects/timescale-methods/fcx1/data_mats/{data_id}'\n",
    "fs = 1250\n",
    "\n",
    "# Infer shape using one channel\n",
    "lfp_file = op.join(data_dir, 'data01.mat')\n",
    "sig_len = len(loadmat(lfp_file)['data'][0])\n",
    "\n",
    "# Get PFC channels\n",
    "channels = list(range(17, 49))\n",
    "sig_lfp = np.zeros(sig_len)\n",
    "\n",
    "for cind, ch in enumerate(channels):\n",
    "    lfp_file = op.join(data_dir, f'data{ch}.mat')\n",
    "    sig_lfp += loadmat(lfp_file)['data'][0]\n",
    "\n",
    "sig_lfp = sig_lfp / len(channels)\n",
    "sig_lfp =  normalize_sig(sig_lfp, 0, 1)\n",
    "\n",
    "times = np.arange(0, len(sig_lfp)/fs, 1/fs)\n",
    "\n",
    "# Windows\n",
    "nrem = beh['SWSPacketTimePairFormat'].astype(int) * fs\n",
    "wake = beh['WakeTimePairFormat'].astype(int) * fs\n",
    "\n",
    "# Window by trial type\n",
    "win_len = int(5*fs)\n",
    "win_spacing = int(5*fs)\n",
    "\n",
    "wake_starts, wake_mids, wake_ends = create_windows(wake, win_len, win_spacing)\n",
    "nrem_starts, nrem_mids, nrem_ends = create_windows(nrem, win_len, win_spacing)\n",
    "\n",
    "start_end_wake = np.vstack((wake_starts, wake_ends)).T\n",
    "start_end_nrem = np.vstack((nrem_starts, nrem_ends)).T\n",
    "\n",
    "# Create 2d arrays\n",
    "sig_lfp_wake = np.array([sig_lfp[s:e] for s, e in\n",
    "                         zip(wake_starts, wake_ends)])\n",
    "\n",
    "sig_lfp_nrem = np.array([sig_lfp[s:e] for s, e in\n",
    "                         zip(nrem_starts, nrem_ends)])"
   ]
  },
  {
   "cell_type": "markdown",
   "id": "dc34db8a",
   "metadata": {},
   "source": [
    "### Fit Spectra: LFP"
   ]
  },
  {
   "cell_type": "code",
   "execution_count": 9,
   "id": "0deaf829",
   "metadata": {},
   "outputs": [
    {
     "data": {
      "application/vnd.jupyter.widget-view+json": {
       "model_id": "b87d477547824af482619aad8db90510",
       "version_major": 2,
       "version_minor": 0
      },
      "text/plain": [
       "Running FOOOFGroup:   0%|          | 0/427 [00:00<?, ?it/s]"
      ]
     },
     "metadata": {},
     "output_type": "display_data"
    },
    {
     "data": {
      "application/vnd.jupyter.widget-view+json": {
       "model_id": "f11565351eed4a8095f00f8cfc6b0f0a",
       "version_major": 2,
       "version_minor": 0
      },
      "text/plain": [
       "Running FOOOFGroup:   0%|          | 0/536 [00:00<?, ?it/s]"
      ]
     },
     "metadata": {},
     "output_type": "display_data"
    }
   ],
   "source": [
    "fooof_init = {\n",
    "    'aperiodic_mode': 'knee_constant',\n",
    "    'max_n_peaks': 4,\n",
    "    'peak_threshold': 2.5\n",
    "}\n",
    "\n",
    "bounds = [\n",
    "    [-10, 1e-3, 1e-3, 1e-20],\n",
    "    [ 10, 20,     10,  1e-2]\n",
    "]\n",
    "\n",
    "guess = [-2, 1, 1, 1e-2]\n",
    "\n",
    "psd_lfp_wake = PSD()\n",
    "psd_lfp_wake.compute_spectrum(sig_lfp_wake, fs, f_range=(0, 100), ar_order=10)\n",
    "psd_lfp_wake.fit(method='fooof', fooof_init=fooof_init, bounds=bounds, guess=guess,\n",
    "                 n_jobs=-1, progress='tqdm.notebook')\n",
    "\n",
    "psd_lfp_nrem = PSD()\n",
    "psd_lfp_nrem.compute_spectrum(sig_lfp_nrem, fs, f_range=(0, 100), ar_order=10)\n",
    "psd_lfp_nrem.fit(method='fooof', fooof_init=fooof_init, bounds=bounds, guess=guess,\n",
    "                 n_jobs=-1, progress='tqdm.notebook')"
   ]
  },
  {
   "cell_type": "markdown",
   "id": "f8ad30d5",
   "metadata": {},
   "source": [
    "### Plot"
   ]
  },
  {
   "cell_type": "code",
   "execution_count": 10,
   "id": "b34b64fc",
   "metadata": {},
   "outputs": [],
   "source": [
    "# Sec to ms\n",
    "psd_lfp_wake.tau *= 1000\n",
    "psd_lfp_nrem.tau *= 1000\n",
    "\n",
    "# Apply r-squared threshold\n",
    "rsq_thresh = .25\n",
    "\n",
    "nrem_inds = np.where(\n",
    "    (psd_ex_nrem.rsq > rsq_thresh) &\n",
    "    (psd_in_nrem.rsq > rsq_thresh) &\n",
    "    (psd_lfp_nrem.rsq > rsq_thresh)\n",
    ")[0]\n",
    "\n",
    "wake_inds = np.where(\n",
    "    (psd_ex_wake.rsq > rsq_thresh) &\n",
    "    (psd_in_wake.rsq > rsq_thresh) &\n",
    "    (psd_lfp_wake.rsq > rsq_thresh)\n",
    ")[0]\n",
    "\n",
    "# Merge taus\n",
    "taus_nrem = np.concatenate([\n",
    "    psd_lfp_nrem.tau[nrem_inds],\n",
    "    psd_ex_nrem.tau[nrem_inds],\n",
    "    psd_in_nrem.tau[nrem_inds],\n",
    "])\n",
    "\n",
    "taus_wake = np.concatenate([\n",
    "    psd_lfp_wake.tau[wake_inds],\n",
    "    psd_ex_wake.tau[wake_inds],\n",
    "    psd_in_wake.tau[wake_inds]\n",
    "])\n",
    "\n",
    "# Merge labels\n",
    "labels_nrem = [\n",
    "    *['LFP'] * len(nrem_inds),\n",
    "    *['Spikes : Excitatory'] * len(nrem_inds),\n",
    "    *['Spikes : Inhibitory'] * len(nrem_inds)\n",
    "]\n",
    "\n",
    "labels_wake = [\n",
    "    *['LFP'] * len(wake_inds),\n",
    "    *['Spikes : Excitatory'] * len(wake_inds),\n",
    "    *['Spikes : Inhibitory'] * len(wake_inds)\n",
    "]\n",
    "\n",
    "# To dataframe\n",
    "df_nrem = pd.DataFrame(dict(taus=taus_nrem, labels=labels_nrem))\n",
    "df_wake = pd.DataFrame(dict(taus=taus_wake, labels=labels_wake))\n",
    "\n",
    "# Merge\n",
    "taus_nrem = np.zeros(len(df_nrem) + len(df_wake))\n",
    "taus_wake = np.zeros(len(df_nrem) + len(df_wake))\n",
    "\n",
    "taus_nrem[len(df_nrem):] = None\n",
    "taus_wake[:len(df_nrem)] = None\n",
    "\n",
    "# Knee freq to tau (ms)\n",
    "taus_nrem[:len(df_nrem)] = df_nrem['taus'].values\n",
    "taus_wake[len(df_nrem):] = df_wake['taus'].values\n",
    "\n",
    "labels_nrem = np.zeros(len(df_nrem) + len(df_wake), dtype=object)\n",
    "labels_nrem[:len(df_nrem)] = df_nrem['labels'].values\n",
    "labels_nrem[len(df_nrem):] = None\n",
    "\n",
    "labels_wake = np.zeros(len(df_nrem) + len(df_wake), dtype=object)\n",
    "labels_wake[len(df_nrem):] = df_wake['labels'].values\n",
    "labels_wake[:len(df_nrem)] = None\n",
    "\n",
    "labels = np.zeros(len(df_nrem) + len(df_wake), dtype=object)\n",
    "labels[len(df_nrem):] = df_wake['labels'].values\n",
    "labels[:len(df_nrem)] = df_nrem['labels'].values\n",
    "\n",
    "df = pd.DataFrame()\n",
    "\n",
    "df['taus_nrem'] = taus_nrem\n",
    "df['taus_wake'] = taus_wake\n",
    "df['labels_nrem'] = labels_nrem\n",
    "df['labels_wake'] = labels_wake\n",
    "df['labels'] = labels"
   ]
  },
  {
   "cell_type": "code",
   "execution_count": 38,
   "id": "112410b4",
   "metadata": {},
   "outputs": [
    {
     "data": {
      "image/png": "[encoded data removed]",
      "text/plain": [
       "<Figure size 1440x432 with 3 Axes>"
      ]
     },
     "metadata": {},
     "output_type": "display_data"
    }
   ],
   "source": [
    "colors = ['C1', 'C9']\n",
    "\n",
    "overlap_hspace = -.01\n",
    "xlim = (-30, 120)\n",
    "sns.set_theme(style=\"white\", rc={\"axes.facecolor\": (0, 0, 0, 0)})\n",
    "\n",
    "# Initialize the FacetGrid object\n",
    "pal = sns.cubehelix_palette(6, rot=-.25, light=.5)\n",
    "\n",
    "grid = sns.FacetGrid(df, row=\"labels\", hue=\"labels\", aspect=10, height=2, palette=pal, xlim=xlim)\n",
    "\n",
    "# Draw the densities in a few steps\n",
    "grid.map(sns.kdeplot, \"taus_nrem\", clip_on=True, fill=True, alpha=.5, linewidth=2, color=colors[0])\n",
    "grid.map(sns.kdeplot, \"taus_wake\", clip_on=True, fill=True, alpha=.5, linewidth=2, color=colors[1])\n",
    "\n",
    "grid.refline(y=0, linewidth=2, linestyle=\"-\", color=None, clip_on=False)\n",
    "\n",
    "# Label the plot in axes coordinates\n",
    "def label(x, color, label):\n",
    "    ax = plt.gca()\n",
    "    ax.text(.05, .1, label, fontweight=\"bold\", color='k',\n",
    "            ha=\"left\", va=\"center\", transform=ax.transAxes, size=20)\n",
    "\n",
    "grid.map(label, \"taus_nrem\")\n",
    "grid.map(label, \"taus_wake\")\n",
    "\n",
    "# Set the subplots to overlap\n",
    "grid.figure.subplots_adjust(hspace=overlap_hspace)\n",
    "\n",
    "# Remove axes details that don't play well with overlap\n",
    "grid.set_titles(\"\")\n",
    "grid.set(yticks=[], ylabel=\"\")\n",
    "grid.set(xticks=np.linspace(0, xlim[1], 13).astype(int))\n",
    "grid.despine(bottom=False, left=True)\n",
    "\n",
    "grid.set_xticklabels(np.linspace(0, xlim[1], 13).astype(int), size=24)\n",
    "grid.set_xlabels('Timescale (milliseconds)', size=28)\n",
    "\n",
    "# There is no labels, need to define the labels\n",
    "legend_labels  = ['NREM', 'Wake']\n",
    "\n",
    "# Create the legend patches\n",
    "legend_patches = [patches.Patch(color=c, label=l, alpha=.8) for c, l in\n",
    "                  zip(colors, legend_labels)]\n",
    "\n",
    "# Plot the legend\n",
    "grid.axes[0][0].legend(handles=legend_patches, loc='upper right',\n",
    "                       framealpha=0, fontsize=18)\n",
    "\n",
    "# Save\n",
    "plt.savefig('fig05_sleep_vs_wake.png', dpi=300, facecolor='w');"
   ]
  },
  {
   "cell_type": "code",
   "execution_count": 39,
   "id": "940e99cc",
   "metadata": {},
   "outputs": [
    {
     "name": "stdout",
     "output_type": "stream",
     "text": [
      "Wake\n",
      "LFP               : mean=28.044383275109578, std=14.776871634356588\n",
      "Spikes, Excitatory: mean=31.594060388940306, std=10.714504315237816\n",
      "Spikes, Inhibitory: mean=38.615963493698864, std=10.009102191155371\n",
      "\n",
      "NREM\n",
      "LFP               : mean=59.61876538959803, std=22.667503491763\n",
      "Spikes, Excitatory: mean=39.38914478984437, std=15.52607394850858\n",
      "Spikes, Inhibitory: mean=45.8233591517903, std=19.557951221588272\n"
     ]
    }
   ],
   "source": [
    "print('Wake')\n",
    "print(f'LFP               : mean={psd_lfp_wake.tau[wake_inds].mean()}, '\\\n",
    "      f'std={psd_lfp_wake.tau[wake_inds].std()}')\n",
    "\n",
    "print(f'Spikes, Excitatory: mean={psd_ex_wake.tau[wake_inds].mean()}, '\\\n",
    "      f'std={psd_ex_wake.tau[wake_inds].std()}')\n",
    "\n",
    "print(f'Spikes, Inhibitory: mean={psd_in_wake.tau[wake_inds].mean()}, '\\\n",
    "      f'std={psd_in_wake.tau[wake_inds].std()}')\n",
    "\n",
    "print()\n",
    "\n",
    "print(f'NREM')\n",
    "\n",
    "print(f'LFP               : mean={psd_lfp_nrem.tau[nrem_inds].mean()}, '\\\n",
    "      f'std={psd_lfp_nrem.tau[nrem_inds].std()}')\n",
    "\n",
    "print(f'Spikes, Excitatory: mean={psd_ex_nrem.tau[nrem_inds].mean()}, '\\\n",
    "      f'std={psd_ex_nrem.tau[nrem_inds].std()}')\n",
    "\n",
    "print(f'Spikes, Inhibitory: mean={psd_in_nrem.tau[nrem_inds].mean()}, '\\\n",
    "      f'std={psd_in_nrem.tau[nrem_inds].std()}')"
   ]
  },
  {
   "cell_type": "code",
   "execution_count": 40,
   "id": "5f9c3447",
   "metadata": {
    "tags": [
     "hide-input"
    ]
   },
   "outputs": [
    {
     "name": "stdout",
     "output_type": "stream",
     "text": [
      "Wake vs NREM\n",
      "LFP       :  Ttest_indResult(statistic=26.21179265308087, pvalue=4.76513474449946e-112)\n",
      "Excitatory:  Ttest_indResult(statistic=7.709989328694835, pvalue=3.438514642092187e-14)\n",
      "Inhibitory:  Ttest_indResult(statistic=3.38372695420238, pvalue=0.000747082004084111)\n",
      "\n",
      "Wake\n",
      "LFP vs Excitatory: Ttest_relResult(statistic=2.576773510327446, pvalue=0.010400209973630595)\n",
      "LFP vs Inhibitory: Ttest_relResult(statistic=13.76100417988951, pvalue=1.837967809311979e-34)\n",
      "\n",
      "NREM\n",
      "LFP vs Excitatory: Ttest_relResult(statistic=-15.57977377129755, pvalue=2.1891548411738475e-45)\n",
      "LFP vs Inhibitory: Ttest_relResult(statistic=-12.6061404963828, pvalue=4.4365469496275713e-32)\n"
     ]
    }
   ],
   "source": [
    "print('Wake vs NREM')\n",
    "print('LFP       : ', ttest_ind(psd_lfp_wake.knee_freq[wake_inds],\n",
    "                                psd_lfp_nrem.knee_freq[nrem_inds]))\n",
    "\n",
    "print('Excitatory: ', ttest_ind(psd_ex_wake.knee_freq[wake_inds],\n",
    "                                psd_ex_nrem.knee_freq[nrem_inds]))\n",
    "\n",
    "print('Inhibitory: ', ttest_ind(psd_in_wake.knee_freq[wake_inds],\n",
    "                                psd_in_nrem.knee_freq[nrem_inds]))\n",
    " \n",
    "print()\n",
    "print('Wake')\n",
    "print('LFP vs Excitatory:', ttest_rel(psd_lfp_wake.knee_freq[wake_inds],\n",
    "                                      psd_ex_wake.knee_freq[wake_inds]))\n",
    "\n",
    "print('LFP vs Inhibitory:', ttest_rel(psd_lfp_wake.knee_freq[wake_inds],\n",
    "                                      psd_in_wake.knee_freq[wake_inds]))\n",
    "print()\n",
    "print(f'NREM')\n",
    "print('LFP vs Excitatory:', ttest_rel(psd_lfp_nrem.knee_freq[nrem_inds],\n",
    "                                      psd_ex_nrem.knee_freq[nrem_inds]))\n",
    "\n",
    "print('LFP vs Inhibitory:', ttest_rel(psd_lfp_nrem.knee_freq[nrem_inds],\n",
    "                                      psd_in_nrem.knee_freq[nrem_inds]))"
   ]
  },
  {
   "cell_type": "code",
   "execution_count": 41,
   "id": "c870dbf3",
   "metadata": {
    "tags": [
     "hide-input"
    ]
   },
   "outputs": [
    {
     "name": "stdout",
     "output_type": "stream",
     "text": [
      "Correlation\n",
      "Wake: LFP vs Excitatory: r=0.0153, p=0.7802\n",
      "Wake: LFP vs Inhibitory: r=0.0704, p=0.1979\n",
      "\n",
      "NREM: LFP vs Excitatory: r=0.2206, p=0.0000\n",
      "NREM: LFP vs Inhibitory: r=0.5564, p=0.0000\n"
     ]
    }
   ],
   "source": [
    "print('Correlation')\n",
    "\n",
    "print('Wake: LFP vs Excitatory: r={:.4f}, p={:.4f}'.format(\n",
    "    *pearsonr(psd_lfp_wake.knee_freq[wake_inds], psd_ex_wake.knee_freq[wake_inds]))\n",
    ")\n",
    "\n",
    "print('Wake: LFP vs Inhibitory: r={:.4f}, p={:.4f}'.format(\n",
    "    *pearsonr(psd_lfp_wake.knee_freq[wake_inds], psd_in_wake.knee_freq[wake_inds]))\n",
    ")\n",
    "\n",
    "print()\n",
    "\n",
    "print('NREM: LFP vs Excitatory: r={:.4f}, p={:.4f}'.format(\n",
    "    *pearsonr(psd_lfp_nrem.knee_freq[nrem_inds], psd_ex_nrem.knee_freq[nrem_inds]))\n",
    ")\n",
    "\n",
    "print('NREM: LFP vs Inhibitory: r={:.4f}, p={:.4f}'.format(\n",
    "    *pearsonr(psd_lfp_nrem.knee_freq[nrem_inds], psd_in_nrem.knee_freq[nrem_inds]))\n",
    ")"
   ]
  }
 ],
 "metadata": {
  "celltoolbar": "Tags",
  "kernelspec": {
   "display_name": "Python 3",
   "language": "python",
   "name": "python3"
  },
  "language_info": {
   "codemirror_mode": {
    "name": "ipython",
    "version": 3
   },
   "file_extension": ".py",
   "mimetype": "text/x-python",
   "name": "python",
   "nbconvert_exporter": "python",
   "pygments_lexer": "ipython3",
   "version": "3.8.10"
  }
 },
 "nbformat": 4,
 "nbformat_minor": 5
}
