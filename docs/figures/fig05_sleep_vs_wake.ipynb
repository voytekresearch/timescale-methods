{
 "cells": [
  {
   "cell_type": "code",
   "execution_count": 2,
   "id": "c5fb04c7",
   "metadata": {},
   "outputs": [],
   "source": [
    "import warnings\n",
    "from copy import deepcopy\n",
    "\n",
    "from functools import partial\n",
    "from multiprocessing import Pool, cpu_count\n",
    "import os.path as op\n",
    "\n",
    "import matplotlib.pyplot as plt\n",
    "import seaborn as sns\n",
    "\n",
    "import numpy as np\n",
    "\n",
    "from scipy.io import loadmat\n",
    "from scipy.stats import ttest_ind, ttest_rel, pearsonr\n",
    "\n",
    "from neurodsp.spectral import compute_spectrum\n",
    "from neurodsp.utils.norm import normalize_sig\n",
    "from neurodsp.filt import filter_signal\n",
    "\n",
    "from fooof import FOOOF\n",
    "from fooof.objs import combine_fooofs\n",
    "\n",
    "from timescales.fit import convert_knee_val, fit_psd_fooof\n",
    "from timescales.sim import sim_spikes_synaptic\n",
    "from timescales.autoreg import compute_ar_spectrum\n",
    "from timescales.plts import plot_connected_scatter, set_default_rc\n",
    "from timescales.utils import create_windows\n",
    "\n",
    "from tqdm.notebook import tqdm\n",
    "\n",
    "set_default_rc()"
   ]
  },
  {
   "cell_type": "markdown",
   "id": "b739ba9e",
   "metadata": {},
   "source": [
    "#### Figure 4. Sleep vs. Wake\n",
    "The timescales, as knee frequencies, are compared between 4 types of spike trains:\n",
    "\n",
    "- Wake : Excitatory Units\n",
    "- NREM : Excitatory Units\n",
    "- Wake : Inhibitory Units\n",
    "- NREM : Inhibitory Units"
   ]
  },
  {
   "cell_type": "code",
   "execution_count": 3,
   "id": "c37e2b68",
   "metadata": {
    "tags": [
     "hide-cell"
    ]
   },
   "outputs": [],
   "source": [
    "def compute_spectra_trials(spikes_e, spikes_i, start_end, f_range, bin_size, ar_order,\n",
    "                           kwargs_welch=None, kwargs_ar=None, mean=None, variance=None):\n",
    "    \"\"\"Compute Welch's and AR PSD for exciatatory and inhibitory spikes.\"\"\"\n",
    "    \n",
    "    # Ensure unpackable\n",
    "    if kwargs_welch is None:\n",
    "        kwargs_welch = {}\n",
    "    if kwargs_ar is None:\n",
    "        kwargs_ar = {}\n",
    "            \n",
    "    # Compute AR-PSD and Welch's-PSD for each window\n",
    "    for ind, (s, e) in enumerate(start_end):\n",
    "\n",
    "        # Normalize\n",
    "        spikes_bin_e = normalize_sig(\n",
    "            spikes_e[s:e].reshape(-1, bin_size).sum(axis=1), 0, 1)\n",
    "        \n",
    "        spikes_bin_i = normalize_sig(\n",
    "            spikes_i[s:e].reshape(-1, bin_size).sum(axis=1), 0, 1)\n",
    "        \n",
    "        # Compute excitatory spectra\n",
    "        freqs_ar, _powers_ar_e = compute_ar_spectrum(spikes_bin_e, fs/bin_size, ar_order,\n",
    "                                                     f_range=f_range, **kwargs_ar)\n",
    "        \n",
    "        freqs_welch, _powers_welch_e = compute_spectrum(spikes_bin_e, fs/bin_size,\n",
    "                                                        f_range=f_range, **kwargs_welch)\n",
    "        \n",
    "        # Compute inhibitory spectra\n",
    "        _, _powers_ar_i = compute_ar_spectrum(spikes_bin_i, fs/bin_size, ar_order,\n",
    "                                              f_range=f_range, **kwargs_ar)\n",
    "        \n",
    "        _, _powers_welch_i = compute_spectrum(spikes_bin_i, fs/bin_size,\n",
    "                                              f_range=f_range, **kwargs_welch)\n",
    "        \n",
    "        # Initalize arrays\n",
    "        if ind == 0:\n",
    "            \n",
    "            freqs = {'welch': freqs_welch, 'ar': freqs_ar}\n",
    "            \n",
    "            powers = {\n",
    "                'ar': {'excitatory': np.zeros((len(start_end), len(_powers_ar_e))),\n",
    "                       'inhibitory': np.zeros((len(start_end), len(_powers_ar_i)))},\n",
    "                'welch': {'excitatory': np.zeros((len(start_end), len(_powers_welch_e))),\n",
    "                          'inhibitory': np.zeros((len(start_end), len(_powers_welch_i)))}\n",
    "            }\n",
    "            \n",
    "        if mean is not None and variance is not None:\n",
    "            _powers_ar_e = normalize_sig(_powers_ar_e, mean, variance)\n",
    "            _powers_welch_e = normalize_sig(_powers_welch_e, mean, variance)\n",
    "            _powers_ar_i = normalize_sig(_powers_ar_i, mean, variance)\n",
    "            _powers_welch_i = normalize_sig(_powers_welch_i, mean, variance)\n",
    "        \n",
    "        powers['ar']['excitatory'][ind] = _powers_ar_e\n",
    "        powers['welch']['excitatory'][ind] = _powers_welch_e\n",
    "        powers['ar']['inhibitory'][ind] = _powers_ar_i\n",
    "        powers['welch']['inhibitory'][ind] = _powers_welch_i\n",
    "        \n",
    "    return freqs, powers"
   ]
  },
  {
   "cell_type": "code",
   "execution_count": 4,
   "id": "465db332",
   "metadata": {
    "tags": [
     "hide-cell"
    ]
   },
   "outputs": [],
   "source": [
    "# Load data\n",
    "base_name = '20140526_277um'\n",
    "dir_path = f'/home/rph/Projects/timescale-methods/fcx1/{base_name}'\n",
    "\n",
    "subtype_dict = loadmat(f'{dir_path}/{base_name}_SSubtypes.mat')\n",
    "subtype_e = subtype_dict['Se_CellFormat'][0]\n",
    "subtype_i = subtype_dict['Si_CellFormat'][0]\n",
    "\n",
    "fs = 20000\n",
    "\n",
    "n_seconds = np.ceil(max([*[np.max(i) for i in subtype_i], \n",
    "                         *[np.max(i) for i in subtype_e]]))\n",
    "\n",
    "times = np.arange(0, n_seconds, 1/fs)\n",
    "\n",
    "# Extract behavioral data\n",
    "beh_file = f'{dir_path}/{base_name}_WSRestrictedIntervals.mat'\n",
    "beh = loadmat(beh_file)\n",
    "\n",
    "nrem = beh['SWSPacketTimePairFormat'].astype(int) * fs\n",
    "wake = beh['WakeTimePairFormat'].astype(int) *  fs\n",
    "\n",
    "# Window by trial type\n",
    "win_len = int(5*fs)\n",
    "win_spacing = int(5*fs)\n",
    "\n",
    "wake_starts, wake_mids, wake_ends = create_windows(wake, win_len, win_spacing)\n",
    "nrem_starts, nrem_mids, nrem_ends = create_windows(nrem, win_len, win_spacing)\n",
    "\n",
    "start_end_wake = np.vstack((wake_starts, wake_ends)).T\n",
    "start_end_nrem = np.vstack((nrem_starts, nrem_ends)).T"
   ]
  },
  {
   "cell_type": "markdown",
   "id": "8abfae8a",
   "metadata": {},
   "source": [
    "### AR-PSD\n",
    "\n",
    "The AR spectra are influences by the bin size and the AR order parameters. These parameters will influence the resulting timescales measurements. These spectra follow a Lorentzian form."
   ]
  },
  {
   "cell_type": "code",
   "execution_count": 5,
   "id": "51f703c6",
   "metadata": {
    "scrolled": false
   },
   "outputs": [],
   "source": [
    "# Sum spikes across E/I sub-units\n",
    "spikes_e = np.zeros(int(n_seconds * fs))\n",
    "for s in subtype_e:\n",
    "    \n",
    "    st = s[:, 0] * fs\n",
    "    st = st[np.where(st <= len(spikes_e))[0]]\n",
    "\n",
    "    spikes_e[st.astype(int)] = 1\n",
    "         \n",
    "spikes_i = np.zeros(int(n_seconds * fs))\n",
    "for s in subtype_i:\n",
    "    \n",
    "    st = s[:, 0] * fs\n",
    "    st = st[np.where(st <= len(spikes_i))[0]]\n",
    "\n",
    "    spikes_i[st.astype(int)] = 1\n",
    "    \n",
    "# Compute Spectra\n",
    "f_range = (0, 100)\n",
    "bin_size = 200\n",
    "ar_order = 5\n",
    "\n",
    "kwargs_welch = {'nperseg': 2*fs/bin_size}\n",
    "\n",
    "freqs_wake, powers_wake = compute_spectra_trials(\n",
    "    spikes_e, spikes_i, start_end_wake, f_range, bin_size, ar_order,\n",
    "    kwargs_welch=kwargs_welch\n",
    ")\n",
    "\n",
    "freqs_nrem, powers_nrem = compute_spectra_trials(\n",
    "    spikes_e, spikes_i, start_end_nrem, f_range, bin_size, ar_order,\n",
    "    kwargs_welch=kwargs_welch\n",
    ")"
   ]
  },
  {
   "cell_type": "markdown",
   "id": "d91d30ad",
   "metadata": {},
   "source": [
    "### Fit Spectra"
   ]
  },
  {
   "cell_type": "code",
   "execution_count": 8,
   "id": "7ab128e6",
   "metadata": {},
   "outputs": [
    {
     "data": {
      "application/vnd.jupyter.widget-view+json": {
       "model_id": "2dcc08103ce84128ac32237fcffa4ecf",
       "version_major": 2,
       "version_minor": 0
      },
      "text/plain": [
       "Running FOOOFGroup:   0%|          | 0/562 [00:00<?, ?it/s]"
      ]
     },
     "metadata": {},
     "output_type": "display_data"
    },
    {
     "data": {
      "application/vnd.jupyter.widget-view+json": {
       "model_id": "84c387e29ae041019a797d6b11e45dee",
       "version_major": 2,
       "version_minor": 0
      },
      "text/plain": [
       "Running FOOOFGroup:   0%|          | 0/562 [00:00<?, ?it/s]"
      ]
     },
     "metadata": {},
     "output_type": "display_data"
    },
    {
     "data": {
      "application/vnd.jupyter.widget-view+json": {
       "model_id": "984fc4d8a77f45ffbd3856394dcb945b",
       "version_major": 2,
       "version_minor": 0
      },
      "text/plain": [
       "Running FOOOFGroup:   0%|          | 0/429 [00:00<?, ?it/s]"
      ]
     },
     "metadata": {},
     "output_type": "display_data"
    },
    {
     "data": {
      "application/vnd.jupyter.widget-view+json": {
       "model_id": "213666fad14c4f768411b26db0441dbe",
       "version_major": 2,
       "version_minor": 0
      },
      "text/plain": [
       "Running FOOOFGroup:   0%|          | 0/429 [00:00<?, ?it/s]"
      ]
     },
     "metadata": {},
     "output_type": "display_data"
    }
   ],
   "source": [
    "# Fit FOOOF\n",
    "fooof_init = {\n",
    "    'aperiodic_mode': 'knee_constant',\n",
    "    'max_n_peaks': 4,\n",
    "    'peak_threshold': 2.5\n",
    "}\n",
    "\n",
    "ap_bounds = [\n",
    "    [-2, 1e-3, 1e-3, 1e-3],\n",
    "    [ 4, 20,   10,  1e-1]\n",
    "]\n",
    "\n",
    "ap_guess = [-1, 1, 1, 1, 1e-2]\n",
    "\n",
    "with warnings.catch_warnings():\n",
    "\n",
    "    warnings.simplefilter(\"ignore\")\n",
    "\n",
    "    fm_ar_ex_nrem, k_ar_ex_nrem = fit_psd_fooof(\n",
    "        freqs_nrem['ar'], powers_nrem['ar']['excitatory'],\n",
    "        f_range, progress='tqdm.notebook', fooof_init=fooof_init,\n",
    "        ap_bounds=ap_bounds, ap_guess=ap_guess\n",
    "    )\n",
    "\n",
    "    fm_ar_in_nrem, k_ar_in_nrem = fit_psd_fooof(\n",
    "        freqs_nrem['ar'], powers_nrem['ar']['inhibitory'],\n",
    "        f_range, progress='tqdm.notebook', fooof_init=fooof_init,\n",
    "        ap_bounds=ap_bounds, ap_guess=ap_guess\n",
    "    )\n",
    "    \n",
    "    fm_ar_ex_wake, k_ar_ex_wake = fit_psd_fooof(\n",
    "        freqs_wake['ar'], powers_wake['ar']['excitatory'],\n",
    "        f_range, progress='tqdm.notebook', fooof_init=fooof_init,\n",
    "        ap_bounds=ap_bounds, ap_guess=ap_guess\n",
    "    )\n",
    "\n",
    "    fm_ar_in_wake, k_ar_in_wake = fit_psd_fooof(\n",
    "        freqs_wake['ar'], powers_wake['ar']['inhibitory'],\n",
    "        f_range, progress='tqdm.notebook', fooof_init=fooof_init,\n",
    "        ap_bounds=ap_bounds, ap_guess=ap_guess\n",
    "    );"
   ]
  },
  {
   "cell_type": "markdown",
   "id": "317d4105",
   "metadata": {},
   "source": [
    "### Spike Stats\n",
    "\n",
    "The NREM trials have a significantly higher r-squared values, compared to the wake trails. Comparing the timescales between the two may be confounded by this."
   ]
  },
  {
   "cell_type": "code",
   "execution_count": 9,
   "id": "02366c76",
   "metadata": {
    "tags": [
     "hide-input"
    ]
   },
   "outputs": [
    {
     "name": "stdout",
     "output_type": "stream",
     "text": [
      "Excitatory:\n",
      "Wake:  mean= 0.8215759253365615 std= 0.2167119433765959\n",
      "NREM:  mean= 0.9522372413911641 std= 0.06429946000153677\n",
      "Ttest_indResult(statistic=-13.52049854441162, pvalue=2.4050810274766257e-38)\n",
      "\n",
      "Inhibitory:\n",
      "Wake:  mean= 0.7799027817818405 std= 0.2362667642304492\n",
      "NREM:  mean= 0.9638841270974278 std= 0.051020109162062226\n",
      "Ttest_indResult(statistic=-17.90296298553872, pvalue=2.641058978922996e-62)\n"
     ]
    }
   ],
   "source": [
    "# Stats\n",
    "rsq_ar_ex_wake = fm_ar_ex_wake.get_params('r_squared')\n",
    "rsq_ar_in_wake = fm_ar_in_wake.get_params('r_squared')\n",
    "rsq_ar_ex_nrem = fm_ar_ex_nrem.get_params('r_squared')\n",
    "rsq_ar_in_nrem = fm_ar_in_nrem.get_params('r_squared')\n",
    "\n",
    "print('Excitatory:')\n",
    "print('Wake: ', 'mean=', rsq_ar_ex_wake.mean(), 'std=', rsq_ar_ex_wake.std())\n",
    "print('NREM: ', 'mean=', rsq_ar_ex_nrem.mean(), 'std=', rsq_ar_ex_nrem.std())\n",
    "print(ttest_ind(rsq_ar_ex_wake, rsq_ar_ex_nrem))\n",
    "print()\n",
    "print('Inhibitory:')\n",
    "print('Wake: ', 'mean=', rsq_ar_in_wake.mean(), 'std=', rsq_ar_in_wake.std())\n",
    "print('NREM: ', 'mean=', rsq_ar_in_nrem.mean(), 'std=', rsq_ar_in_nrem.std())\n",
    "print(ttest_ind(rsq_ar_in_wake, rsq_ar_in_nrem))"
   ]
  },
  {
   "cell_type": "code",
   "execution_count": 15,
   "id": "5806bfd2",
   "metadata": {
    "tags": [
     "hide-input"
    ]
   },
   "outputs": [
    {
     "name": "stdout",
     "output_type": "stream",
     "text": [
      "Excitatory: Wake vs NREM\n",
      "Wake mean= 6.409594715072436 std= 4.121208985961638\n",
      "NREM mean= 4.673789228183016 std= 2.1088263719458427\n",
      "Ttest_indResult(statistic=8.484542417204866, pvalue=8.272494127773512e-17)\n",
      "\n",
      "Inhibitory: Wake vs NRM\n",
      "Wake mean= 4.912171137370713 std= 2.5277376242104967\n",
      "NREM mean= 4.066242433241119 std= 1.9071543228581433\n",
      "Ttest_indResult(statistic=5.796379002450699, pvalue=9.280707044831033e-09)\n",
      "\n",
      "Wake: Inhibitory vs Excitatory\n",
      "Ttest_indResult(statistic=5.97395220979583, pvalue=3.5699879872169226e-09)\n",
      "\n",
      "NREM: Inhibitory vs Excitatory\n",
      "Ttest_indResult(statistic=5.058982938070548, pvalue=4.92171346057284e-07)\n"
     ]
    }
   ],
   "source": [
    "print('Excitatory: Wake vs NREM')\n",
    "print('Wake', 'mean=', ds[0].mean(), 'std=', ds[0].std())\n",
    "print('NREM', 'mean=', ds[1].mean(), 'std=', ds[1].std())\n",
    "print(ttest_ind(ds[0], ds[1]))\n",
    "print()\n",
    "print('Inhibitory: Wake vs NRM')\n",
    "print('Wake', 'mean=', ds[2].mean(), 'std=', ds[2].std())\n",
    "print('NREM', 'mean=', ds[3].mean(), 'std=', ds[3].std())\n",
    "print(ttest_ind(ds[2], ds[3]))\n",
    "print()\n",
    "print('Wake: Inhibitory vs Excitatory')\n",
    "print(ttest_ind(ds[0], ds[2]))\n",
    "print()\n",
    "print('NREM: Inhibitory vs Excitatory')\n",
    "print(ttest_ind(ds[1], ds[3]))"
   ]
  },
  {
   "cell_type": "markdown",
   "id": "c03ec47d",
   "metadata": {},
   "source": [
    "### Spikes vs LFPs\n",
    "\n",
    "Spike versus LFP timescale comparison."
   ]
  },
  {
   "cell_type": "code",
   "execution_count": 16,
   "id": "d693688d",
   "metadata": {
    "tags": [
     "hide-cell"
    ]
   },
   "outputs": [],
   "source": [
    "# Load LFP\n",
    "data_id = '20140526_277um'\n",
    "data_dir = f'/home/rph/Projects/timescale-methods/fcx1/data_mats/{data_id}'\n",
    "fs = 1250\n",
    "\n",
    "# Infer shape using one channel\n",
    "lfp_file = op.join(data_dir, 'data01.mat')\n",
    "sig_len = len(loadmat(lfp_file)['data'][0])\n",
    "\n",
    "# Get PFC channels\n",
    "channels = list(range(17, 49))\n",
    "sig_lfp = np.zeros(sig_len)\n",
    "\n",
    "for cind, ch in enumerate(channels):\n",
    "    lfp_file = op.join(data_dir, f'data{ch}.mat')\n",
    "    _sig_lfp = loadmat(lfp_file)['data'][0]\n",
    "    sig_lfp += _sig_lfp\n",
    "    \n",
    "del _sig_lfp\n",
    "\n",
    "sig_lfp = sig_lfp / len(channels)\n",
    "sig_lfp =  normalize_sig(sig_lfp, 0, 1)\n",
    "\n",
    "times = np.arange(0, len(sig_lfp)/fs, 1/fs)\n",
    "\n",
    "# Windows\n",
    "nrem = beh['SWSPacketTimePairFormat'].astype(int) * fs\n",
    "wake = beh['WakeTimePairFormat'].astype(int) * fs\n",
    "\n",
    "# Window by trial type\n",
    "win_len = int(5*fs)\n",
    "win_spacing = int(5*fs)\n",
    "\n",
    "wake_starts, wake_mids, wake_ends = create_windows(wake, win_len, win_spacing)\n",
    "nrem_starts, nrem_mids, nrem_ends = create_windows(nrem, win_len, win_spacing)\n",
    "\n",
    "start_end_wake = np.vstack((wake_starts, wake_ends)).T\n",
    "start_end_nrem = np.vstack((nrem_starts, nrem_ends)).T"
   ]
  },
  {
   "cell_type": "code",
   "execution_count": 17,
   "id": "9b3cd67e",
   "metadata": {
    "tags": [
     "hide-cell"
    ]
   },
   "outputs": [],
   "source": [
    "def _fit_windows(start_end, sig=None):\n",
    "\n",
    "    # Settings\n",
    "    ar_order = 5\n",
    "    f_range = (0, 100)\n",
    "    fooof_init = {'max_n_peaks': 4, 'peak_threshold':2.5}\n",
    "    \n",
    "    start, end = start_end[0], start_end[1]\n",
    "    sig_win = sig[start:end]\n",
    "    \n",
    "    freqs_ar, powers_ar = compute_ar_spectrum(sig_win, fs, ar_order)\n",
    "    \n",
    "    ap_bounds = [\n",
    "        [-2, 1e-3, 1e-3],\n",
    "        [ 4, 20,   10]\n",
    "    ]\n",
    "\n",
    "    ap_guess = [-1, 1, 1, 1]\n",
    "\n",
    "    fm_ar, _ = fit_psd(freqs_ar, powers_ar, f_range, fooof_init, f_range, n_jobs=1)\n",
    "\n",
    "    return fm_ar"
   ]
  },
  {
   "cell_type": "code",
   "execution_count": 18,
   "id": "486091a3",
   "metadata": {},
   "outputs": [
    {
     "data": {
      "application/vnd.jupyter.widget-view+json": {
       "model_id": "84423fd36b1c421b8a345307d6f7e585",
       "version_major": 2,
       "version_minor": 0
      },
      "text/plain": [
       "  0%|          | 0/429 [00:00<?, ?it/s]"
      ]
     },
     "metadata": {},
     "output_type": "display_data"
    },
    {
     "data": {
      "application/vnd.jupyter.widget-view+json": {
       "model_id": "ef9256327b9e416e9bdf46170bebbb4b",
       "version_major": 2,
       "version_minor": 0
      },
      "text/plain": [
       "  0%|          | 0/562 [00:00<?, ?it/s]"
      ]
     },
     "metadata": {},
     "output_type": "display_data"
    }
   ],
   "source": [
    "with Pool(cpu_count()) as pool:\n",
    "    \n",
    "    mapping = pool.imap(partial(_fit_windows, sig=sig_lfp), start_end_wake)\n",
    "    \n",
    "    fm_ar_lfp_wake = list(tqdm(mapping, total=len(start_end_wake)))\n",
    "    \n",
    "with Pool(cpu_count()) as pool:\n",
    "    \n",
    "    mapping = pool.imap(partial(_fit_windows, sig=sig_lfp), start_end_nrem)\n",
    "    \n",
    "    fm_ar_lfp_nrem = list(tqdm(mapping, total=len(start_end_nrem)))"
   ]
  },
  {
   "cell_type": "code",
   "execution_count": 19,
   "id": "815a4eee",
   "metadata": {},
   "outputs": [],
   "source": [
    "fg_ar_lfp_wake = combine_fooofs(fm_ar_lfp_wake)\n",
    "fg_ar_lfp_nrem = combine_fooofs(fm_ar_lfp_nrem)\n",
    "\n",
    "knees_wake_ar_lfp = fg_ar_lfp_wake.get_params('aperiodic', 'knee')\n",
    "knees_nrem_ar_lfp = fg_ar_lfp_nrem.get_params('aperiodic', 'knee')\n",
    "\n",
    "rsq_ar_lfp_nrem = fg_ar_lfp_nrem.get_params('r_squared')\n",
    "rsq_ar_lfp_wake = fg_ar_lfp_wake.get_params('r_squared')\n",
    "\n",
    "nrem_inds = np.where(\n",
    "    (rsq_ar_lfp_nrem > .5) &\n",
    "    (rsq_ar_ex_nrem > .5) &\n",
    "    (rsq_ar_in_nrem > .5)\n",
    ")[0]\n",
    "\n",
    "wake_inds = np.where(\n",
    "    (rsq_ar_lfp_wake > .5) &\n",
    "    (rsq_ar_ex_wake > .5) &\n",
    "    (rsq_ar_in_wake > .5)\n",
    ")[0]"
   ]
  },
  {
   "cell_type": "code",
   "execution_count": 22,
   "id": "c651bb49",
   "metadata": {
    "tags": [
     "hide-input"
    ]
   },
   "outputs": [
    {
     "name": "stdout",
     "output_type": "stream",
     "text": [
      "Wake\n",
      "LFP               : mean=5.371863121940904, std=2.2536124508768727\n",
      "Spikes, Excitatory: mean=6.363997375551424, std=4.198598518206156\n",
      "Spikes, Inhibitory: mean=4.847543482591124, std=2.458113586429114\n",
      "\n",
      "NREM\n",
      "LFP               : mean=1.4899557708348041, std=0.9704939378607275\n",
      "Spikes, Excitatory: mean=4.673789228183016, std=2.1088263719458427\n",
      "Spikes, Inhibitory: mean=4.064769041959997, std=1.9085337474328592\n"
     ]
    }
   ],
   "source": [
    "print('Wake')\n",
    "print(f'LFP               : mean={knees_wake_ar_lfp[wake_inds].mean()}, std={knees_wake_ar_lfp[wake_inds].std()}')\n",
    "print(f'Spikes, Excitatory: mean={k_ar_ex_wake[wake_inds].mean()}, std={k_ar_ex_wake[wake_inds].std()}')\n",
    "print(f'Spikes, Inhibitory: mean={k_ar_in_wake[wake_inds].mean()}, std={k_ar_in_wake[wake_inds].std()}')\n",
    "print()\n",
    "print(f'NREM')\n",
    "print(f'LFP               : mean={knees_nrem_ar_lfp[nrem_inds].mean()}, std={knees_nrem_ar_lfp[nrem_inds].std()}')\n",
    "print(f'Spikes, Excitatory: mean={k_ar_ex_nrem[nrem_inds].mean()}, std={k_ar_ex_nrem[nrem_inds].std()}')\n",
    "print(f'Spikes, Inhibitory: mean={k_ar_in_nrem[nrem_inds].mean()}, std={k_ar_in_nrem[nrem_inds].std()}')"
   ]
  },
  {
   "cell_type": "code",
   "execution_count": 23,
   "id": "5f9c3447",
   "metadata": {
    "tags": [
     "hide-input"
    ]
   },
   "outputs": [
    {
     "name": "stdout",
     "output_type": "stream",
     "text": [
      "Spikes\n",
      "Wake vs NREM:      Ttest_indResult(statistic=35.573269239021656, pvalue=2.9283622128562756e-173)\n",
      "\n",
      "Wake\n",
      "LFP vs Excitatory: Ttest_relResult(statistic=-3.5524527252328557, pvalue=0.0004368965649147672)\n",
      "LFP vs Inhibitory: Ttest_relResult(statistic=2.7376687246608116, pvalue=0.006521110647650202)\n",
      "\n",
      "NREM\n",
      "LFP vs Excitatory: Ttest_relResult(statistic=-36.43345331293269, pvalue=7.156876977406037e-150)\n",
      "LFP vs Inhibitory: Ttest_relResult(statistic=-39.07404420870041, pvalue=4.308699128732805e-162)\n"
     ]
    }
   ],
   "source": [
    "print('Spikes')\n",
    "print('Wake vs NREM:     ', ttest_ind(knees_wake_ar_lfp[wake_inds], knees_nrem_ar_lfp[nrem_inds]))\n",
    "print()\n",
    "print('Wake')\n",
    "print('LFP vs Excitatory:', ttest_rel(knees_wake_ar_lfp[wake_inds], k_ar_ex_wake[wake_inds]))\n",
    "print('LFP vs Inhibitory:', ttest_rel(knees_wake_ar_lfp[wake_inds], k_ar_in_wake[wake_inds]))\n",
    "print()\n",
    "print(f'NREM')\n",
    "print('LFP vs Excitatory:', ttest_rel(knees_nrem_ar_lfp[nrem_inds], k_ar_ex_nrem[nrem_inds]))\n",
    "print('LFP vs Inhibitory:', ttest_rel(knees_nrem_ar_lfp[nrem_inds], k_ar_in_nrem[nrem_inds]))"
   ]
  },
  {
   "cell_type": "code",
   "execution_count": 24,
   "id": "c870dbf3",
   "metadata": {
    "tags": [
     "hide-input"
    ]
   },
   "outputs": [
    {
     "name": "stdout",
     "output_type": "stream",
     "text": [
      "Correlation\n",
      "Wake: LFP vs Excitatory: r=-0.1685, p=0.0020\n",
      "Wake: LFP vs Inhibitory: r=-0.0954, p=0.0822\n",
      "\n",
      "NREM: LFP vs Excitatory: r=0.2718, p=0.0000\n",
      "NREM: LFP vs Inhibitory: r=0.5811, p=0.0000\n"
     ]
    }
   ],
   "source": [
    "print('Correlation')\n",
    "\n",
    "print('Wake: LFP vs Excitatory: r={:.4f}, p={:.4f}'.format(*pearsonr(knees_wake_ar_lfp[wake_inds],\n",
    "                                                                     k_ar_ex_wake[wake_inds])))\n",
    "\n",
    "print('Wake: LFP vs Inhibitory: r={:.4f}, p={:.4f}'.format(*pearsonr(knees_wake_ar_lfp[wake_inds],\n",
    "                                                                     k_ar_in_wake[wake_inds])))\n",
    "print()\n",
    "print('NREM: LFP vs Excitatory: r={:.4f}, p={:.4f}'.format(*pearsonr(knees_nrem_ar_lfp[nrem_inds],\n",
    "                                                                     k_ar_ex_nrem[nrem_inds])))\n",
    "\n",
    "print('NREM: LFP vs Inhibitory: r={:.4f}, p={:.4f}'.format(*pearsonr(knees_nrem_ar_lfp[nrem_inds],\n",
    "                                                                     k_ar_in_nrem[nrem_inds])))"
   ]
  },
  {
   "cell_type": "code",
   "execution_count": 233,
   "id": "de9505c5",
   "metadata": {},
   "outputs": [],
   "source": [
    "knees = np.concatenate([\n",
    "    knees_wake_ar_lfp[wake_inds],\n",
    "    k_ar_ex_wake[wake_inds],\n",
    "    k_ar_in_wake[wake_inds],\n",
    "    knees_nrem_ar_lfp[nrem_inds],\n",
    "    k_ar_ex_nrem[nrem_inds],\n",
    "    k_ar_in_nrem[nrem_inds]\n",
    "])\n",
    "\n",
    "labels = [\n",
    "    *['LFP : Wake'] * len(wake_inds),\n",
    "    *['Spikes : Excitatory : Wake'] * len(wake_inds),\n",
    "    *['Spikes : Inhibitory : Wake'] * len(wake_inds),\n",
    "    *['LFP : NREM'] * len(nrem_inds),\n",
    "    *['Spikes : Excitatory : NREM'] * len(nrem_inds),\n",
    "    *['Spikes : Inhibitory : NREM'] * len(nrem_inds)\n",
    "]\n",
    "\n",
    "df = pd.DataFrame(dict(knees=knees, labels=labels))"
   ]
  },
  {
   "cell_type": "code",
   "execution_count": 242,
   "id": "248afa61",
   "metadata": {
    "tags": [
     "hide-input"
    ]
   },
   "outputs": [
    {
     "data": {
      "image/png": "[encoded data removed]",
      "text/plain": [
       "<Figure size 1440x864 with 6 Axes>"
      ]
     },
     "metadata": {},
     "output_type": "display_data"
    }
   ],
   "source": [
    "def plot_overlapping_densities(df, xlim, overlap_hspace=-.5):\n",
    "    \n",
    "    sns.set_theme(style=\"white\", rc={\"axes.facecolor\": (0, 0, 0, 0)})\n",
    "\n",
    "    # Initialize the FacetGrid object\n",
    "    pal = sns.cubehelix_palette(6, rot=-.25, light=.5)\n",
    "    \n",
    "    grid = sns.FacetGrid(df, row=\"labels\", hue=\"labels\", aspect=10,\n",
    "                         height=2, palette=pal, xlim=xlim)\n",
    "\n",
    "    # Draw the densities in a few steps\n",
    "    grid.map(sns.kdeplot, \"knees\", clip_on=True,\n",
    "             fill=True, alpha=1, linewidth=2)\n",
    "   \n",
    "    grid.map(sns.kdeplot, \"knees\", clip_on=True, color=\"w\", lw=2.5, bw_adjust=1)\n",
    "\n",
    "    grid.refline(y=0, linewidth=2, linestyle=\"-\", color=None, clip_on=False)\n",
    "\n",
    "    # Label the plot in axes coordinates\n",
    "    def label(x, color, label):\n",
    "        ax = plt.gca()\n",
    "        ax.text(0, .2, label, fontweight=\"bold\", color=color,\n",
    "                ha=\"left\", va=\"center\", transform=ax.transAxes, size=20)\n",
    "\n",
    "    grid.map(label, \"knees\")\n",
    "\n",
    "    # Set the subplots to overlap\n",
    "    grid.figure.subplots_adjust(hspace=overlap_hspace)\n",
    "\n",
    "    # Remove axes details that don't play well with overlap\n",
    "    grid.set_titles(\"\")\n",
    "    grid.set(yticks=[], ylabel=\"\")\n",
    "    grid.set(xticks=np.arange(0, xlim[1]+1))\n",
    "    grid.despine(bottom=False, left=True)\n",
    "    \n",
    "    grid.set_xticklabels(np.arange(0, xlim[1]+1), size=24)\n",
    "    grid.set_xlabels('Knee Frequency (Hertz)', size=28)\n",
    "    \n",
    "    return g\n",
    "\n",
    "plot_overlapping_densities(df, (-4, 12), overlap_hspace=-0.75)\n",
    "plt.savefig('overlapping_knee_densities.png', dpi=300, facecolor='w', bbox_inches=\"tight\");"
   ]
  }
 ],
 "metadata": {
  "celltoolbar": "Tags",
  "kernelspec": {
   "display_name": "Python 3",
   "language": "python",
   "name": "python3"
  },
  "language_info": {
   "codemirror_mode": {
    "name": "ipython",
    "version": 3
   },
   "file_extension": ".py",
   "mimetype": "text/x-python",
   "name": "python",
   "nbconvert_exporter": "python",
   "pygments_lexer": "ipython3",
   "version": "3.8.10"
  }
 },
 "nbformat": 4,
 "nbformat_minor": 5
}
