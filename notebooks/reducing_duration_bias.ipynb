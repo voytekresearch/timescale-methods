{
 "cells": [
  {
   "cell_type": "code",
   "execution_count": 1,
   "id": "7454e4e8",
   "metadata": {},
   "outputs": [],
   "source": [
    "import os\n",
    "import sys\n",
    "import warnings\n",
    "import contextlib\n",
    "from itertools import combinations\n",
    "from tqdm.notebook import tqdm\n",
    "from timeit import default_timer as timer\n",
    "\n",
    "import matplotlib.pyplot as plt\n",
    "import numpy as np\n",
    "\n",
    "from neurodsp.spectral import compute_spectrum\n",
    "from timescales.sim import sim_spikes_synaptic\n",
    "from timescales.fit import convert_knee_val, fit_psd\n",
    "from timescales.optimize import fit_grid\n",
    "\n",
    "# abcTau\n",
    "sys.path.append('/home/rph/Projects/abcTau')\n",
    "sys.path.append('/home/rph/Projects/abcTau/abcTau')\n",
    "import abcTau\n",
    "from abcTau import distance_functions\n",
    "from scipy import stats"
   ]
  },
  {
   "cell_type": "markdown",
   "id": "11327f3d",
   "metadata": {},
   "source": [
    "### Addressing Finite Duration Bias with Grid Search\n",
    "\n",
    "This notebook examines if hyperparameter gridsearch can be used to minimize finite duration bias. Taking the mean timescale of a grid of parameters significantly reduces finite duration bias. Specifically bias from 1s simulation approaches a comparable timescale variance as from 10s simulations, when the mean of the grid is used. This means that gridsearch may be an alternative to Zeraati 2021, which uses a Bayesian model to reduce bias. Both methods are slow, but direct comparison may be useful to see which method performs better.\n",
    "\n",
    "The grid could be further explored to determine which hyperparamaters are most useful for reducing bias. Eliminating parameters that aren't useful could speed up computation time or accuracy."
   ]
  },
  {
   "cell_type": "code",
   "execution_count": 2,
   "id": "0652a9aa",
   "metadata": {},
   "outputs": [],
   "source": [
    "def get_knee(probs, fs):\n",
    "    \n",
    "    try:\n",
    "        freqs, powers = compute_spectrum(probs, fs, f_range=(1, 100))\n",
    "        _, knee_freq, _ = fit_psd(freqs, powers, (1, 100))\n",
    "    except:\n",
    "        get_knee(probs, fs)\n",
    "        \n",
    "    return knee_freq\n",
    "\n",
    "def _fit_grid(sig, fs, grid, max_n_params=int(1e3), return_time=False):\n",
    "    \n",
    "    with warnings.catch_warnings():\n",
    "        \n",
    "        warnings.simplefilter(\"ignore\")\n",
    "        \n",
    "        start = timer()\n",
    "        params = fit_grid(sig, fs, grid, mode='psd', max_n_params=max_n_params,\n",
    "                          n_jobs=-1, chunksize=20)\n",
    "        end = timer()\n",
    "        \n",
    "        knees = np.array([p[1] for p in params])\n",
    "        time = end - start\n",
    "        \n",
    "    if return_time:\n",
    "        return knees, time\n",
    "    else:\n",
    "        return knees"
   ]
  },
  {
   "cell_type": "code",
   "execution_count": 3,
   "id": "7df61c81",
   "metadata": {
    "scrolled": true
   },
   "outputs": [
    {
     "data": {
      "application/vnd.jupyter.widget-view+json": {
       "model_id": "1d95ef4e20b74ed8a7b1bd0938a1e32a",
       "version_major": 2,
       "version_minor": 0
      },
      "text/plain": [
       "  0%|          | 0/100 [00:00<?, ?it/s]"
      ]
     },
     "metadata": {},
     "output_type": "display_data"
    },
    {
     "data": {
      "application/vnd.jupyter.widget-view+json": {
       "model_id": "f422402896d4429f9ca485f0e81af852",
       "version_major": 2,
       "version_minor": 0
      },
      "text/plain": [
       "  0%|          | 0/100 [00:00<?, ?it/s]"
      ]
     },
     "metadata": {},
     "output_type": "display_data"
    },
    {
     "data": {
      "application/vnd.jupyter.widget-view+json": {
       "model_id": "87893405ba274c4abe3f250653a68302",
       "version_major": 2,
       "version_minor": 0
      },
      "text/plain": [
       "  0%|          | 0/100 [00:00<?, ?it/s]"
      ]
     },
     "metadata": {},
     "output_type": "display_data"
    }
   ],
   "source": [
    "n_seconds_params = [1, 10, 100]\n",
    "fs = 1000\n",
    "n_iters = 100\n",
    "\n",
    "knee_freqs = np.zeros((len(n_seconds_params), n_iters))\n",
    "\n",
    "seed_ind = 0\n",
    "for ind, n_seconds in enumerate(n_seconds_params):\n",
    "    \n",
    "    for n in tqdm(range(n_iters)):\n",
    "        \n",
    "        # Generate timeseries\n",
    "        #   Note: this isn't stored to limit memory usage\n",
    "        np.random.seed(seed_ind)\n",
    "        seed_ind += 1\n",
    "                  \n",
    "        probs, _ = sim_spikes_synaptic(n_seconds, fs, convert_knee_val(10))\n",
    "        \n",
    "        _knee_freq = get_knee(probs, fs)\n",
    "            \n",
    "        knee_freqs[ind][n] = _knee_freq"
   ]
  },
  {
   "cell_type": "markdown",
   "id": "d0a31909",
   "metadata": {},
   "source": [
    "### Baseline: No Grid Search"
   ]
  },
  {
   "cell_type": "code",
   "execution_count": 4,
   "id": "1c7807b0",
   "metadata": {},
   "outputs": [
    {
     "data": {
      "text/plain": [
       "Text(0.5, 0, 'Seconds')"
      ]
     },
     "execution_count": 4,
     "metadata": {},
     "output_type": "execute_result"
    },
    {
     "data": {
      "image/png": "[encoded data removed]",
      "text/plain": [
       "<Figure size 432x288 with 1 Axes>"
      ]
     },
     "metadata": {
      "needs_background": "light"
     },
     "output_type": "display_data"
    }
   ],
   "source": [
    "plt.violinplot(knee_freqs[0])\n",
    "\n",
    "plt.violinplot(knee_freqs[1], positions=[2])\n",
    "\n",
    "plt.violinplot(knee_freqs[2], positions=[3])\n",
    "\n",
    "plt.axhline(10, color='k', ls='--')\n",
    "\n",
    "plt.xticks(ticks=[1, 2, 3], labels=['1', '10', '100'])\n",
    "plt.ylabel('Tau (hertz)')\n",
    "plt.xlabel('Seconds')"
   ]
  },
  {
   "cell_type": "markdown",
   "id": "d096c566",
   "metadata": {},
   "source": [
    "### Grid Search"
   ]
  },
  {
   "cell_type": "code",
   "execution_count": 5,
   "id": "6ca7694c",
   "metadata": {},
   "outputs": [],
   "source": [
    "specparam_grid = {\n",
    "    # Init kwargs\n",
    "    'peak_width_limits': np.array(list(combinations(np.arange(1, 10, 2), 2))),\n",
    "    'max_n_peaks': np.arange(1, 13, 3),\n",
    "    'peak_threshold': np.arange(1, 5),\n",
    "    # Self kwargs (post-init)\n",
    "    'knee_freq_bounds': np.array([[.1, 20]]),\n",
    "    'exp_bounds': np.column_stack((np.array([.01, 1, 2]), np.arange(2, 5))),\n",
    "    # Compute spectra kwargs\n",
    "    'nperseg': (np.linspace(.5, 1.5, 5) * fs).astype(int),\n",
    "    'noverlap': np.arange(0, 10, 2)/10,\n",
    "    # Fit kwargs\n",
    "    'freq_range': np.array([[0, 100]])\n",
    "}"
   ]
  },
  {
   "cell_type": "code",
   "execution_count": 6,
   "id": "adf9397c",
   "metadata": {},
   "outputs": [
    {
     "data": {
      "application/vnd.jupyter.widget-view+json": {
       "model_id": "b77f014e058640d99db073be93b8a968",
       "version_major": 2,
       "version_minor": 0
      },
      "text/plain": [
       "  0%|          | 0/100 [00:00<?, ?it/s]"
      ]
     },
     "metadata": {},
     "output_type": "display_data"
    }
   ],
   "source": [
    "fs = 1000\n",
    "n_iters = 100\n",
    "max_n_params = int(1e3)\n",
    "\n",
    "knee_freqs_grid = np.zeros((n_iters, max_n_params))\n",
    "times = np.zeros(n_iters)\n",
    "\n",
    "seed_ind = 0\n",
    "for n in tqdm(range(n_iters), total=n_iters):\n",
    "\n",
    "    np.random.seed(seed_ind)\n",
    "    seed_ind += 1\n",
    "\n",
    "    probs, _ = sim_spikes_synaptic(1, fs, convert_knee_val(10))\n",
    "\n",
    "    _knee_freq, _time = _fit_grid(probs, fs, specparam_grid, max_n_params=max_n_params,\n",
    "                                  return_time=True)\n",
    "    \n",
    "    knee_freqs_grid[n] = _knee_freq\n",
    "    times[n] = _time"
   ]
  },
  {
   "cell_type": "code",
   "execution_count": 7,
   "id": "620421ed",
   "metadata": {
    "scrolled": true
   },
   "outputs": [
    {
     "data": {
      "text/plain": [
       "Text(0.5, 0, 'Seconds')"
      ]
     },
     "execution_count": 7,
     "metadata": {},
     "output_type": "execute_result"
    },
    {
     "data": {
      "image/png": "[encoded data removed]",
      "text/plain": [
       "<Figure size 432x288 with 1 Axes>"
      ]
     },
     "metadata": {
      "needs_background": "light"
     },
     "output_type": "display_data"
    }
   ],
   "source": [
    "plt.violinplot(knee_freqs[0])\n",
    "\n",
    "plt.violinplot(knee_freqs_grid.mean(axis=1), positions=[2])\n",
    "\n",
    "plt.axhline(10, color='k', ls='--')\n",
    "\n",
    "plt.xticks(ticks=[1, 2], labels=['1', '1 (Grid)'])\n",
    "plt.ylabel('Tau (hertz)')\n",
    "plt.xlabel('Seconds')"
   ]
  },
  {
   "cell_type": "code",
   "execution_count": 8,
   "id": "3f10d168",
   "metadata": {},
   "outputs": [
    {
     "data": {
      "text/plain": [
       "Text(0.5, 0, 'Seconds')"
      ]
     },
     "execution_count": 8,
     "metadata": {},
     "output_type": "execute_result"
    },
    {
     "data": {
      "image/png": "[encoded data removed]",
      "text/plain": [
       "<Figure size 432x288 with 1 Axes>"
      ]
     },
     "metadata": {
      "needs_background": "light"
     },
     "output_type": "display_data"
    }
   ],
   "source": [
    "plt.violinplot(knee_freqs_grid.mean(axis=1))\n",
    "\n",
    "plt.violinplot(knee_freqs[1], positions=[2])\n",
    "\n",
    "plt.axhline(10, color='k', ls='--')\n",
    "\n",
    "plt.xticks(ticks=[1, 2], labels=['1 (Grid)', '10'])\n",
    "plt.ylim(0, 60)\n",
    "plt.ylabel('Tau (hertz)')\n",
    "plt.xlabel('Seconds')"
   ]
  },
  {
   "cell_type": "markdown",
   "id": "0c7d92c6",
   "metadata": {},
   "source": [
    "### Comparison with abcTau\n",
    "\n",
    "The random grid search above is compared with the abcTau approach below."
   ]
  },
  {
   "cell_type": "code",
   "execution_count": 9,
   "id": "6cc6997a",
   "metadata": {},
   "outputs": [
    {
     "data": {
      "application/vnd.jupyter.widget-view+json": {
       "model_id": "630ec7335f5a4fba9f8d30bb3bd833dd",
       "version_major": 2,
       "version_minor": 0
      },
      "text/plain": [
       "  0%|          | 0/100 [00:00<?, ?it/s]"
      ]
     },
     "metadata": {},
     "output_type": "display_data"
    }
   ],
   "source": [
    "sigs = np.zeros((n_iters, int(fs)))\n",
    "\n",
    "seed_ind = 0\n",
    "for n in tqdm(range(n_iters), total=n_iters):\n",
    "\n",
    "    np.random.seed(seed_ind)\n",
    "    seed_ind += 1\n",
    "\n",
    "    probs, _ = sim_spikes_synaptic(1, fs, convert_knee_val(10))\n",
    "    sigs[n] = probs"
   ]
  },
  {
   "cell_type": "code",
   "execution_count": 10,
   "id": "0e4d517c",
   "metadata": {},
   "outputs": [],
   "source": [
    "# creating model object\n",
    "class ABCModel(abcTau.Model):\n",
    "\n",
    "    #This method initializes the model object.  \n",
    "    def __init__(self):\n",
    "        pass\n",
    "        \n",
    "    # draw samples from the prior. \n",
    "    def draw_theta(self):\n",
    "        theta = []\n",
    "        for p in self.prior:\n",
    "            theta.append(p.rvs())\n",
    "        return theta\n",
    "\n",
    "    # Choose the generative model (from generative_models)\n",
    "    # Choose autocorrelation computation method (from basic_functions)\n",
    "    def generate_data(self, theta):\n",
    "        # generate synthetic data\n",
    "        if disp == None:\n",
    "            syn_data, numBinData =  eval('abcTau.generative_models.' + generativeModel + \\\n",
    "                                         '(theta, deltaT, binSize, T, numTrials, data_mean, data_var)')\n",
    "        else:\n",
    "            syn_data, numBinData =  eval('abcTau.generative_models.' + generativeModel + \\\n",
    "                                         '(theta, deltaT, binSize, T, numTrials, data_mean, data_var, disp)')\n",
    "               \n",
    "        # compute the summary statistics\n",
    "        syn_sumStat = abcTau.summary_stats.comp_sumStat(syn_data, summStat_metric, ifNorm, deltaT, binSize, T,\\\n",
    "                                          numBinData, maxTimeLag)   \n",
    "        return syn_sumStat\n",
    "\n",
    "    # Computes the summary statistics\n",
    "    def summary_stats(self, data):\n",
    "        sum_stat = data\n",
    "        return sum_stat\n",
    "\n",
    "    # Choose the method for computing distance (from basic_functions)\n",
    "    def distance_function(self, data, synth_data):\n",
    "        if np.nansum(synth_data) <= 0: # in case of all nans return large d to reject the sample\n",
    "            d = 10**4\n",
    "        else:\n",
    "            d = eval('distance_functions.' +distFunc + '(data, synth_data)')        \n",
    "        return d\n",
    "    \n",
    "    \n",
    "def fit_abc(ABCModel, sigs, priors, epsilon_0, min_samples, steps,\n",
    "            min_acceptance_rate, parallel, n_procs, disp):\n",
    "\n",
    "    taus = np.zeros(len(sigs))\n",
    "    times = np.zeros(len(sigs))\n",
    "    \n",
    "    for ind, sig in tqdm(enumerate(sigs), total=len(sigs)):\n",
    "        \n",
    "        _sig = np.array([sig])\n",
    "        \n",
    "        # Hack\n",
    "        global data_mean\n",
    "        global data_var\n",
    "        global trial_duration\n",
    "        global num_trials\n",
    "        \n",
    "        # Summary stats\n",
    "        summary_stats, data_mean, data_var, trial_duration, num_trials =  \\\n",
    "            abcTau.preprocessing.extract_stats(_sig, deltaT, binSize,\n",
    "                                               summStat_metric, ifNorm, maxTimeLag)\n",
    "        \n",
    "        # Fit\n",
    "        with open(os.devnull, \"w\") as f, contextlib.redirect_stdout(f):\n",
    "            start = timer()\n",
    "            abc_results, final_step = abcTau.fit.fit_withABC(ABCModel, summary_stats, priors, inter_save_direc,\n",
    "                                                             inter_filename, datasave_path, filenameSave, epsilon_0,\n",
    "                                                             min_samples, steps, min_acceptance_rate, parallel,\n",
    "                                                             n_procs, disp)\n",
    "            end = timer()\n",
    "        \n",
    "        taus[ind] =  (abc_results[final_step-1][0] / fs).mean()\n",
    "        times[ind] = end - start\n",
    "    \n",
    "    return taus, times"
   ]
  },
  {
   "cell_type": "code",
   "execution_count": 11,
   "id": "154b643d",
   "metadata": {},
   "outputs": [],
   "source": [
    "# Setup output directories required for abcTau\n",
    "def clean_mkdir(path):\n",
    "    dirs = path.split('/')\n",
    "\n",
    "    dir_path = ''\n",
    "    for d in dirs:\n",
    "        if len(d) == 0:\n",
    "            continue\n",
    "        \n",
    "        if dir_path == '':\n",
    "            dir_path = d\n",
    "        else:\n",
    "            dir_path = dir_path + '/' + d\n",
    "        \n",
    "        if not os.path.isdir(dir_path):\n",
    "            os.mkdir(dir_path)\n",
    "            \n",
    "\n",
    "datasave_path = 'abc/example_abc_results/'\n",
    "inter_save_direc = 'abc/example_abc_results/'\n",
    "inter_filename = 'abc_intermediate_results'\n",
    "filenameSave = 'simulation'\n",
    "\n",
    "for path in [datasave_path, inter_save_direc]:\n",
    "    clean_mkdir(path)"
   ]
  },
  {
   "cell_type": "code",
   "execution_count": 16,
   "id": "44c8f10e",
   "metadata": {},
   "outputs": [],
   "source": [
    "# abcTau settings\n",
    "summStat_metric = 'comp_psd'\n",
    "deltaT = 1\n",
    "binSize = 1\n",
    "disp = None \n",
    "maxTimeLag = 50\n",
    "ifNorm = True\n",
    "generativeModel = 'oneTauOU'\n",
    "distFunc = 'linear_distance'\n",
    "epsilon_0 = 1\n",
    "min_samples = 100\n",
    "steps = 60\n",
    "min_acceptance_rate = 0.1\n",
    "parallel = True\n",
    "n_procs = 12\n",
    "numTrials = 1\n",
    "numTimePoints = len(sigs[0])\n",
    "T = numTimePoints* deltaT\n",
    "\n",
    "# Uniform Priors\n",
    "t_min = 0.0\n",
    "t_max = 100.0\n",
    "priors = [stats.uniform(loc=t_min, scale = t_max - t_min)]"
   ]
  },
  {
   "cell_type": "code",
   "execution_count": 17,
   "id": "3d9fbf3e",
   "metadata": {},
   "outputs": [
    {
     "data": {
      "application/vnd.jupyter.widget-view+json": {
       "model_id": "8415f5979c8341389a39ca7cde58c9f0",
       "version_major": 2,
       "version_minor": 0
      },
      "text/plain": [
       "  0%|          | 0/100 [00:00<?, ?it/s]"
      ]
     },
     "metadata": {},
     "output_type": "display_data"
    }
   ],
   "source": [
    "# Fit\n",
    "taus_abs, times_abc = fit_abc(ABCModel, sigs, priors, epsilon_0, min_samples,\n",
    "                         steps, min_acceptance_rate, parallel, n_procs, disp)"
   ]
  },
  {
   "cell_type": "code",
   "execution_count": 32,
   "id": "69777c19",
   "metadata": {},
   "outputs": [
    {
     "data": {
      "text/plain": [
       "Text(0.5, 0, 'Method')"
      ]
     },
     "execution_count": 32,
     "metadata": {},
     "output_type": "execute_result"
    },
    {
     "data": {
      "image/png": "[encoded data removed]",
      "text/plain": [
       "<Figure size 864x432 with 2 Axes>"
      ]
     },
     "metadata": {
      "needs_background": "light"
     },
     "output_type": "display_data"
    }
   ],
   "source": [
    "fig, axes = plt.subplots(ncols=2, figsize=(12, 6))\n",
    "\n",
    "axes[0].set_title('Tau Estimates', size=20)\n",
    "axes[0].violinplot(knee_freqs_grid.mean(axis=1))\n",
    "axes[0].violinplot(convert_knee_val(taus_abs), positions=[2])\n",
    "\n",
    "axes[0].axhline(10, color='k', ls='--')\n",
    "\n",
    "axes[0].set_xticks(ticks=[1, 2], labels=['Grid Search', 'abcTau'], size=16)\n",
    "axes[0].set_ylabel('Tau (hertz)', size=18)\n",
    "axes[0].set_xlabel('Method', size=18)\n",
    "\n",
    "\n",
    "axes[1].set_title('Computation Time', size=20)\n",
    "axes[1].violinplot(times * n_iters)\n",
    "axes[1].violinplot(times_abc * n_iters, positions=[2])\n",
    "\n",
    "axes[1].set_xticks(ticks=[1, 2], labels=['Grid Search', 'abcTau'], size=16)\n",
    "axes[1].set_ylabel('Time (seconds)', size=18)\n",
    "axes[1].set_xlabel('Method', size=18)"
   ]
  }
 ],
 "metadata": {
  "kernelspec": {
   "display_name": "Python 3",
   "language": "python",
   "name": "python3"
  },
  "language_info": {
   "codemirror_mode": {
    "name": "ipython",
    "version": 3
   },
   "file_extension": ".py",
   "mimetype": "text/x-python",
   "name": "python",
   "nbconvert_exporter": "python",
   "pygments_lexer": "ipython3",
   "version": "3.8.10"
  }
 },
 "nbformat": 4,
 "nbformat_minor": 5
}
