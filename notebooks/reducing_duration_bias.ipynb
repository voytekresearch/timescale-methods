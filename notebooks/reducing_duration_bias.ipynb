{
 "cells": [
  {
   "cell_type": "code",
   "execution_count": 1,
   "id": "7454e4e8",
   "metadata": {},
   "outputs": [],
   "source": [
    "import warnings\n",
    "from itertools import combinations\n",
    "from tqdm.notebook import tqdm\n",
    "import matplotlib.pyplot as plt\n",
    "\n",
    "import numpy as np\n",
    "\n",
    "from neurodsp.spectral import compute_spectrum\n",
    "\n",
    "from timescales.sim import sim_spikes_synaptic\n",
    "from timescales.fit import convert_knee_val, fit_psd\n",
    "from timescales.optimize import fit_grid"
   ]
  },
  {
   "cell_type": "markdown",
   "id": "11327f3d",
   "metadata": {},
   "source": [
    "### Addressing Finite Duration Bias with Grid Search\n",
    "\n",
    "This notebook examines if hyperparameter gridsearch can be used to minimize finite duration bias. Taking the mean timescale of a grid of parameters significantly reduces finite duration bias. Specifically bias from 1s simulation approaches a comparable timescale variance as from 10s simulations, when the mean of the grid is used. This means that gridsearch may be an alternative to Zeraati 2021, which uses a Bayesian model to reduce bias. Both methods are slow, but direct comparison may be useful to see which method performs better.\n",
    "\n",
    "The grid could be further explored to determine which hyperparamaters are most useful for reducing bias. Eliminating parameters that aren't useful could speed up computation time or accuracy."
   ]
  },
  {
   "cell_type": "code",
   "execution_count": 2,
   "id": "0652a9aa",
   "metadata": {},
   "outputs": [],
   "source": [
    "def get_knee(probs, fs):\n",
    "    \n",
    "    try:\n",
    "        freqs, powers = compute_spectrum(probs, fs, f_range=(1, 100))\n",
    "        _, knee_freq, _ = fit_psd(freqs, powers, (1, 100))\n",
    "    except:\n",
    "        get_knee(probs, fs)\n",
    "        \n",
    "    return knee_freq\n",
    "\n",
    "def fit_grid_no_warnings(sig, fs, grid, max_n_params=int(1e3)):\n",
    "    \n",
    "    with warnings.catch_warnings():\n",
    "        \n",
    "        warnings.simplefilter(\"ignore\")\n",
    "        \n",
    "        params = fit_grid(sig, fs, grid, mode='psd', max_n_params=max_n_params,\n",
    "                          n_jobs=-1, chunksize=20)\n",
    "        \n",
    "        knees = np.array([p[1] for p in params])\n",
    "        \n",
    "    return knees"
   ]
  },
  {
   "cell_type": "code",
   "execution_count": 3,
   "id": "7df61c81",
   "metadata": {
    "scrolled": true
   },
   "outputs": [
    {
     "data": {
      "application/vnd.jupyter.widget-view+json": {
       "model_id": "cc9dded020774dfaae9e19b2addcbdfd",
       "version_major": 2,
       "version_minor": 0
      },
      "text/plain": [
       "  0%|          | 0/100 [00:00<?, ?it/s]"
      ]
     },
     "metadata": {},
     "output_type": "display_data"
    },
    {
     "data": {
      "application/vnd.jupyter.widget-view+json": {
       "model_id": "e5ba0385ab8b49dc8d207093d70f3a04",
       "version_major": 2,
       "version_minor": 0
      },
      "text/plain": [
       "  0%|          | 0/100 [00:00<?, ?it/s]"
      ]
     },
     "metadata": {},
     "output_type": "display_data"
    },
    {
     "data": {
      "application/vnd.jupyter.widget-view+json": {
       "model_id": "813d80f6a6d44781a0441b1d86dbb298",
       "version_major": 2,
       "version_minor": 0
      },
      "text/plain": [
       "  0%|          | 0/100 [00:00<?, ?it/s]"
      ]
     },
     "metadata": {},
     "output_type": "display_data"
    }
   ],
   "source": [
    "n_seconds_params = [1, 10, 100]\n",
    "fs = 1000\n",
    "n_iters = 100\n",
    "\n",
    "knee_freqs = np.zeros((len(n_seconds_params), n_iters))\n",
    "\n",
    "seed_ind = 0\n",
    "for ind, n_seconds in enumerate(n_seconds_params):\n",
    "    \n",
    "    for n in tqdm(range(n_iters)):\n",
    "        np.random.seed(seed_ind)\n",
    "        seed_ind += 1\n",
    "                  \n",
    "        probs, _ = sim_spikes_synaptic(n_seconds, fs, convert_knee_val(10))\n",
    "        \n",
    "        _knee_freq = get_knee(probs, fs)\n",
    "            \n",
    "        knee_freqs[ind][n] = _knee_freq"
   ]
  },
  {
   "cell_type": "markdown",
   "id": "d0a31909",
   "metadata": {},
   "source": [
    "### Baseline: No Grid Search"
   ]
  },
  {
   "cell_type": "code",
   "execution_count": 10,
   "id": "1c7807b0",
   "metadata": {},
   "outputs": [
    {
     "data": {
      "text/plain": [
       "Text(0.5, 0, 'Seconds')"
      ]
     },
     "execution_count": 10,
     "metadata": {},
     "output_type": "execute_result"
    },
    {
     "data": {
      "image/png": "[encoded data removed]",
      "text/plain": [
       "<Figure size 432x288 with 1 Axes>"
      ]
     },
     "metadata": {
      "needs_background": "light"
     },
     "output_type": "display_data"
    }
   ],
   "source": [
    "plt.violinplot(knee_freqs[0])\n",
    "\n",
    "plt.violinplot(knee_freqs[1], positions=[2])\n",
    "\n",
    "plt.violinplot(knee_freqs[2], positions=[3])\n",
    "\n",
    "plt.axhline(10, color='k', ls='--')\n",
    "\n",
    "plt.xticks(ticks=[1, 2, 3], labels=['1', '10', '100'])\n",
    "plt.ylabel('Tau (hertz)')\n",
    "plt.xlabel('Seconds')"
   ]
  },
  {
   "cell_type": "markdown",
   "id": "d096c566",
   "metadata": {},
   "source": [
    "### Grid Search"
   ]
  },
  {
   "cell_type": "code",
   "execution_count": 5,
   "id": "6ca7694c",
   "metadata": {},
   "outputs": [],
   "source": [
    "specparam_grid = {\n",
    "    # Init kwargs\n",
    "    'peak_width_limits': np.array(list(combinations(np.arange(1, 10, 2), 2))),\n",
    "    'max_n_peaks': np.arange(1, 13, 3),\n",
    "    'peak_threshold': np.arange(1, 5),\n",
    "    # Self kwargs (post-init)\n",
    "    'knee_freq_bounds': np.array([[.1, 20]]),\n",
    "    'exp_bounds': np.column_stack((np.array([.01, 1, 2]), np.arange(2, 5))),\n",
    "    # Compute spectra kwargs\n",
    "    'nperseg': (np.linspace(.5, 1.5, 5) * fs).astype(int),\n",
    "    'noverlap': np.arange(0, 10, 2)/10,\n",
    "    # Fit kwargs\n",
    "    'freq_range': np.array([[0, 100]])\n",
    "}"
   ]
  },
  {
   "cell_type": "code",
   "execution_count": 17,
   "id": "adf9397c",
   "metadata": {},
   "outputs": [
    {
     "data": {
      "application/vnd.jupyter.widget-view+json": {
       "model_id": "0c4ae83e43e64168ac754d6ea1e2aa0f",
       "version_major": 2,
       "version_minor": 0
      },
      "text/plain": [
       "  0%|          | 0/100 [00:00<?, ?it/s]"
      ]
     },
     "metadata": {},
     "output_type": "display_data"
    }
   ],
   "source": [
    "fs = 1000\n",
    "n_iters = 100\n",
    "\n",
    "knee_freqs_grid = np.zeros((n_iters, int(1e3)))\n",
    "\n",
    "seed_ind = 0\n",
    "for n in tqdm(range(n_iters), total=n_iters):\n",
    "\n",
    "    np.random.seed(seed_ind)\n",
    "    seed_ind += 1\n",
    "\n",
    "    probs, _ = sim_spikes_synaptic(1, fs, convert_knee_val(10))\n",
    "\n",
    "    knee_freqs_grid[n] = fit_grid_no_warnings(probs, fs, specparam_grid, max_n_params=int(1e3))"
   ]
  },
  {
   "cell_type": "code",
   "execution_count": 20,
   "id": "620421ed",
   "metadata": {
    "scrolled": true
   },
   "outputs": [
    {
     "data": {
      "text/plain": [
       "Text(0.5, 0, 'Seconds')"
      ]
     },
     "execution_count": 20,
     "metadata": {},
     "output_type": "execute_result"
    },
    {
     "data": {
      "image/png": "[encoded data removed]",
      "text/plain": [
       "<Figure size 432x288 with 1 Axes>"
      ]
     },
     "metadata": {
      "needs_background": "light"
     },
     "output_type": "display_data"
    }
   ],
   "source": [
    "plt.violinplot(knee_freqs[0])\n",
    "\n",
    "plt.violinplot(knee_freqs_grid.mean(axis=1), positions=[2])\n",
    "\n",
    "plt.axhline(10, color='k', ls='--')\n",
    "\n",
    "plt.xticks(ticks=[1, 2], labels=['1', '1 (Grid)'])\n",
    "plt.ylabel('Tau (hertz)')\n",
    "plt.xlabel('Seconds')"
   ]
  },
  {
   "cell_type": "code",
   "execution_count": 23,
   "id": "3f10d168",
   "metadata": {},
   "outputs": [
    {
     "data": {
      "text/plain": [
       "Text(0.5, 0, 'Seconds')"
      ]
     },
     "execution_count": 23,
     "metadata": {},
     "output_type": "execute_result"
    },
    {
     "data": {
      "image/png": "[encoded data removed]",
      "text/plain": [
       "<Figure size 432x288 with 1 Axes>"
      ]
     },
     "metadata": {
      "needs_background": "light"
     },
     "output_type": "display_data"
    }
   ],
   "source": [
    "plt.violinplot(knee_freqs_grid.mean(axis=1))\n",
    "\n",
    "plt.violinplot(knee_freqs[1], positions=[2])\n",
    "\n",
    "plt.axhline(10, color='k', ls='--')\n",
    "\n",
    "plt.xticks(ticks=[1, 2], labels=['1 (Grid)', '10'])\n",
    "plt.ylim(0, 60)\n",
    "plt.ylabel('Tau (hertz)')\n",
    "plt.xlabel('Seconds')"
   ]
  }
 ],
 "metadata": {
  "kernelspec": {
   "display_name": "Python 3",
   "language": "python",
   "name": "python3"
  },
  "language_info": {
   "codemirror_mode": {
    "name": "ipython",
    "version": 3
   },
   "file_extension": ".py",
   "mimetype": "text/x-python",
   "name": "python",
   "nbconvert_exporter": "python",
   "pygments_lexer": "ipython3",
   "version": "3.8.10"
  }
 },
 "nbformat": 4,
 "nbformat_minor": 5
}
