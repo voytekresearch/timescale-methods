{
 "cells": [
  {
   "cell_type": "code",
   "execution_count": 1,
   "id": "7d3cac68",
   "metadata": {},
   "outputs": [],
   "source": [
    "import numpy as np\n",
    "from scipy.io import loadmat\n",
    "from scipy.optimize import curve_fit\n",
    "import pandas as pd\n",
    "\n",
    "import matplotlib.pyplot as plt\n",
    "\n",
    "from neurodsp.spectral import compute_spectrum\n",
    "\n",
    "from timescales.fit import convert_knee_val\n",
    "from timescales.sim import sim_spikes_synaptic\n",
    "from timescales.utils import create_windows, get_distinct_windows"
   ]
  },
  {
   "cell_type": "markdown",
   "id": "2ca6a5f4",
   "metadata": {},
   "source": [
    "### Modified Lorentzian\n",
    "\n",
    "This notebook adds a modified Lorentzian, specifically the addition of a constant, that allows tapering to a constant power at high frequencies. This is commonly found in spike trains (real and simulated) and in autoregressive estimates of PSD.\n",
    "\n",
    "This removes the guess work when deciding on a spike bin size. Before, binning or narrowing in on a frequency range was required to ignore the tapered tail of the PSD."
   ]
  },
  {
   "cell_type": "code",
   "execution_count": 2,
   "id": "9674f81d",
   "metadata": {},
   "outputs": [
    {
     "data": {
      "image/png": "[encoded data removed]",
      "text/plain": [
       "<Figure size 432x288 with 1 Axes>"
      ]
     },
     "metadata": {
      "needs_background": "light"
     },
     "output_type": "display_data"
    }
   ],
   "source": [
    "np.random.seed(0)\n",
    "n_seconds = 100\n",
    "fs = 10000\n",
    "tau = convert_knee_val(10)\n",
    "\n",
    "_, spikes = sim_spikes_synaptic(n_seconds, fs, tau, n_neurons=1)\n",
    "freqs, powers = compute_spectrum(spikes, fs)\n",
    "\n",
    "plt.title('PSD: Spikes')\n",
    "plt.loglog(freqs, powers);\n"
   ]
  },
  {
   "cell_type": "code",
   "execution_count": 3,
   "id": "b188d360",
   "metadata": {},
   "outputs": [],
   "source": [
    "def fit_lorentzian(freqs, powers, guess=None, bounds=None):\n",
    "    \n",
    "    if bounds is None:\n",
    "        bounds = [\n",
    "            [0,   0, -10, 0],\n",
    "            [3, 100,  10, 10]\n",
    "        ]\n",
    "    if guess is None:\n",
    "        guess = [2, 1, 0, 0]\n",
    "    \n",
    "    params, _ = curve_fit(lorentzian, freqs, np.log10(powers),\n",
    "                          p0=guess, bounds=bounds)\n",
    "    \n",
    "    return params\n",
    "\n",
    "    \n",
    "def lorentzian(xs, exp, knee, b, c):\n",
    "    \n",
    "    return np.log10(10**b * (1 / (knee**(exp) + xs**(exp))) + c)"
   ]
  },
  {
   "cell_type": "code",
   "execution_count": 4,
   "id": "65a4c68d",
   "metadata": {},
   "outputs": [
    {
     "data": {
      "text/plain": [
       "[<matplotlib.lines.Line2D at 0x7fd127d4f670>]"
      ]
     },
     "execution_count": 4,
     "metadata": {},
     "output_type": "execute_result"
    },
    {
     "data": {
      "image/png": "[encoded data removed]",
      "text/plain": [
       "<Figure size 432x288 with 1 Axes>"
      ]
     },
     "metadata": {
      "needs_background": "light"
     },
     "output_type": "display_data"
    }
   ],
   "source": [
    "params = fit_lorentzian(freqs[1:], powers[1:])\n",
    "\n",
    "plt.figure(1)\n",
    "plt.loglog(freqs[1:], powers[1:])\n",
    "plt.loglog(freqs[1:], 10**lorentzian(freqs[1:], *params))"
   ]
  },
  {
   "cell_type": "code",
   "execution_count": 5,
   "id": "8b803003",
   "metadata": {},
   "outputs": [
    {
     "name": "stdout",
     "output_type": "stream",
     "text": [
      "Simulated Knee Freq:  10\n",
      "Estimated Knee Freq:  10.242814396539467\n"
     ]
    }
   ],
   "source": [
    "print('Simulated Knee Freq: ', 10)\n",
    "print('Estimated Knee Freq: ', params[1])"
   ]
  },
  {
   "cell_type": "markdown",
   "id": "3a573450",
   "metadata": {},
   "source": [
    "### Real Data"
   ]
  },
  {
   "cell_type": "code",
   "execution_count": 6,
   "id": "fb1d0d52",
   "metadata": {},
   "outputs": [],
   "source": [
    "# Load data\n",
    "dir_path = '/home/rph/Projects/timescale-methods/fcx1/20140526_277um'\n",
    "subtype_dict = loadmat(f'{dir_path}/20140526_277um_SSubtypes.mat')\n",
    "\n",
    "fs = 20000\n",
    "n_seconds = 14000\n",
    "times = np.arange(0, n_seconds, 1/fs)\n",
    "\n",
    "spikes = subtype_dict['Si_CellFormat'][0][2][:, 0]\n",
    "spikes = spikes * fs\n",
    "spikes = spikes.astype(int)\n",
    "\n",
    "# Extract behavioral data\n",
    "beh_file = f'{dir_path}/20140526_277um_WSRestrictedIntervals.mat'\n",
    "\n",
    "beh = loadmat(beh_file)\n",
    "\n",
    "nrem = beh['SWSPacketTimePairFormat'].astype(int) * fs\n",
    "wake = beh['WakeTimePairFormat'].astype(int) * fs\n",
    "rem = beh['REMTimePairFormat'].astype(int) * fs\n",
    "\n",
    "# Window by trial type\n",
    "win_len = int(2*fs)\n",
    "win_spacing = int(2*fs)\n",
    "\n",
    "wake_starts, wake_mids, wake_ends = create_windows(wake, win_len, win_spacing)\n",
    "nrem_starts, nrem_mids, nrem_ends = create_windows(nrem, win_len, win_spacing)"
   ]
  },
  {
   "cell_type": "code",
   "execution_count": 7,
   "id": "c0aa3ed5",
   "metadata": {},
   "outputs": [],
   "source": [
    "subtype = subtype_dict['Se_CellFormat'][0]\n",
    "\n",
    "bin_size = 1\n",
    "\n",
    "start_end = np.vstack((wake_starts, wake_ends)).T\n",
    "\n",
    "powers = np.zeros((len(subtype), len(start_end), 101))\n",
    "\n",
    "for i in range(len(subtype)):\n",
    "    \n",
    "    spikes = np.zeros(int(n_seconds * fs))\n",
    "    spikes_unit = subtype[i][:, 0]\n",
    "    spikes_unit = spikes_unit * fs\n",
    "    spikes_unit = spikes_unit.astype(int)\n",
    "    spikes[spikes_unit] = 1\n",
    "    \n",
    "    for ind, (s, e) in enumerate(start_end):\n",
    "    \n",
    "        _spikes = spikes[s:e]\n",
    "\n",
    "        spikes_bin = _spikes.reshape(-1, bin_size).sum(axis=1)\n",
    "        \n",
    "        freqs, p = compute_spectrum(spikes_bin, fs/bin_size, f_range=(0, 100))\n",
    "        \n",
    "        powers[i, ind] = p\n",
    "        \n",
    "# Reorganize by unit\n",
    "n_units = np.shape(powers)[0]\n",
    "n_powers = np.shape(powers)[-1]\n",
    "\n",
    "powers_mean = np.zeros((n_units, n_powers))\n",
    "    \n",
    "for i, p in enumerate(powers):\n",
    "    powers_mean[i] = np.mean(p, axis=0)"
   ]
  },
  {
   "cell_type": "code",
   "execution_count": 8,
   "id": "758ab533",
   "metadata": {},
   "outputs": [
    {
     "data": {
      "image/png": "[encoded data removed]",
      "text/plain": [
       "<Figure size 432x288 with 1 Axes>"
      ]
     },
     "metadata": {
      "needs_background": "light"
     },
     "output_type": "display_data"
    }
   ],
   "source": [
    "powers = powers_mean[46]\n",
    "params = fit_lorentzian(freqs[1:], powers[1:])\n",
    "\n",
    "plt.figure(1)\n",
    "plt.title('Spikes : CRCNS')\n",
    "plt.loglog(freqs[1:], powers[1:])\n",
    "plt.loglog(freqs[1:], 10**lorentzian(freqs[1:], *params));"
   ]
  }
 ],
 "metadata": {
  "kernelspec": {
   "display_name": "Python 3",
   "language": "python",
   "name": "python3"
  },
  "language_info": {
   "codemirror_mode": {
    "name": "ipython",
    "version": 3
   },
   "file_extension": ".py",
   "mimetype": "text/x-python",
   "name": "python",
   "nbconvert_exporter": "python",
   "pygments_lexer": "ipython3",
   "version": "3.8.10"
  }
 },
 "nbformat": 4,
 "nbformat_minor": 5
}
