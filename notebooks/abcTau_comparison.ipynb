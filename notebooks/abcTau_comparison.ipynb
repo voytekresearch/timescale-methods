{
 "cells": [
  {
   "cell_type": "code",
   "execution_count": 4,
   "id": "52a0fb89",
   "metadata": {},
   "outputs": [],
   "source": [
    "# add the path to the abcTau package\n",
    "import sys\n",
    "sys.path.append('./abcTau')\n",
    "import abcTau \n",
    "\n",
    "import numpy as np\n",
    "from scipy import stats\n",
    "\n",
    "import matplotlib.pyplot as plt\n",
    "from neurodsp.spectral import compute_spectrum\n",
    "from timescales.fit import fit_acf, fit_psd, compute_acf, convert_knee_val\n",
    "from timescales.sim import sim_spikes_synaptic"
   ]
  },
  {
   "cell_type": "markdown",
   "id": "09b416a1",
   "metadata": {},
   "source": [
    "# abcTau vs ACF fitting vs SpecParam"
   ]
  },
  {
   "cell_type": "markdown",
   "id": "b78008a1",
   "metadata": {},
   "source": [
    "Here, 500 1s trials are simulated with a tau corresponding to 10hz (with no oscillations). abcTau produces more accurate results than either fitting the ACF with an exponential or using SpecParam. However this is also at the expense of an exponentially longer compute time.\n",
    "\n",
    "SpecParam could also be replace the generative model to be used with abcTau."
   ]
  },
  {
   "cell_type": "code",
   "execution_count": 7,
   "id": "f211a017",
   "metadata": {},
   "outputs": [
    {
     "data": {
      "text/plain": [
       "[<matplotlib.lines.Line2D at 0x7f1f259d17c0>]"
      ]
     },
     "execution_count": 7,
     "metadata": {},
     "output_type": "execute_result"
    },
    {
     "data": {
      "image/png": "[encoded data removed]",
      "text/plain": [
       "<Figure size 432x288 with 1 Axes>"
      ]
     },
     "metadata": {
      "needs_background": "light"
     },
     "output_type": "display_data"
    }
   ],
   "source": [
    "# Simulate\n",
    "n_seconds = 1\n",
    "fs = 1000\n",
    "tau = 0.025 # corresonds to ~10hz\n",
    "\n",
    "n_iters = 500\n",
    "probs = np.zeros((n_iters, 1000))\n",
    "for i in range(n_iters):\n",
    "    _probs, _ = sim_spikes_synaptic(n_seconds, fs, tau, n_neurons=1)\n",
    "    probs[i] = _probs\n",
    "    \n",
    "corrs = compute_acf(probs, len(probs))\n",
    "plt.plot(corrs.mean(axis=0))"
   ]
  },
  {
   "cell_type": "markdown",
   "id": "8f818005",
   "metadata": {},
   "source": [
    "### 1. Fit with basic exponential decay, taking the mean ACF across trials (or neurons) and fitting."
   ]
  },
  {
   "cell_type": "code",
   "execution_count": 11,
   "id": "1a5b5b94",
   "metadata": {},
   "outputs": [
    {
     "name": "stdout",
     "output_type": "stream",
     "text": [
      "Ground Truth:  0.025\n",
      "ACF         :  0.02148299769926104\n",
      "Spec        :  0.022575723135084318\n"
     ]
    }
   ],
   "source": [
    "params = fit_acf(corrs.mean(axis=0), 1000)\n",
    "\n",
    "freqs, powers = compute_spectrum(probs, fs)\n",
    "_, _, knee_tau = fit_psd(freqs, powers.mean(axis=0), (0, 100))\n",
    "\n",
    "print('Ground Truth: ', tau)\n",
    "print('ACF         : ', params[0])\n",
    "print('Spec        : ', knee_tau)"
   ]
  },
  {
   "cell_type": "markdown",
   "id": "770921d8",
   "metadata": {},
   "source": [
    "### 2. Use abctau to fit using PSD model"
   ]
  },
  {
   "cell_type": "code",
   "execution_count": 12,
   "id": "041c6470",
   "metadata": {},
   "outputs": [
    {
     "data": {
      "image/png": "[encoded data removed]",
      "text/plain": [
       "<Figure size 432x288 with 1 Axes>"
      ]
     },
     "metadata": {
      "needs_background": "light"
     },
     "output_type": "display_data"
    }
   ],
   "source": [
    "# path for loading and saving data\n",
    "datasave_path = 'example_abc_results_/'\n",
    "dataload_path = 'example_data_/'\n",
    "\n",
    "# path and filename to save the intermediate results after running each step\n",
    "inter_save_direc = 'example_abc_results/_'\n",
    "inter_filename = 'abc_intermediate_results_psd_'\n",
    "\n",
    "# define filename for loading and saving the results\n",
    "filename = 'OU_tau20_mean0_var1_rawData_'\n",
    "filenameSave = filename\n",
    "\n",
    "# select summary statistics metric\n",
    "summStat_metric = 'comp_psd'\n",
    "ifNorm = True # if normalize the autocorrelation or PSD\n",
    "\n",
    "# extract statistics from real data\n",
    "deltaT = 1 # temporal resolution of data.\n",
    "binSize = 1 #  bin-size for binning data and computing the autocorrelation.\n",
    "disp = None # put the disperssion parameter if computed with grid-search\n",
    "maxTimeLag = None # only used when suing autocorrelation for summary statistics\n",
    "data_sumStat, data_mean, data_var, T, numTrials = \\\n",
    "    abcTau.preprocessing.extract_stats(probs, deltaT, binSize, summStat_metric, ifNorm, maxTimeLag)\n",
    "\n",
    "plt.loglog(data_sumStat)\n",
    "\n",
    "# Define the prior distribution\n",
    "# for a uniform prior: stats.uniform(loc=x_min,scale=x_max-x_min)\n",
    "t_min = 0.0 # first timescale\n",
    "t_max = 100.0\n",
    "priorDist = [stats.uniform(loc= t_min, scale = t_max - t_min)]\n",
    "\n",
    "# select generative model and distance function\n",
    "generativeModel = 'oneTauOU'\n",
    "distFunc = 'logarithmic_distance'\n",
    "\n",
    "# set fitting params\n",
    "epsilon_0 = 1  # initial error threshold\n",
    "min_samples = 100 # min samples from the posterior\n",
    "steps = 60 # max number of iterations\n",
    "minAccRate = 0.05 # minimum acceptance rate to stop the iterations\n",
    "parallel = True # if parallel processing\n",
    "n_procs = -1 # number of processor for parallel processing (set to 1 if there is no parallel processing)\n",
    "\n",
    "\n",
    "class MyModel(abcTau.Model):\n",
    "\n",
    "    def __init__(self):\n",
    "        pass\n",
    "\n",
    "    # draw samples from the prior. \n",
    "    def draw_theta(self):\n",
    "        theta = []\n",
    "        for p in self.prior:\n",
    "            theta.append(p.rvs())\n",
    "        return theta\n",
    "\n",
    "    # Choose the generative model (from generative_models)\n",
    "    # Choose autocorrelation computation method (from basic_functions)\n",
    "    def generate_data(self, theta):\n",
    "        # generate synthetic data\n",
    "        if disp == None:\n",
    "            syn_data, numBinData =  eval('abcTau.generative_models.' + generativeModel + \\\n",
    "                                         '(theta, deltaT, binSize, T, numTrials, data_mean, data_var)')\n",
    "        else:\n",
    "            syn_data, numBinData =  eval('abcTau.generative_models.' + generativeModel + \\\n",
    "                                         '(theta, deltaT, binSize, T, numTrials, data_mean, data_var, disp)')\n",
    "               \n",
    "        # compute the summary statistics\n",
    "        syn_sumStat = abcTau.summary_stats.comp_sumStat(syn_data, summStat_metric, ifNorm, deltaT, binSize, T,\\\n",
    "                                          numBinData, maxTimeLag)   \n",
    "        return syn_sumStat\n",
    "\n",
    "    # Computes the summary statistics\n",
    "    def summary_stats(self, data):\n",
    "        sum_stat = data\n",
    "        return sum_stat\n",
    "\n",
    "    # Choose the method for computing distance (from basic_functions)\n",
    "    def distance_function(self, data, synth_data):\n",
    "        if np.nansum(synth_data) <= 0: # in case of all nans return large d to reject the sample\n",
    "            d = 10**4\n",
    "        else:\n",
    "            d = eval('abcTau.distance_functions.' +distFunc + '(data, synth_data)')        \n",
    "        return d"
   ]
  },
  {
   "cell_type": "code",
   "execution_count": 14,
   "id": "863812d1",
   "metadata": {
    "scrolled": true
   },
   "outputs": [
    {
     "name": "stdout",
     "output_type": "stream",
     "text": [
      "Starting step 0\n",
      "epsilon = 1\n",
      "Running 9.0 particles on 12 processors\n",
      "acceptence Rate = 0.6242774566473989\n",
      "--------------------\n",
      "Starting step 1\n",
      "epsilon = 0.7262419873514225\n",
      "Running 9.0 particles on 12 processors\n",
      "acceptence Rate = 0.6136363636363636\n",
      "--------------------\n",
      "Starting step 2\n",
      "epsilon = 0.46109246330519355\n",
      "Running 9.0 particles on 12 processors\n",
      "acceptence Rate = 0.5346534653465347\n",
      "--------------------\n",
      "Starting step 3\n",
      "epsilon = 0.22656341642840894\n",
      "Running 9.0 particles on 12 processors\n",
      "acceptence Rate = 0.48868778280542985\n",
      "--------------------\n",
      "Starting step 4\n",
      "epsilon = 0.12157464477117248\n",
      "Running 9.0 particles on 12 processors\n",
      "acceptence Rate = 0.5538461538461539\n",
      "--------------------\n",
      "Starting step 5\n",
      "epsilon = 0.06954275444802921\n",
      "Running 9.0 particles on 12 processors\n",
      "acceptence Rate = 0.5294117647058824\n",
      "--------------------\n",
      "Starting step 6\n",
      "epsilon = 0.047777765630556246\n",
      "Running 9.0 particles on 12 processors\n",
      "acceptence Rate = 0.5167464114832536\n",
      "--------------------\n",
      "Starting step 7\n",
      "epsilon = 0.030410121814375447\n",
      "Running 9.0 particles on 12 processors\n",
      "acceptence Rate = 0.5714285714285714\n",
      "--------------------\n",
      "Starting step 8\n",
      "epsilon = 0.014328283710037401\n",
      "Running 9.0 particles on 12 processors\n",
      "acceptence Rate = 0.5482233502538071\n",
      "--------------------\n",
      "Starting step 9\n",
      "epsilon = 0.009914380726428381\n",
      "Running 9.0 particles on 12 processors\n",
      "acceptence Rate = 0.48\n",
      "--------------------\n",
      "Starting step 10\n",
      "epsilon = 0.007074658618049463\n",
      "Running 9.0 particles on 12 processors\n",
      "acceptence Rate = 0.4444444444444444\n",
      "--------------------\n",
      "Starting step 11\n",
      "epsilon = 0.005659285421380658\n",
      "Running 9.0 particles on 12 processors\n",
      "acceptence Rate = 0.5167464114832536\n",
      "--------------------\n",
      "Starting step 12\n",
      "epsilon = 0.004880554425892483\n",
      "Running 9.0 particles on 12 processors\n",
      "acceptence Rate = 0.4909090909090909\n",
      "--------------------\n",
      "Starting step 13\n",
      "epsilon = 0.004520841425432594\n",
      "Running 9.0 particles on 12 processors\n",
      "acceptence Rate = 0.3737024221453287\n",
      "--------------------\n",
      "Starting step 14\n",
      "epsilon = 0.004334016212261309\n",
      "Running 9.0 particles on 12 processors\n",
      "acceptence Rate = 0.3375\n",
      "--------------------\n",
      "Starting step 15\n",
      "epsilon = 0.004218052391373916\n",
      "Running 9.0 particles on 12 processors\n",
      "acceptence Rate = 0.24770642201834864\n",
      "--------------------\n",
      "Starting step 16\n",
      "epsilon = 0.004096878730736903\n",
      "Running 9.0 particles on 12 processors\n",
      "acceptence Rate = 0.16\n",
      "--------------------\n",
      "Starting step 17\n",
      "epsilon = 0.004010597240962022\n",
      "Running 9.0 particles on 12 processors\n",
      "acceptence Rate = 0.11960132890365449\n",
      "--------------------\n",
      "Starting step 18\n",
      "epsilon = 0.003965474307446261\n",
      "Running 9.0 particles on 12 processors\n",
      "acceptence Rate = 0.08163265306122448\n",
      "--------------------\n",
      "Starting step 19\n",
      "epsilon = 0.00391525014028464\n",
      "Running 9.0 particles on 12 processors\n",
      "acceptence Rate = 0.071475843812045\n",
      "--------------------\n",
      "Starting step 20\n",
      "epsilon = 0.0038730541409114872\n",
      "Running 9.0 particles on 12 processors\n",
      "acceptence Rate = 0.05732484076433121\n",
      "--------------------\n",
      "Starting step 21\n",
      "epsilon = 0.003818997831877013\n",
      "Running 9.0 particles on 12 processors\n",
      "acceptence Rate = 0.032335329341317366\n",
      "--------------------\n",
      "epsilon = 0.0037707390710230108\n",
      "acceptence Rate = 0.032335329341317366\n",
      "END OF FITTING!!!\n",
      "***********************\n"
     ]
    }
   ],
   "source": [
    "# fit with aABC algorithm for any generative model\n",
    "abc_results, final_step = abcTau.fit.fit_withABC(MyModel, data_sumStat, priorDist, inter_save_direc, inter_filename,\\\n",
    "                                                 datasave_path, filenameSave, epsilon_0, min_samples, \\\n",
    "                                                 steps, minAccRate, True, 12, disp)"
   ]
  },
  {
   "cell_type": "code",
   "execution_count": 15,
   "id": "76f3d804",
   "metadata": {},
   "outputs": [],
   "source": [
    "posterior, _, _, _, _, _, _, _ = abc_results[final_step-1]"
   ]
  },
  {
   "cell_type": "markdown",
   "id": "1d899ee9",
   "metadata": {},
   "source": [
    "### Results"
   ]
  },
  {
   "cell_type": "code",
   "execution_count": 19,
   "id": "c7cf0529",
   "metadata": {},
   "outputs": [
    {
     "data": {
      "text/plain": [
       "<matplotlib.legend.Legend at 0x7f1f2576f100>"
      ]
     },
     "execution_count": 19,
     "metadata": {},
     "output_type": "execute_result"
    },
    {
     "data": {
      "image/png": "[encoded data removed]",
      "text/plain": [
       "<Figure size 432x288 with 1 Axes>"
      ]
     },
     "metadata": {
      "needs_background": "light"
     },
     "output_type": "display_data"
    }
   ],
   "source": [
    "plt.violinplot(posterior[0] / fs, showmeans=True)\n",
    "plt.plot([], label='abcTau', color='C0')\n",
    "plt.axhline(tau, color='C1', ls='--', label='Ground Truth')\n",
    "plt.axhline(params[0], color='C2', label='ACF')\n",
    "plt.axhline(knee_tau, color='C3', label='PSD')\n",
    "plt.legend()"
   ]
  }
 ],
 "metadata": {
  "kernelspec": {
   "display_name": "Python 3 (ipykernel)",
   "language": "python",
   "name": "python3"
  },
  "language_info": {
   "codemirror_mode": {
    "name": "ipython",
    "version": 3
   },
   "file_extension": ".py",
   "mimetype": "text/x-python",
   "name": "python",
   "nbconvert_exporter": "python",
   "pygments_lexer": "ipython3",
   "version": "3.8.5"
  }
 },
 "nbformat": 4,
 "nbformat_minor": 5
}
