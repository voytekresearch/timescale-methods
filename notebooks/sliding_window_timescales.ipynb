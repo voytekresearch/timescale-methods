{
 "cells": [
  {
   "cell_type": "code",
   "execution_count": 1,
   "id": "de007feb",
   "metadata": {},
   "outputs": [],
   "source": [
    "import os.path as op\n",
    "import matplotlib.pyplot as plt\n",
    "\n",
    "import numpy as np\n",
    "from scipy.io import loadmat\n",
    "from scipy.stats import ttest_rel, ttest_ind\n",
    "\n",
    "from neurodsp.filt import filter_signal\n",
    "from neurodsp.utils.norm import normalize_sig\n",
    "\n",
    "from timescales.mp import compute_taus\n",
    "from timescales.plts import plot_connected_scatter\n",
    "from timescales.utils import create_windows"
   ]
  },
  {
   "cell_type": "markdown",
   "id": "703a8be7",
   "metadata": {},
   "source": [
    "### Sliding Window Tau\n",
    "\n",
    "#### Background\n",
    "This notebook uses fcx-1, from CRCNS, to investigate sliding window tau estimation. This data consists of two cycles, each with ~7 minutes of wake followed by ~20 minutes of sleep. Based on Watson at al. 2016, they show that overall power increases, corresponding to low variance voltage segments, are associated with non-REM episodes. CRCNS provides times of sleep, non-rem, rem, and micro-arousals. Here, we focus on comparing timescales between sleep vs non-rem, since rem and micro arousals periods contain much less data.\n",
    "\n",
    "\n",
    "#### Method / Results\n",
    "For the ~54 minutes of interest, a window is slide across the data, with a step size of 1s. Each window contains 5s before and 5s after the current sample. Windows are grouped by wake and non-REM sleep periods. A PSD is computed for each window, and a timescale is determined. The results show that short timescales are associate with non-REM periods and long timescales are associated with wake periods.\n",
    "\n",
    "#### Discussion\n",
    "The wake periods tend to have short timescales, but also have lower r-squared values, compared to the non-REM periods. This may mean that there is more noise during the wake periods (i.e. noise from movement) and/or that the Lorenztian isn't the appriopriate model.\n",
    "\n",
    "Many of the wake timescales appear to be > 1s long (< 1 Hz) and Welch's doesn't provide resolution below 1 Hz which may be something to also consider.\n",
    "\n",
    "#### Reference\n",
    "Network Homeostasis and State Dynamics of Neocortical Sleep. Watson BO, Levenstein D, Greene JP, Gelinas JN, Buzsáki G.; Neuron. 2016 Apr 27. pii: S0896-6273(16)30056-3. doi: 10.1016/j.neuron.2016.03.036"
   ]
  },
  {
   "cell_type": "code",
   "execution_count": 2,
   "id": "0378f003",
   "metadata": {},
   "outputs": [],
   "source": [
    "# Load LFP\n",
    "data_dir = '/home/rph/Projects/timescale-methods/fcx1/data_mats'\n",
    "lfp_file = op.join(data_dir, 'data21.mat')\n",
    "\n",
    "fs = 1250\n",
    "sig_lfp = loadmat(lfp_file)['data'][0]\n",
    "sig_lfp = normalize_sig(sig_lfp, mean=0, variance=1)\n",
    "sig_lfp = filter_signal(sig_lfp, fs, 'lowpass', (0, 200))\n",
    "times = np.arange(0, len(sig_lfp)/fs, 1/fs)\n",
    "\n",
    "# Extract behavioral data\n",
    "beh_file = op.join(data_dir, '20140526_277um_WSRestrictedIntervals.mat')\n",
    "\n",
    "beh = loadmat(beh_file)\n",
    "\n",
    "nrem = beh['SWSPacketTimePairFormat'].astype(int) * fs\n",
    "wake = beh['WakeTimePairFormat'].astype(int) * fs\n",
    "rem = beh['REMTimePairFormat'].astype(int) * fs\n",
    "\n",
    "# Settings\n",
    "win_len = int(25*fs)\n",
    "win_spacing = int(fs*25)\n",
    "\n",
    "# Remove edges to reduce edge trial edge effects\n",
    "wake_pad = wake.copy()\n",
    "wake_pad[:, 0] = wake_pad[:, 0] + win_len\n",
    "wake_pad[:, 1] = wake_pad[:, 1] - win_len\n",
    "\n",
    "nrem_pad = nrem.copy()\n",
    "nrem_pad[:, 0] = nrem_pad[:, 0] + win_len\n",
    "nrem_pad[:, 1] = nrem_pad[:, 1] - win_len\n",
    "\n",
    "# Create spectral windows\n",
    "wake_starts, wake_mids, wake_ends = create_windows(wake_pad, win_len, win_spacing)\n",
    "nrem_starts, nrem_mids, nrem_ends = create_windows(nrem_pad, win_len, win_spacing)"
   ]
  },
  {
   "cell_type": "markdown",
   "id": "030757ba",
   "metadata": {},
   "source": [
    "### SpecParam"
   ]
  },
  {
   "cell_type": "code",
   "execution_count": 3,
   "id": "85b634f3",
   "metadata": {},
   "outputs": [
    {
     "data": {
      "application/vnd.jupyter.widget-view+json": {
       "model_id": "b46f9c4dd4c0464b9e36c435d8dc31bd",
       "version_major": 2,
       "version_minor": 0
      },
      "text/plain": [
       "  0%|          | 0/83 [00:00<?, ?it/s]"
      ]
     },
     "metadata": {},
     "output_type": "display_data"
    },
    {
     "data": {
      "application/vnd.jupyter.widget-view+json": {
       "model_id": "a2fe069f33784f7bb73a31ceebf465d8",
       "version_major": 2,
       "version_minor": 0
      },
      "text/plain": [
       "  0%|          | 0/74 [00:00<?, ?it/s]"
      ]
     },
     "metadata": {},
     "output_type": "display_data"
    }
   ],
   "source": [
    "#fooof_kwargs = dict(knee_bounds=(.05, 100000), max_n_peaks=8,\n",
    "#                    peak_threshold=2, peak_width_limits=(1, 12))\n",
    "\n",
    "fooof_kwargs = dict(knee_bounds=(.025, 10), peak_threshold=2.5, peak_width_limits=(4, 12))\n",
    "\n",
    "fit_kwargs = dict(\n",
    "    sig=sig_lfp,\n",
    "    fs=fs,\n",
    "    win_len=win_len,\n",
    "    f_range=(1, 40),\n",
    "    compute_spectrum_kwargs=dict(method='medfilt', avg_type='mean', filt_len=1.),\n",
    "    #compute_spectrum_kwargs=dict(method='welch', avg_type='mean'),\n",
    "    fit_kwargs=fooof_kwargs,\n",
    "    rsq_type='linear'\n",
    ")\n",
    "\n",
    "wake_taus, wake_rsq, wake_fms = compute_taus(wake_starts, method='psd', fit_kwargs=fit_kwargs)\n",
    "nrem_taus, nrem_rsq, nrem_fms = compute_taus(nrem_starts, method='psd', fit_kwargs=fit_kwargs)"
   ]
  },
  {
   "cell_type": "markdown",
   "id": "5b7b88bc",
   "metadata": {},
   "source": [
    "### ACF"
   ]
  },
  {
   "cell_type": "code",
   "execution_count": 4,
   "id": "3dee1e32",
   "metadata": {
    "scrolled": true
   },
   "outputs": [
    {
     "data": {
      "application/vnd.jupyter.widget-view+json": {
       "model_id": "c9581bbd7e724851a32f167ca210a9c9",
       "version_major": 2,
       "version_minor": 0
      },
      "text/plain": [
       "  0%|          | 0/83 [00:00<?, ?it/s]"
      ]
     },
     "metadata": {},
     "output_type": "display_data"
    },
    {
     "data": {
      "application/vnd.jupyter.widget-view+json": {
       "model_id": "e7e44818c42e43acb164bbfe4a2d7c21",
       "version_major": 2,
       "version_minor": 0
      },
      "text/plain": [
       "  0%|          | 0/74 [00:00<?, ?it/s]"
      ]
     },
     "metadata": {},
     "output_type": "display_data"
    }
   ],
   "source": [
    "# ACF\n",
    "bounds = [\n",
    "    [1/(2*np.pi*10), None, None, None, None, None, None],\n",
    "    [1/(2*np.pi*.025), None, None, None, None, None, None]\n",
    "]\n",
    "\n",
    "fit_kwargs = dict(\n",
    "    sig = sig_lfp,\n",
    "    fs = fs,\n",
    "    win_len = win_len,\n",
    "    method = 'cos',\n",
    "    compute_acf_kwargs = dict(nlags=int(1 * fs)),\n",
    "    fit_kwargs = dict(maxfev=10000, bounds=bounds)\n",
    ")\n",
    "\n",
    "wake_taus_acf, wake_rsq_acf, wake_acf_class = compute_taus(wake_starts, method='acf', fit_kwargs=fit_kwargs)\n",
    "nrem_taus_acf, nrem_rsq_acf, nrem_acf_class = compute_taus(nrem_starts, method='acf', fit_kwargs=fit_kwargs)"
   ]
  },
  {
   "cell_type": "markdown",
   "id": "9a42cdbf",
   "metadata": {},
   "source": [
    "### Results"
   ]
  },
  {
   "cell_type": "code",
   "execution_count": null,
   "id": "cf44e36c",
   "metadata": {},
   "outputs": [],
   "source": [
    "# Determine start and end of lfp\n",
    "start_ends = [nrem[0][0], nrem[-1][-1], rem[0][0],\n",
    "              rem[-1][-1], wake[0][0], wake[-1][-1]]\n",
    "\n",
    "start = min(start_ends)-1\n",
    "end = max(start_ends)\n",
    "\n",
    "# Plot\n",
    "fig, ax1 = plt.subplots(figsize=(12, 4))\n",
    "\n",
    "ax1.set_xlabel('Time (s)')\n",
    "ax1.set_ylabel('Normalized Voltage')\n",
    "ax1.plot(times[start:end], sig_lfp[start:end], label='LFP', color='k', alpha=.5)\n",
    "ax1.tick_params(axis='y', labelcolor='k')\n",
    "\n",
    "mids = np.concatenate((wake_mids, nrem_mids)).astype(int)\n",
    "taus_psd = np.concatenate((wake_taus, nrem_taus))\n",
    "taus_acf = np.concatenate((wake_taus_acf, nrem_taus_acf))\n",
    "order = np.argsort(mids)\n",
    "\n",
    "ax2 = ax1.twinx()\n",
    "ax2.set_ylabel('Tau')\n",
    "ax2.plot(times[mids[order]], taus_psd[order], alpha=.8, color='C0', zorder=10, label='Tau PSD')\n",
    "ax2.plot(times[mids[order]], taus_acf[order], alpha=.8, color='C1', zorder=10, label='Tau ACF')\n",
    "ax2.tick_params(axis='y')\n",
    "\n",
    "# Color regions\n",
    "colors = ['C2', 'C3', 'C4']\n",
    "labels = ['REM', 'Non-REM', 'Wake']\n",
    "\n",
    "for periods, color, label in zip([rem, nrem, wake], colors, labels):\n",
    "    for _ind, i in enumerate(periods):\n",
    "        if _ind == 0:\n",
    "            plt.axvspan(i[0]/fs, i[1]/fs, alpha=.25, color=color, zorder=3, label=label)\n",
    "        else:\n",
    "            plt.axvspan(i[0]/fs, i[1]/fs, alpha=.25, color=color, zorder=3)\n",
    "\n",
    "plt.legend(loc='center left', bbox_to_anchor=(1.05, 0.5));"
   ]
  },
  {
   "cell_type": "code",
   "execution_count": null,
   "id": "c855a057",
   "metadata": {},
   "outputs": [],
   "source": [
    "# Remove rsq outliers\n",
    "rsq_thresh = .5\n",
    "\n",
    "wake_keep = np.where((wake_rsq >= rsq_thresh) & (wake_rsq_acf >= rsq_thresh))[0]\n",
    "nrem_keep = np.where((nrem_rsq >= rsq_thresh) & (nrem_rsq_acf >= rsq_thresh))[0]\n",
    "\n",
    "wake_fms = [i for ind, i in enumerate(wake_fms) if ind in wake_keep]\n",
    "nrem_fms = [i for ind, i in enumerate(nrem_fms) if ind in nrem_keep]\n",
    "\n",
    "wake_acf_class = [i for ind, i in enumerate(wake_acf_class) if ind in wake_keep]\n",
    "nrem_acf_class = [i for ind, i in enumerate(nrem_acf_class) if ind in nrem_keep]"
   ]
  },
  {
   "cell_type": "code",
   "execution_count": null,
   "id": "30176fd2",
   "metadata": {
    "scrolled": false
   },
   "outputs": [],
   "source": [
    "fig, axes = plt.subplots(figsize=(15, 15), nrows=2, ncols=2)\n",
    "\n",
    "# Each spectra/acf\n",
    "for _fm in nrem_fms:\n",
    "    axes[0][0].loglog(_fm.freqs, 10**_fm.power_spectrum, color='k', alpha=.05)\n",
    "\n",
    "for _fm in wake_fms:\n",
    "    axes[1][0].loglog(_fm.freqs, 10**_fm.power_spectrum, color='k', alpha=.05)\n",
    "\n",
    "for i, _acf in enumerate(np.array([i.corrs for i in nrem_acf_class])):\n",
    "    axes[0][1].plot(_acf, color='k', alpha=.05)\n",
    "\n",
    "for i, _acf in enumerate(np.array([i.corrs for i in wake_acf_class])):\n",
    "    axes[1][1].plot(_acf, color='k', alpha=.05)\n",
    "    \n",
    "# Mean spectra/acf\n",
    "axes[0][0].plot(_fm.freqs, np.mean(np.array([10**i.power_spectrum for i in nrem_fms]), axis=0),\n",
    "                color='C0')\n",
    "axes[1][0].plot(_fm.freqs, np.mean(np.array([10**i.power_spectrum for i in wake_fms]), axis=0),\n",
    "                color='C0')\n",
    "axes[0][1].plot(np.mean(np.array([i.corrs for i in nrem_acf_class]), axis=0), color='C0')\n",
    "axes[1][1].plot(np.mean(np.array([i.corrs for i in wake_acf_class]), axis=0), color='C0', label='Mean')\n",
    "    \n",
    "# Mean Fits\n",
    "axes[0][0].plot(_fm.freqs, np.mean(np.array([10**i.fooofed_spectrum_ for i in nrem_fms]), axis=0),\n",
    "                color='C1')\n",
    "axes[1][0].plot(_fm.freqs, np.mean(np.array([10**i.fooofed_spectrum_ for i in wake_fms]), axis=0),\n",
    "                color='C1')\n",
    "axes[0][1].plot(np.mean(np.array([i.gen_corrs_fit() for i in nrem_acf_class]), axis=0), color='C1')\n",
    "axes[1][1].plot(np.mean(np.array([i.gen_corrs_fit() for i in wake_acf_class]), axis=0), color='C1', label='Mean Fit')\n",
    "    \n",
    "\n",
    "axes[0][0].set_title('PSD', size=20)\n",
    "axes[0][1].set_title('ACF', size=20)\n",
    "axes[0][0].set_ylabel('Non-REM', size=20)\n",
    "axes[1][0].set_ylabel('Wake', size=20)\n",
    "\n",
    "plt.legend();"
   ]
  },
  {
   "cell_type": "code",
   "execution_count": null,
   "id": "c7070884",
   "metadata": {
    "scrolled": false
   },
   "outputs": [],
   "source": [
    "# Run paired t-test\n",
    "wake_rsq_pval = ttest_rel(wake_rsq[wake_keep], wake_rsq_acf[wake_keep]).pvalue\n",
    "wake_taus_pval = ttest_rel(wake_taus[wake_keep], wake_taus_acf[wake_keep]).pvalue\n",
    "\n",
    "nrem_rsq_pval = ttest_rel(nrem_rsq[nrem_keep], nrem_rsq_acf[nrem_keep]).pvalue\n",
    "nrem_taus_pval = ttest_rel(nrem_taus[nrem_keep], nrem_taus_acf[nrem_keep]).pvalue\n",
    "\n",
    "# Plot\n",
    "fig, axes = plt.subplots(ncols=2, nrows=2, figsize=(15, 15))\n",
    "plot_connected_scatter(wake_taus[wake_keep], wake_taus_acf[wake_keep], axes[0][0], \n",
    "                       f'Wake Tau: PSD vs ACF\\nPaired T-Test P-Value = {wake_taus_pval}',\n",
    "                       ylim=(0, 10))\n",
    "\n",
    "plot_connected_scatter(nrem_taus[nrem_keep], nrem_taus_acf[nrem_keep], axes[0][1],\n",
    "                       f'Non-REM Tau: PSD vs ACF\\nPaired T-Test P-Value = {nrem_taus_pval}',\n",
    "                       ylim=(0, 2))\n",
    "\n",
    "plot_connected_scatter(wake_rsq[wake_keep], wake_rsq_acf[wake_keep], axes[1][0],\n",
    "                       title=f'Wake R^2: PSD vs ACF\\nPaired T-Test P-Value = {wake_rsq_pval}',\n",
    "                       ylim=(.5, 1), ylabel='R^2')\n",
    "\n",
    "plot_connected_scatter(nrem_rsq[nrem_keep], nrem_rsq_acf[nrem_keep], axes[1][1],\n",
    "                       title=f'Non-REM R^2: PSD vs ACF\\nPaired T-Test P-Value = {nrem_rsq_pval}',\n",
    "                       ylim=(.5, 1), ylabel='R^2')"
   ]
  },
  {
   "cell_type": "code",
   "execution_count": null,
   "id": "ff1b327e",
   "metadata": {
    "scrolled": false
   },
   "outputs": [],
   "source": [
    "# Run ind t-test\n",
    "psd_taus_pval = ttest_ind(wake_taus, nrem_taus).pvalue\n",
    "psd_rsq_pval = ttest_ind(wake_rsq, nrem_rsq).pvalue\n",
    "\n",
    "acf_taus_pval = ttest_ind(wake_taus_acf[wake_keep], nrem_taus_acf[nrem_keep]).pvalue\n",
    "acf_rsq_pval = ttest_ind(wake_rsq_acf[wake_keep], nrem_rsq_acf[nrem_keep]).pvalue\n",
    "\n",
    "# Plot\n",
    "fig, axes = plt.subplots(ncols=2, nrows=2, figsize=(15, 15))\n",
    "\n",
    "plot_connected_scatter(wake_taus[wake_keep], nrem_taus[nrem_keep], axes[0][0], \n",
    "                       f'PSD Taus\\nInd T-Test P-Value = {psd_taus_pval}',\n",
    "                       ylim=(0, 5), ticklabels=['Wake', 'Non-REM'], paired=False)\n",
    "\n",
    "plot_connected_scatter(wake_taus_acf[wake_keep], nrem_taus_acf[nrem_keep], axes[0][1],\n",
    "                       f'ACF Taus\\nInd T-Test P-Value = {acf_taus_pval}',\n",
    "                       ylim=(0, 5), ticklabels=['Wake', 'Non-REM'], paired=False)\n",
    "\n",
    "plot_connected_scatter(wake_rsq[wake_keep], nrem_rsq[nrem_keep], axes[1][0],\n",
    "                       title=f'PSD R^2\\nInd T-Test P-Value = {psd_rsq_pval}',\n",
    "                       ylim=(.5, 1), ylabel='R^2', ticklabels=['Wake', 'Non-REM'], paired=False)\n",
    "\n",
    "plot_connected_scatter(wake_rsq_acf[wake_keep], nrem_rsq_acf[nrem_keep], axes[1][1],\n",
    "                       title=f'ACF R^2\\nInd T-Test P-Value = {acf_rsq_pval}',\n",
    "                       ylim=(.5, 1), ylabel='R^2', ticklabels=['Wake', 'Non-REM'], paired=False)"
   ]
  },
  {
   "cell_type": "code",
   "execution_count": null,
   "id": "cc4c1f9d",
   "metadata": {},
   "outputs": [],
   "source": []
  },
  {
   "cell_type": "code",
   "execution_count": null,
   "id": "396ef98c",
   "metadata": {},
   "outputs": [],
   "source": []
  }
 ],
 "metadata": {
  "kernelspec": {
   "display_name": "Python 3",
   "language": "python",
   "name": "python3"
  },
  "language_info": {
   "codemirror_mode": {
    "name": "ipython",
    "version": 3
   },
   "file_extension": ".py",
   "mimetype": "text/x-python",
   "name": "python",
   "nbconvert_exporter": "python",
   "pygments_lexer": "ipython3",
   "version": "3.8.10"
  }
 },
 "nbformat": 4,
 "nbformat_minor": 5
}
